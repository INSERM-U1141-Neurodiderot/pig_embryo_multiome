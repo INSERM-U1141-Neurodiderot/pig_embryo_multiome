{
 "cells": [
  {
   "cell_type": "code",
   "execution_count": 1,
   "id": "423aa173",
   "metadata": {},
   "outputs": [
    {
     "name": "stderr",
     "output_type": "stream",
     "text": [
      "Le chargement a nécessité le package : BiocGenerics\n",
      "\n",
      "\n",
      "Attachement du package : ‘BiocGenerics’\n",
      "\n",
      "\n",
      "Les objets suivants sont masqués depuis ‘package:stats’:\n",
      "\n",
      "    IQR, mad, sd, var, xtabs\n",
      "\n",
      "\n",
      "Les objets suivants sont masqués depuis ‘package:base’:\n",
      "\n",
      "    anyDuplicated, append, as.data.frame, basename, cbind, colnames,\n",
      "    dirname, do.call, duplicated, eval, evalq, Filter, Find, get, grep,\n",
      "    grepl, intersect, is.unsorted, lapply, Map, mapply, match, mget,\n",
      "    order, paste, pmax, pmax.int, pmin, pmin.int, Position, rank,\n",
      "    rbind, Reduce, rownames, sapply, setdiff, sort, table, tapply,\n",
      "    union, unique, unsplit, which.max, which.min\n",
      "\n",
      "\n",
      "Le chargement a nécessité le package : stats4\n",
      "\n",
      "Le chargement a nécessité le package : S4Vectors\n",
      "\n",
      "\n",
      "Attachement du package : ‘S4Vectors’\n",
      "\n",
      "\n",
      "Les objets suivants sont masqués depuis ‘package:base’:\n",
      "\n",
      "    expand.grid, I, unname\n",
      "\n",
      "\n",
      "Le chargement a nécessité le package : IRanges\n",
      "\n",
      "Le chargement a nécessité le package : GenomeInfoDb\n",
      "\n",
      "Le chargement a nécessité le package : AnnotationDbi\n",
      "\n",
      "Le chargement a nécessité le package : Biobase\n",
      "\n",
      "Welcome to Bioconductor\n",
      "\n",
      "    Vignettes contain introductory material; view with\n",
      "    'browseVignettes()'. To cite Bioconductor, see\n",
      "    'citation(\"Biobase\")', and for packages 'citation(\"pkgname\")'.\n",
      "\n",
      "\n",
      "\n",
      "                                                   / |\n",
      "                                                 /    \\\n",
      "            .                                  /      |.\n",
      "            \\\\\\                              /        |.\n",
      "              \\\\\\                          /           `|.\n",
      "                \\\\\\                      /              |.\n",
      "                  \\                    /                |\\\n",
      "                  \\\\#####\\           /                  ||\n",
      "                ==###########>      /                   ||\n",
      "                 \\\\##==......\\    /                     ||\n",
      "            ______ =       =|__ /__                     ||      \\\\\\\n",
      "        ,--' ,----`-,__ ___/'  --,-`-===================##========>\n",
      "       \\               '        ##_______ _____ ,--,__,=##,__   ///\n",
      "        ,    __==    ___,-,__,--'#'  ==='      `-'    | ##,-/\n",
      "        -,____,---'       \\\\####\\\\________________,--\\\\_##,/\n",
      "           ___      .______        ______  __    __  .______      \n",
      "          /   \\     |   _  \\      /      ||  |  |  | |   _  \\     \n",
      "         /  ^  \\    |  |_)  |    |  ,----'|  |__|  | |  |_)  |    \n",
      "        /  /_\\  \\   |      /     |  |     |   __   | |      /     \n",
      "       /  _____  \\  |  |\\  \\\\___ |  `----.|  |  |  | |  |\\  \\\\___.\n",
      "      /__/     \\__\\ | _| `._____| \\______||__|  |__| | _| `._____|\n",
      "    \n",
      "\n",
      "ArchR : Version 1.0.3\n",
      "For more information see our website : www.ArchRProject.com\n",
      "If you encounter a bug please report : https://github.com/GreenleafLab/ArchR/issues\n",
      "\n",
      "Loading Required Packages...\n",
      "\n",
      "\tLoading Package : devtools v2.4.5\n",
      "\n",
      "\tLoading Package : grid v4.1.3\n",
      "\n",
      "\tLoading Package : gridExtra v2.3\n",
      "\n",
      "\tLoading Package : gtools v3.9.4\n",
      "\n",
      "\tLoading Package : gtable v0.3.1\n",
      "\n",
      "\tLoading Package : ggplot2 v3.4.0\n",
      "\n",
      "\tLoading Package : magrittr v2.0.3\n",
      "\n",
      "\tLoading Package : plyr v1.8.8\n",
      "\n",
      "\tLoading Package : stringr v1.5.0\n",
      "\n",
      "\tLoading Package : data.table v1.14.6\n",
      "\n",
      "\tLoading Package : matrixStats v0.63.0\n",
      "\n",
      "\tLoading Package : sparseMatrixStats v1.6.0\n",
      "\n",
      "\tLoading Package : S4Vectors v0.32.4\n",
      "\n",
      "\tLoading Package : GenomicRanges v1.46.1\n",
      "\n",
      "\tLoading Package : BiocGenerics v0.40.0\n",
      "\n",
      "\tLoading Package : Matrix v1.5.3\n",
      "\n",
      "\tLoading Package : Rcpp v1.0.10\n",
      "\n",
      "\tLoading Package : RcppArmadillo v0.11.4.3.1\n",
      "\n",
      "\tLoading Package : SummarizedExperiment v1.24.0\n",
      "\n",
      "\tLoading Package : rhdf5 v2.38.1\n",
      "\n",
      "Le chargement a nécessité le package : BSgenome\n",
      "\n",
      "Le chargement a nécessité le package : Biostrings\n",
      "\n",
      "Le chargement a nécessité le package : XVector\n",
      "\n",
      "\n",
      "Attachement du package : ‘XVector’\n",
      "\n",
      "\n",
      "L'objet suivant est masqué depuis ‘package:plyr’:\n",
      "\n",
      "    compact\n",
      "\n",
      "\n",
      "\n",
      "Attachement du package : ‘Biostrings’\n",
      "\n",
      "\n",
      "L'objet suivant est masqué depuis ‘package:grid’:\n",
      "\n",
      "    pattern\n",
      "\n",
      "\n",
      "L'objet suivant est masqué depuis ‘package:base’:\n",
      "\n",
      "    strsplit\n",
      "\n",
      "\n",
      "Le chargement a nécessité le package : rtracklayer\n",
      "\n",
      "\n",
      "Attachement du package : ‘rtracklayer’\n",
      "\n",
      "\n",
      "L'objet suivant est masqué depuis ‘package:Repitools’:\n",
      "\n",
      "    blocks\n",
      "\n",
      "\n"
     ]
    }
   ],
   "source": [
    "library(\"Repitools\")\n",
    "library(GenomicRanges)\n",
    "library(gprofiler2)\n",
    "library(GenomicFeatures)\n",
    "library(ArchR)\n",
    "library(SuscrofaTxdb.11.102.fixed)"
   ]
  },
  {
   "cell_type": "code",
   "execution_count": 2,
   "id": "d5f5569d",
   "metadata": {},
   "outputs": [
    {
     "name": "stderr",
     "output_type": "stream",
     "text": [
      "Import genomic features from the file as a GRanges object ... \n",
      "OK\n",
      "\n",
      "Prepare the 'metadata' data frame ... \n",
      "OK\n",
      "\n",
      "Make the TxDb object ... \n",
      "Warning message in .get_cds_IDX(mcols0$type, mcols0$phase):\n",
      "“The \"phase\" metadata column contains non-NA values for features of type\n",
      "  stop_codon. This information was ignored.”\n",
      "OK\n",
      "\n"
     ]
    }
   ],
   "source": [
    "txdb_double <- makeTxDbFromGFF(\"/home/adufour/work/genome_and_annotation/plus4pigs.mapped_to_reference.2023_01_18.Sus_scrofa.Sscrofa11.1.108.sorted.gtf\", format=\"gtf\")"
   ]
  },
  {
   "cell_type": "code",
   "execution_count": 3,
   "id": "aa4930fa",
   "metadata": {},
   "outputs": [],
   "source": [
    "transcripts_list <- transcripts(txdb_double, columns=c(\"tx_id\", \"tx_name\",\"gene_id\",\"tx_type\"))"
   ]
  },
  {
   "cell_type": "code",
   "execution_count": 4,
   "id": "e19abe50-6e1c-442f-ad1c-77d93accdaab",
   "metadata": {},
   "outputs": [],
   "source": [
    "df <- annoGR2DF(transcripts_list)"
   ]
  },
  {
   "cell_type": "code",
   "execution_count": 5,
   "id": "aa28c7cb-bcb8-4f9a-b899-f7acb7df021d",
   "metadata": {},
   "outputs": [],
   "source": [
    "df$gene_id <- unlist(df$gene_id)"
   ]
  },
  {
   "cell_type": "code",
   "execution_count": 6,
   "id": "447a5cae-1342-4478-a68e-296c2d8b68f0",
   "metadata": {},
   "outputs": [],
   "source": [
    "df$strand <- as.character(df$strand)"
   ]
  },
  {
   "cell_type": "code",
   "execution_count": 7,
   "id": "a04acbdc-e2fa-4046-85c4-8506c1a7a8dc",
   "metadata": {},
   "outputs": [],
   "source": [
    "df[\"strand\"][df[\"strand\"] == \"+\"] <- 1\n",
    "df[\"strand\"][df[\"strand\"] == \"-\"] <- -1"
   ]
  },
  {
   "cell_type": "code",
   "execution_count": 8,
   "id": "240aa787-8414-4cb3-a9bb-c1d84d9c9e42",
   "metadata": {},
   "outputs": [],
   "source": [
    "df$tx_type <- \"protein_coding\""
   ]
  },
  {
   "cell_type": "code",
   "execution_count": 9,
   "id": "8379b6e6-c9a4-43ec-847a-b34a3c3f8f5b",
   "metadata": {},
   "outputs": [],
   "source": [
    "df <- df[,c(\"chr\", \"start\", \"strand\", \"gene_id\", \"tx_type\")]"
   ]
  },
  {
   "cell_type": "code",
   "execution_count": 10,
   "id": "c1efc78c-7600-434c-82d9-e4797981ed3d",
   "metadata": {},
   "outputs": [],
   "source": [
    "colnames(df) <- c(\"Chromosome\", \"Start\", \"Strand\", \"Gene\", \"Transcript_type\")"
   ]
  },
  {
   "cell_type": "code",
   "execution_count": 11,
   "id": "a75a27e6-ed79-4029-86b2-6456d8a0f6e7",
   "metadata": {},
   "outputs": [
    {
     "data": {
      "text/html": [
       "<table class=\"dataframe\">\n",
       "<caption>A data.frame: 6 × 5</caption>\n",
       "<thead>\n",
       "\t<tr><th></th><th scope=col>Chromosome</th><th scope=col>Start</th><th scope=col>Strand</th><th scope=col>Gene</th><th scope=col>Transcript_type</th></tr>\n",
       "\t<tr><th></th><th scope=col>&lt;fct&gt;</th><th scope=col>&lt;int&gt;</th><th scope=col>&lt;chr&gt;</th><th scope=col>&lt;chr&gt;</th><th scope=col>&lt;chr&gt;</th></tr>\n",
       "</thead>\n",
       "<tbody>\n",
       "\t<tr><th scope=row>1</th><td>1</td><td>   889</td><td>1</td><td>ENSSSCG00000048769</td><td>protein_coding</td></tr>\n",
       "\t<tr><th scope=row>2</th><td>1</td><td> 23676</td><td>1</td><td>ENSSSCG00000027257</td><td>protein_coding</td></tr>\n",
       "\t<tr><th scope=row>3</th><td>1</td><td> 23784</td><td>1</td><td>ENSSSCG00000027257</td><td>protein_coding</td></tr>\n",
       "\t<tr><th scope=row>4</th><td>1</td><td>199358</td><td>1</td><td>ENSSSCG00000027726</td><td>protein_coding</td></tr>\n",
       "\t<tr><th scope=row>5</th><td>1</td><td>540929</td><td>1</td><td>ENSSSCG00000004009</td><td>protein_coding</td></tr>\n",
       "\t<tr><th scope=row>6</th><td>1</td><td>556911</td><td>1</td><td>ENSSSCG00000030155</td><td>protein_coding</td></tr>\n",
       "</tbody>\n",
       "</table>\n"
      ],
      "text/latex": [
       "A data.frame: 6 × 5\n",
       "\\begin{tabular}{r|lllll}\n",
       "  & Chromosome & Start & Strand & Gene & Transcript\\_type\\\\\n",
       "  & <fct> & <int> & <chr> & <chr> & <chr>\\\\\n",
       "\\hline\n",
       "\t1 & 1 &    889 & 1 & ENSSSCG00000048769 & protein\\_coding\\\\\n",
       "\t2 & 1 &  23676 & 1 & ENSSSCG00000027257 & protein\\_coding\\\\\n",
       "\t3 & 1 &  23784 & 1 & ENSSSCG00000027257 & protein\\_coding\\\\\n",
       "\t4 & 1 & 199358 & 1 & ENSSSCG00000027726 & protein\\_coding\\\\\n",
       "\t5 & 1 & 540929 & 1 & ENSSSCG00000004009 & protein\\_coding\\\\\n",
       "\t6 & 1 & 556911 & 1 & ENSSSCG00000030155 & protein\\_coding\\\\\n",
       "\\end{tabular}\n"
      ],
      "text/markdown": [
       "\n",
       "A data.frame: 6 × 5\n",
       "\n",
       "| <!--/--> | Chromosome &lt;fct&gt; | Start &lt;int&gt; | Strand &lt;chr&gt; | Gene &lt;chr&gt; | Transcript_type &lt;chr&gt; |\n",
       "|---|---|---|---|---|---|\n",
       "| 1 | 1 |    889 | 1 | ENSSSCG00000048769 | protein_coding |\n",
       "| 2 | 1 |  23676 | 1 | ENSSSCG00000027257 | protein_coding |\n",
       "| 3 | 1 |  23784 | 1 | ENSSSCG00000027257 | protein_coding |\n",
       "| 4 | 1 | 199358 | 1 | ENSSSCG00000027726 | protein_coding |\n",
       "| 5 | 1 | 540929 | 1 | ENSSSCG00000004009 | protein_coding |\n",
       "| 6 | 1 | 556911 | 1 | ENSSSCG00000030155 | protein_coding |\n",
       "\n"
      ],
      "text/plain": [
       "  Chromosome Start  Strand Gene               Transcript_type\n",
       "1 1             889 1      ENSSSCG00000048769 protein_coding \n",
       "2 1           23676 1      ENSSSCG00000027257 protein_coding \n",
       "3 1           23784 1      ENSSSCG00000027257 protein_coding \n",
       "4 1          199358 1      ENSSSCG00000027726 protein_coding \n",
       "5 1          540929 1      ENSSSCG00000004009 protein_coding \n",
       "6 1          556911 1      ENSSSCG00000030155 protein_coding "
      ]
     },
     "metadata": {},
     "output_type": "display_data"
    }
   ],
   "source": [
    "head(df)"
   ]
  },
  {
   "cell_type": "code",
   "execution_count": 12,
   "id": "5e244d27-5826-45b8-a329-881868a760e7",
   "metadata": {},
   "outputs": [],
   "source": [
    "write.csv(df,\"/home/adufour/work/scenic_omics/tss.csv\", row.names = FALSE)"
   ]
  },
  {
   "cell_type": "code",
   "execution_count": 13,
   "id": "70a5d4a3-278a-4afe-a15d-d3e1967aa13a",
   "metadata": {},
   "outputs": [],
   "source": [
    "transcripts_list_2 <- transcripts(txdb_double, columns=c(\"tx_id\", \"tx_name\",\"gene_id\",\"tx_type\"))"
   ]
  },
  {
   "cell_type": "code",
   "execution_count": 14,
   "id": "1cbf45ba-9c16-4ed1-99d5-cbb1d8a68302",
   "metadata": {},
   "outputs": [],
   "source": [
    "gf_genes <- GenomicFeatures::genes(txdb_double)\n",
    "gene <- annoGR2DF(gf_genes)"
   ]
  },
  {
   "cell_type": "code",
   "execution_count": 15,
   "id": "c034edb3-f35d-4444-bac9-8d1d60144fd9",
   "metadata": {},
   "outputs": [],
   "source": [
    "tss_df <- annoGR2DF(transcripts_list_2)"
   ]
  },
  {
   "cell_type": "code",
   "execution_count": 16,
   "id": "fbec9eb6-026d-4424-bcf5-99993363129e",
   "metadata": {},
   "outputs": [],
   "source": [
    "tss_df$tss <- 0\n",
    "tss_df$tss <- ifelse(tss_df$strand == \"+\", tss_df$start, tss_df$end)"
   ]
  },
  {
   "cell_type": "code",
   "execution_count": 17,
   "id": "6eb92d90-b0db-4662-9e83-db08a72b5c9d",
   "metadata": {},
   "outputs": [],
   "source": [
    "tss_df$gene_id <- unlist(tss_df$gene_id)"
   ]
  },
  {
   "cell_type": "code",
   "execution_count": 18,
   "id": "e851f162-f2db-42af-a3e8-3bb3539e72a8",
   "metadata": {},
   "outputs": [],
   "source": [
    "tss_df <- tss_df[,c(\"chr\", \"strand\", \"gene_id\", \"tx_type\", \"tss\")]"
   ]
  },
  {
   "cell_type": "code",
   "execution_count": 19,
   "id": "6da0d56d-7443-4b54-8d80-43958438cc46",
   "metadata": {},
   "outputs": [],
   "source": [
    "gene_start = function(x){\n",
    "  A = x[3]\n",
    "   \n",
    "  # return product\n",
    "  return(gene$start[gene$gene_id == A])\n",
    "}\n",
    "\n",
    "gene_end = function(x){\n",
    "  A = x[3]\n",
    "   \n",
    "  # return product\n",
    "  return(gene$end[gene$gene_id == A])\n",
    "}"
   ]
  },
  {
   "cell_type": "code",
   "execution_count": 20,
   "id": "fc518c55-1f89-4309-8133-f9161e9c3df2",
   "metadata": {},
   "outputs": [],
   "source": [
    "tss_df$Start <- apply(tss_df, 1, gene_start)\n",
    "tss_df$End <- apply(tss_df, 1, gene_end)"
   ]
  },
  {
   "cell_type": "code",
   "execution_count": 21,
   "id": "3730af9e-313f-44c4-8c9e-fae643608c28",
   "metadata": {},
   "outputs": [],
   "source": [
    "tss_df <- tss_df[,c(\"chr\", \"Start\", \"End\", \"strand\", \"gene_id\", \"tss\", \"tx_type\")]"
   ]
  },
  {
   "cell_type": "code",
   "execution_count": 22,
   "id": "e4f8a5c8-ab60-4d25-9e57-655d3d83bf9e",
   "metadata": {},
   "outputs": [],
   "source": [
    "colnames(tss_df) <- c(\"Chromosome\", \"Start\", \"End\", \"Strand\", \"Gene\", \"Transcription_Start_Site\", \"Transcript_type\")"
   ]
  },
  {
   "cell_type": "code",
   "execution_count": 23,
   "id": "6cd52ed1-ed9f-4a17-9917-eeb0bf251904",
   "metadata": {},
   "outputs": [
    {
     "data": {
      "text/html": [
       "<table class=\"dataframe\">\n",
       "<caption>A data.frame: 6 × 7</caption>\n",
       "<thead>\n",
       "\t<tr><th></th><th scope=col>Chromosome</th><th scope=col>Start</th><th scope=col>End</th><th scope=col>Strand</th><th scope=col>Gene</th><th scope=col>Transcription_Start_Site</th><th scope=col>Transcript_type</th></tr>\n",
       "\t<tr><th></th><th scope=col>&lt;fct&gt;</th><th scope=col>&lt;int&gt;</th><th scope=col>&lt;int&gt;</th><th scope=col>&lt;fct&gt;</th><th scope=col>&lt;chr&gt;</th><th scope=col>&lt;int&gt;</th><th scope=col>&lt;chr&gt;</th></tr>\n",
       "</thead>\n",
       "<tbody>\n",
       "\t<tr><th scope=row>1</th><td>1</td><td>   889</td><td>  3866</td><td>+</td><td>ENSSSCG00000048769</td><td>   889</td><td>transcript</td></tr>\n",
       "\t<tr><th scope=row>2</th><td>1</td><td> 23676</td><td> 40032</td><td>+</td><td>ENSSSCG00000027257</td><td> 23676</td><td>transcript</td></tr>\n",
       "\t<tr><th scope=row>3</th><td>1</td><td> 23676</td><td> 40032</td><td>+</td><td>ENSSSCG00000027257</td><td> 23784</td><td>transcript</td></tr>\n",
       "\t<tr><th scope=row>4</th><td>1</td><td>199358</td><td>211346</td><td>+</td><td>ENSSSCG00000027726</td><td>199358</td><td>transcript</td></tr>\n",
       "\t<tr><th scope=row>5</th><td>1</td><td>540929</td><td>552882</td><td>+</td><td>ENSSSCG00000004009</td><td>540929</td><td>transcript</td></tr>\n",
       "\t<tr><th scope=row>6</th><td>1</td><td>556911</td><td>576708</td><td>+</td><td>ENSSSCG00000030155</td><td>556911</td><td>transcript</td></tr>\n",
       "</tbody>\n",
       "</table>\n"
      ],
      "text/latex": [
       "A data.frame: 6 × 7\n",
       "\\begin{tabular}{r|lllllll}\n",
       "  & Chromosome & Start & End & Strand & Gene & Transcription\\_Start\\_Site & Transcript\\_type\\\\\n",
       "  & <fct> & <int> & <int> & <fct> & <chr> & <int> & <chr>\\\\\n",
       "\\hline\n",
       "\t1 & 1 &    889 &   3866 & + & ENSSSCG00000048769 &    889 & transcript\\\\\n",
       "\t2 & 1 &  23676 &  40032 & + & ENSSSCG00000027257 &  23676 & transcript\\\\\n",
       "\t3 & 1 &  23676 &  40032 & + & ENSSSCG00000027257 &  23784 & transcript\\\\\n",
       "\t4 & 1 & 199358 & 211346 & + & ENSSSCG00000027726 & 199358 & transcript\\\\\n",
       "\t5 & 1 & 540929 & 552882 & + & ENSSSCG00000004009 & 540929 & transcript\\\\\n",
       "\t6 & 1 & 556911 & 576708 & + & ENSSSCG00000030155 & 556911 & transcript\\\\\n",
       "\\end{tabular}\n"
      ],
      "text/markdown": [
       "\n",
       "A data.frame: 6 × 7\n",
       "\n",
       "| <!--/--> | Chromosome &lt;fct&gt; | Start &lt;int&gt; | End &lt;int&gt; | Strand &lt;fct&gt; | Gene &lt;chr&gt; | Transcription_Start_Site &lt;int&gt; | Transcript_type &lt;chr&gt; |\n",
       "|---|---|---|---|---|---|---|---|\n",
       "| 1 | 1 |    889 |   3866 | + | ENSSSCG00000048769 |    889 | transcript |\n",
       "| 2 | 1 |  23676 |  40032 | + | ENSSSCG00000027257 |  23676 | transcript |\n",
       "| 3 | 1 |  23676 |  40032 | + | ENSSSCG00000027257 |  23784 | transcript |\n",
       "| 4 | 1 | 199358 | 211346 | + | ENSSSCG00000027726 | 199358 | transcript |\n",
       "| 5 | 1 | 540929 | 552882 | + | ENSSSCG00000004009 | 540929 | transcript |\n",
       "| 6 | 1 | 556911 | 576708 | + | ENSSSCG00000030155 | 556911 | transcript |\n",
       "\n"
      ],
      "text/plain": [
       "  Chromosome Start  End    Strand Gene               Transcription_Start_Site\n",
       "1 1             889   3866 +      ENSSSCG00000048769    889                  \n",
       "2 1           23676  40032 +      ENSSSCG00000027257  23676                  \n",
       "3 1           23676  40032 +      ENSSSCG00000027257  23784                  \n",
       "4 1          199358 211346 +      ENSSSCG00000027726 199358                  \n",
       "5 1          540929 552882 +      ENSSSCG00000004009 540929                  \n",
       "6 1          556911 576708 +      ENSSSCG00000030155 556911                  \n",
       "  Transcript_type\n",
       "1 transcript     \n",
       "2 transcript     \n",
       "3 transcript     \n",
       "4 transcript     \n",
       "5 transcript     \n",
       "6 transcript     "
      ]
     },
     "metadata": {},
     "output_type": "display_data"
    }
   ],
   "source": [
    "head(tss_df)"
   ]
  },
  {
   "cell_type": "code",
   "execution_count": 24,
   "id": "316d1c30-604d-4730-b4b5-4de34cce44ae",
   "metadata": {},
   "outputs": [],
   "source": [
    "write.csv(tss_df,\"/home/adufour/work/scenic_omics/tss_scp.csv\", row.names = FALSE)"
   ]
  },
  {
   "cell_type": "code",
   "execution_count": 25,
   "id": "cd9ab324-8446-4734-9e3f-cb0e847fe9de",
   "metadata": {},
   "outputs": [
    {
     "name": "stderr",
     "output_type": "stream",
     "text": [
      "Getting genome..\n",
      "\n",
      "Attempting to infer chromSizes..\n",
      "\n",
      "Attempting to infer blacklist..\n",
      "\n",
      "Blacklist not downloaded! Continuing without, be careful for downstream biases..\n",
      "\n"
     ]
    }
   ],
   "source": [
    "genomeAnnotation <- createGenomeAnnotation(SuscrofaTxdb.11.102.fixed, standard = FALSE)"
   ]
  },
  {
   "cell_type": "code",
   "execution_count": 26,
   "id": "1889fe82-53c1-4e92-8871-a03e8259ad70",
   "metadata": {},
   "outputs": [],
   "source": [
    "genome_df <- annoGR2DF(genomeAnnotation@listData$chromSizes)"
   ]
  },
  {
   "cell_type": "code",
   "execution_count": 27,
   "id": "da0cbfa3-bbd9-4e06-aaae-73ac9fa64272",
   "metadata": {},
   "outputs": [],
   "source": [
    "genome_df <- genome_df[,c(\"chr\", \"start\", \"end\")]"
   ]
  },
  {
   "cell_type": "code",
   "execution_count": 28,
   "id": "a7a7ea79-2b86-4e9d-bcf4-e71545255119",
   "metadata": {},
   "outputs": [],
   "source": [
    "colnames(genome_df) <- c(\"Chromosome\", \"Start\", \"End\")"
   ]
  },
  {
   "cell_type": "code",
   "execution_count": 29,
   "id": "c07c77dc-f17b-400f-a8b6-9876f18d279d",
   "metadata": {},
   "outputs": [],
   "source": [
    "write.csv(genome_df,\"/home/adufour/work/scenic_omics/chromsize.csv\", row.names = FALSE)"
   ]
  }
 ],
 "metadata": {
  "kernelspec": {
   "display_name": "R",
   "language": "R",
   "name": "ir"
  },
  "language_info": {
   "codemirror_mode": "r",
   "file_extension": ".r",
   "mimetype": "text/x-r-source",
   "name": "R",
   "pygments_lexer": "r",
   "version": "4.1.3"
  }
 },
 "nbformat": 4,
 "nbformat_minor": 5
}

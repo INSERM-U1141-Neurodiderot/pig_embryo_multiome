{
 "cells": [
  {
   "cell_type": "code",
   "execution_count": 1,
   "id": "ebe8f202-aaad-471b-a669-627665cf96f4",
   "metadata": {
    "iooxa": {
     "id": {
      "block": "2rjpPC4Xok4Vl2qOKZOc",
      "project": "xk5fVis3iOZQ3K1EujFs",
      "version": 1
     },
     "outputId": null
    }
   },
   "outputs": [],
   "source": [
    "import dill\n",
    "import scenicplus\n",
    "infile = open('/home/adufour/work/scenic_omics/embryos/SCENIC/scplus_obj_pre.pkl', 'rb')\n",
    "scplus_obj = dill.load(infile)\n",
    "infile.close()"
   ]
  },
  {
   "cell_type": "code",
   "execution_count": 2,
   "id": "134d7d0d-9dee-4851-a888-004aa7004203",
   "metadata": {},
   "outputs": [],
   "source": [
    "from pycistarget.utils import get_motifs_per_TF\n",
    "from scenicplus.utils import *\n",
    "def get_motifs_for_TF(scplus_obj, TF, annotations_to_use = \"Index\"):\n",
    "    annotations = []\n",
    "    for k in scplus_obj.menr.keys():\n",
    "        if isinstance(scplus_obj.menr[k], dict):\n",
    "            #pycistarget type\n",
    "            for subkey in scplus_obj.menr[k].keys():\n",
    "                motif_list = get_motifs_per_TF(scplus_obj.menr[k][subkey].motif_enrichment, TF, annotations_to_use)\n",
    "                cleanedList = [x for x in motif_list if str(x) != 'nan']\n",
    "                annotations.extend(cleanedList)\n",
    "        else:\n",
    "            #DEM type\n",
    "            for subkey in scplus_obj.menr[k].motif_enrichment.keys():\n",
    "                motif_list = get_motifs_per_TF(scplus_obj.menr[k].motif_enrichment[subkey], TF, annotations_to_use)\n",
    "                cleanedList = [x for x in motif_list if str(x) != 'nan']\n",
    "                annotations.extend(cleanedList)\n",
    "    return set(flatten_list([i.split(', ') if isinstance(i, str) else [i] for i in annotations]))"
   ]
  },
  {
   "cell_type": "code",
   "execution_count": 26,
   "id": "3234ebe6-7e16-4cd9-9c2c-d3e9e3125385",
   "metadata": {},
   "outputs": [],
   "source": [
    "d = []\n",
    "for k in scplus_obj.uns['TF2G_adj'].TF.unique():\n",
    "    d.append(\n",
    "        {\n",
    "            'TF': k,\n",
    "            'Motif': get_motifs_for_TF(scplus_obj, k, annotations_to_use = 'Index'),\n",
    "        }\n",
    "    )\n",
    "motif_df = pd.DataFrame(d)"
   ]
  },
  {
   "cell_type": "code",
   "execution_count": 28,
   "id": "9fc5f24d-8e69-4568-8a11-2fec6280c897",
   "metadata": {},
   "outputs": [],
   "source": [
    "motif_df.to_csv('/home/adufour/work/table/eregulon_motif_embryons.csv') "
   ]
  }
 ],
 "metadata": {
  "kernelspec": {
   "display_name": "Python [conda env:scenicplus2]",
   "language": "python",
   "name": "conda-env-scenicplus2-py"
  },
  "language_info": {
   "codemirror_mode": {
    "name": "ipython",
    "version": 3
   },
   "file_extension": ".py",
   "mimetype": "text/x-python",
   "name": "python",
   "nbconvert_exporter": "python",
   "pygments_lexer": "ipython3",
   "version": "3.8.17"
  }
 },
 "nbformat": 4,
 "nbformat_minor": 5
}

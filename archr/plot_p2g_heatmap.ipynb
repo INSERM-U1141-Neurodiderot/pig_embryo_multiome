{
 "cells": [
  {
   "cell_type": "code",
   "execution_count": 1,
   "id": "ebbe640d-d815-403c-b5fa-334c0cf9de6a",
   "metadata": {
    "scrolled": true
   },
   "outputs": [
    {
     "name": "stderr",
     "output_type": "stream",
     "text": [
      "\n",
      "                                                   / |\n",
      "                                                 /    \\\n",
      "            .                                  /      |.\n",
      "            \\\\\\                              /        |.\n",
      "              \\\\\\                          /           `|.\n",
      "                \\\\\\                      /              |.\n",
      "                  \\                    /                |\\\n",
      "                  \\\\#####\\           /                  ||\n",
      "                ==###########>      /                   ||\n",
      "                 \\\\##==......\\    /                     ||\n",
      "            ______ =       =|__ /__                     ||      \\\\\\\n",
      "        ,--' ,----`-,__ ___/'  --,-`-===================##========>\n",
      "       \\               '        ##_______ _____ ,--,__,=##,__   ///\n",
      "        ,    __==    ___,-,__,--'#'  ==='      `-'    | ##,-/\n",
      "        -,____,---'       \\\\####\\\\________________,--\\\\_##,/\n",
      "           ___      .______        ______  __    __  .______      \n",
      "          /   \\     |   _  \\      /      ||  |  |  | |   _  \\     \n",
      "         /  ^  \\    |  |_)  |    |  ,----'|  |__|  | |  |_)  |    \n",
      "        /  /_\\  \\   |      /     |  |     |   __   | |      /     \n",
      "       /  _____  \\  |  |\\  \\\\___ |  `----.|  |  |  | |  |\\  \\\\___.\n",
      "      /__/     \\__\\ | _| `._____| \\______||__|  |__| | _| `._____|\n",
      "    \n",
      "\n",
      "ArchR : Version 1.0.3\n",
      "For more information see our website : www.ArchRProject.com\n",
      "If you encounter a bug please report : https://github.com/GreenleafLab/ArchR/issues\n",
      "\n",
      "Loading Required Packages...\n",
      "\n",
      "\tLoading Package : devtools v2.4.5\n",
      "\n",
      "Warning message:\n",
      "“le package ‘devtools’ a été compilé avec la version R 4.2.3”\n",
      "Warning message:\n",
      "“le package ‘usethis’ a été compilé avec la version R 4.2.3”\n",
      "\tLoading Package : grid v4.2.2\n",
      "\n",
      "\tLoading Package : gridExtra v2.3\n",
      "\n",
      "Warning message:\n",
      "“le package ‘gridExtra’ a été compilé avec la version R 4.2.3”\n",
      "\tLoading Package : gtools v3.9.4\n",
      "\n",
      "Warning message:\n",
      "“le package ‘gtools’ a été compilé avec la version R 4.2.3”\n",
      "\tLoading Package : gtable v0.3.3\n",
      "\n",
      "Warning message:\n",
      "“le package ‘gtable’ a été compilé avec la version R 4.2.3”\n",
      "\tLoading Package : ggplot2 v3.4.2\n",
      "\n",
      "Warning message:\n",
      "“le package ‘ggplot2’ a été compilé avec la version R 4.2.3”\n",
      "\tLoading Package : magrittr v2.0.3\n",
      "\n",
      "Warning message:\n",
      "“le package ‘magrittr’ a été compilé avec la version R 4.2.3”\n",
      "\tLoading Package : plyr v1.8.8\n",
      "\n",
      "Warning message:\n",
      "“le package ‘plyr’ a été compilé avec la version R 4.2.3”\n",
      "\tLoading Package : stringr v1.5.0\n",
      "\n",
      "Warning message:\n",
      "“le package ‘stringr’ a été compilé avec la version R 4.2.3”\n",
      "\tLoading Package : data.table v1.14.8\n",
      "\n",
      "Warning message:\n",
      "“le package ‘data.table’ a été compilé avec la version R 4.2.3”\n",
      "\tLoading Package : matrixStats v1.0.0\n",
      "\n",
      "Warning message:\n",
      "“le package ‘matrixStats’ a été compilé avec la version R 4.2.3”\n",
      "\tLoading Package : sparseMatrixStats v1.10.0\n",
      "\n",
      "Warning message:\n",
      "“le package ‘sparseMatrixStats’ a été compilé avec la version R 4.2.3”\n",
      "\tLoading Package : S4Vectors v0.36.0\n",
      "\n",
      "\tLoading Package : GenomicRanges v1.50.0\n",
      "\n",
      "Warning message:\n",
      "“le package ‘GenomeInfoDb’ a été compilé avec la version R 4.2.3”\n",
      "\tLoading Package : BiocGenerics v0.44.0\n",
      "\n",
      "\tLoading Package : Matrix v1.6.0\n",
      "\n",
      "Warning message:\n",
      "“le package ‘Matrix’ a été compilé avec la version R 4.2.3”\n",
      "\tLoading Package : Rcpp v1.0.11\n",
      "\n",
      "Warning message:\n",
      "“le package ‘Rcpp’ a été compilé avec la version R 4.2.3”\n",
      "\tLoading Package : RcppArmadillo v0.12.4.1.0\n",
      "\n",
      "Warning message:\n",
      "“le package ‘RcppArmadillo’ a été compilé avec la version R 4.2.3”\n",
      "\tLoading Package : SummarizedExperiment v1.28.0\n",
      "\n",
      "\tLoading Package : rhdf5 v2.42.0\n",
      "\n",
      "Warning message:\n",
      "“le package ‘rhdf5’ a été compilé avec la version R 4.2.3”\n",
      "Le chargement a nécessité le package : AnnotationDbi\n",
      "\n",
      "\n",
      "\n",
      "Le chargement a nécessité le package : BSgenome\n",
      "\n",
      "Le chargement a nécessité le package : Biostrings\n",
      "\n",
      "Le chargement a nécessité le package : XVector\n",
      "\n",
      "\n",
      "Attachement du package : ‘XVector’\n",
      "\n",
      "\n",
      "L'objet suivant est masqué depuis ‘package:plyr’:\n",
      "\n",
      "    compact\n",
      "\n",
      "\n",
      "\n",
      "Attachement du package : ‘Biostrings’\n",
      "\n",
      "\n",
      "L'objet suivant est masqué depuis ‘package:grid’:\n",
      "\n",
      "    pattern\n",
      "\n",
      "\n",
      "L'objet suivant est masqué depuis ‘package:base’:\n",
      "\n",
      "    strsplit\n",
      "\n",
      "\n",
      "Le chargement a nécessité le package : rtracklayer\n",
      "\n",
      "Warning message:\n",
      "“le package ‘rtracklayer’ a été compilé avec la version R 4.2.3”\n"
     ]
    }
   ],
   "source": [
    "library(ArchR)\n",
    "library(org.Ss.eg.db)\n",
    "library(SuscrofaTxdb.11.108.july)\n",
    "library(stringr)"
   ]
  },
  {
   "cell_type": "code",
   "execution_count": 2,
   "id": "5160a95f-4030-478b-a1ca-f6acc6989235",
   "metadata": {},
   "outputs": [],
   "source": [
    "getFreqs <- function(x){\n",
    "  # Return a named vector of frequencies of x\n",
    "  tab <- table(x) %>% as.data.frame.table()\n",
    "  frqs <- tab$Freq\n",
    "  names(frqs) <- tab[,1]\n",
    "  frqs[order(frqs, decreasing=TRUE)]\n",
    "}"
   ]
  },
  {
   "cell_type": "code",
   "execution_count": 3,
   "id": "aebad78f-71b6-44d9-bead-d2bf10be8bc5",
   "metadata": {},
   "outputs": [],
   "source": [
    "options(repr.plot.width = 18, repr.plot.height = 17, repr.plot.pointsize = 24)"
   ]
  },
  {
   "cell_type": "code",
   "execution_count": 4,
   "id": "d7f4688a-f2c4-4065-a0ce-b7943a9017b2",
   "metadata": {},
   "outputs": [
    {
     "name": "stderr",
     "output_type": "stream",
     "text": [
      "Setting default number of Parallel threads to 1.\n",
      "\n",
      "Setting ArchRLocking to TRUE.\n",
      "\n"
     ]
    }
   ],
   "source": [
    "addArchRThreads(1)\n",
    "addArchRLocking(locking = TRUE)"
   ]
  },
  {
   "cell_type": "code",
   "execution_count": 30,
   "id": "80e88bd5-1292-4f71-bcb2-fb8e8293cea4",
   "metadata": {},
   "outputs": [],
   "source": [
    "load(file = \"/home/adufour/work/rds_storage/omics/archr_all_v6.RData\")"
   ]
  },
  {
   "cell_type": "code",
   "execution_count": 31,
   "id": "a5d6b5bb-eb99-46dd-aaaa-d1c719de82cc",
   "metadata": {},
   "outputs": [],
   "source": [
    "metadata(archrproj_sub@peakSet)$Peak2GeneLinks@metadata$seATAC <- \"/home/adufour/work/archr/archr_all_v6/ArchRSubset/Peak2GeneLinks/seATAC-Group-KNN.rds\"\n",
    "metadata(archrproj_sub@peakSet)$Peak2GeneLinks@metadata$seRNA <- \"/home/adufour/work/archr/archr_all_v6/ArchRSubset/Peak2GeneLinks/seRNA-Group-KNN.rds\""
   ]
  },
  {
   "cell_type": "code",
   "execution_count": 32,
   "id": "aee116e0-fd4a-4e56-a4f8-39ad64955501",
   "metadata": {},
   "outputs": [],
   "source": [
    "nclust <- 8"
   ]
  },
  {
   "cell_type": "code",
   "execution_count": 33,
   "id": "c8a4ba95-85f6-42f9-9fc6-313ccd51cc22",
   "metadata": {},
   "outputs": [
    {
     "data": {
      "text/html": [
       "<style>\n",
       ".dl-inline {width: auto; margin:0; padding: 0}\n",
       ".dl-inline>dt, .dl-inline>dd {float: none; width: auto; display: inline-block}\n",
       ".dl-inline>dt::after {content: \":\\0020\"; padding-right: .5ex}\n",
       ".dl-inline>dt:not(:first-of-type) {padding-left: .5ex}\n",
       "</style><dl class=dl-inline><dt>C1</dt><dd>'#D51F26'</dd><dt>C2</dt><dd>'#272E6A'</dd><dt>C3</dt><dd>'#208A42'</dd><dt>C4</dt><dd>'#89288F'</dd><dt>C5</dt><dd>'#F47D2B'</dd><dt>C6</dt><dd>'#FEE500'</dd></dl>\n"
      ],
      "text/latex": [
       "\\begin{description*}\n",
       "\\item[C1] '\\#D51F26'\n",
       "\\item[C2] '\\#272E6A'\n",
       "\\item[C3] '\\#208A42'\n",
       "\\item[C4] '\\#89288F'\n",
       "\\item[C5] '\\#F47D2B'\n",
       "\\item[C6] '\\#FEE500'\n",
       "\\end{description*}\n"
      ],
      "text/markdown": [
       "C1\n",
       ":   '#D51F26'C2\n",
       ":   '#272E6A'C3\n",
       ":   '#208A42'C4\n",
       ":   '#89288F'C5\n",
       ":   '#F47D2B'C6\n",
       ":   '#FEE500'\n",
       "\n"
      ],
      "text/plain": [
       "       C1        C2        C3        C4        C5        C6 \n",
       "\"#D51F26\" \"#272E6A\" \"#208A42\" \"#89288F\" \"#F47D2B\" \"#FEE500\" "
      ]
     },
     "metadata": {},
     "output_type": "display_data"
    }
   ],
   "source": [
    "paletteDiscrete(archrproj_sub$Clusters) "
   ]
  },
  {
   "cell_type": "code",
   "execution_count": 34,
   "id": "84b9d9f4-1fd5-482e-b6a5-9b45e744f16c",
   "metadata": {},
   "outputs": [],
   "source": [
    "colors_dutch <- c(\n",
    "  '#B6E0EE','#00b894','#78c4ce','#fdcb6e','#996ea5',\n",
    "  '#ce8787','#A3CB38','#1289A7')"
   ]
  },
  {
   "cell_type": "code",
   "execution_count": 35,
   "id": "81ece0e6-e4ee-452b-8eec-935a40b23078",
   "metadata": {},
   "outputs": [],
   "source": [
    "names(colors_dutch) <- c(\"C1\", \"C2\", \"C3\", \"C4\", \"C5\", \"C6\")"
   ]
  },
  {
   "cell_type": "code",
   "execution_count": 36,
   "id": "dd23af35-4685-41d4-add0-b8eb2af799be",
   "metadata": {},
   "outputs": [
    {
     "name": "stderr",
     "output_type": "stream",
     "text": [
      "ArchR logging to : ArchRLogs/ArchR-plotPeak2GeneHeatmap-3124195f8e16d6-Date-2023-08-18_Time-17-30-39.log\n",
      "If there is an issue, please report to github with logFile!\n",
      "\n",
      "2023-08-18 17:30:43 : Determining KNN Groups!, 0.069 mins elapsed.\n",
      "\n",
      "2023-08-18 17:30:45 : Ordering Peak2Gene Links!, 0.104 mins elapsed.\n",
      "\n"
     ]
    }
   ],
   "source": [
    "p2gmat <- plotPeak2GeneHeatmap(\n",
    "  archrproj_sub, \n",
    "  corCutOff = 0.5, \n",
    "  groupBy=\"Clusters\",\n",
    "  nPlot = 1000000,\n",
    "  returnMatrices=TRUE, \n",
    "  #palGroup = colors_dutch,\n",
    "  k=nclust,\n",
    "  seed=1)"
   ]
  },
  {
   "cell_type": "code",
   "execution_count": 29,
   "id": "b7e19197-8bea-4c11-8990-2fd846e3fe6d",
   "metadata": {},
   "outputs": [
    {
     "name": "stderr",
     "output_type": "stream",
     "text": [
      "ArchR logging to : ArchRLogs/ArchR-plotPeak2GeneHeatmap-312419fd985be-Date-2023-08-18_Time-17-23-49.log\n",
      "If there is an issue, please report to github with logFile!\n",
      "\n",
      "2023-08-18 17:23:52 : Determining KNN Groups!, 0.056 mins elapsed.\n",
      "\n"
     ]
    },
    {
     "ename": "ERROR",
     "evalue": "Error in DataFrame(row.names = paste0(\"K_\", seq_len(ncol(mATAC))), groupBy = KNNGroups): invalid length of row names\n",
     "output_type": "error",
     "traceback": [
      "Error in DataFrame(row.names = paste0(\"K_\", seq_len(ncol(mATAC))), groupBy = KNNGroups): invalid length of row names\nTraceback:\n",
      "1. plotPeak2GeneHeatmap(archrproj_sub, corCutOff = 0.5, groupBy = \"Clusters\", \n .     nPlot = 1e+06, returnMatrices = FALSE, k = nclust, seed = 1)",
      "2. DataFrame(row.names = paste0(\"K_\", seq_len(ncol(mATAC))), groupBy = KNNGroups)",
      "3. stop(\"invalid length of row names\")"
     ]
    }
   ],
   "source": [
    "p2gplot <- plotPeak2GeneHeatmap(\n",
    "  archrproj_sub, \n",
    "  corCutOff = 0.5, \n",
    "  groupBy=\"Clusters\",\n",
    "  nPlot = 1000000,\n",
    "  returnMatrices=FALSE, \n",
    "  #palGroup = colors_dutch,\n",
    "  k=nclust,\n",
    "  seed=1)"
   ]
  },
  {
   "cell_type": "code",
   "execution_count": null,
   "id": "7c019d15-1d87-4451-ac24-47503634b6d4",
   "metadata": {},
   "outputs": [],
   "source": [
    "p2gplot"
   ]
  },
  {
   "cell_type": "code",
   "execution_count": 17,
   "id": "132b0054-a3e3-4913-8e8d-51e01c5ff631",
   "metadata": {},
   "outputs": [
    {
     "name": "stderr",
     "output_type": "stream",
     "text": [
      "Linking to ImageMagick 7.1.1.2\n",
      "Enabled features: cairo, fontconfig, freetype, fftw, rsvg, webp, x11\n",
      "Disabled features: ghostscript, heic, lcms, pango, raw\n",
      "\n"
     ]
    }
   ],
   "source": [
    "library(svglite)\n",
    "library(magick)"
   ]
  },
  {
   "cell_type": "code",
   "execution_count": 18,
   "id": "c5a69dd1-2ba1-4539-8624-70f7ac8cdcae",
   "metadata": {},
   "outputs": [
    {
     "data": {
      "text/html": [
       "<strong>png:</strong> 2"
      ],
      "text/latex": [
       "\\textbf{png:} 2"
      ],
      "text/markdown": [
       "**png:** 2"
      ],
      "text/plain": [
       "png \n",
       "  2 "
      ]
     },
     "metadata": {},
     "output_type": "display_data"
    }
   ],
   "source": [
    "svglite('/home/adufour/work/notebook/plots/omics/p2g_heatmap_stemcells.svg', width = 17, height = 20)\n",
    "p2gplot\n",
    "dev.off()"
   ]
  },
  {
   "cell_type": "code",
   "execution_count": 62,
   "id": "b7cb3b45-f513-4ba1-b3a5-927c071dc2da",
   "metadata": {},
   "outputs": [
    {
     "data": {
      "text/plain": [
       "\n",
       "    1     2     3     4     5     6     7     8 \n",
       " 2490  2888 10260  5037  1402  5223 10244 12787 "
      ]
     },
     "metadata": {},
     "output_type": "display_data"
    }
   ],
   "source": [
    "table(kclust_df$kclust)"
   ]
  }
 ],
 "metadata": {
  "kernelspec": {
   "display_name": "R [conda env:archer]",
   "language": "R",
   "name": "conda-env-archer-r"
  },
  "language_info": {
   "codemirror_mode": "r",
   "file_extension": ".r",
   "mimetype": "text/x-r-source",
   "name": "R",
   "pygments_lexer": "r",
   "version": "4.2.2"
  }
 },
 "nbformat": 4,
 "nbformat_minor": 5
}

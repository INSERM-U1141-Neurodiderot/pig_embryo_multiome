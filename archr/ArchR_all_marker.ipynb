{
 "cells": [
  {
   "cell_type": "markdown",
   "metadata": {},
   "source": [
    "# Test notebook"
   ]
  },
  {
   "cell_type": "code",
   "execution_count": 1,
   "metadata": {
    "scrolled": true,
    "tags": [],
    "vscode": {
     "languageId": "r"
    }
   },
   "outputs": [
    {
     "name": "stderr",
     "output_type": "stream",
     "text": [
      "\n",
      "                                                   / |\n",
      "                                                 /    \\\n",
      "            .                                  /      |.\n",
      "            \\\\\\                              /        |.\n",
      "              \\\\\\                          /           `|.\n",
      "                \\\\\\                      /              |.\n",
      "                  \\                    /                |\\\n",
      "                  \\\\#####\\           /                  ||\n",
      "                ==###########>      /                   ||\n",
      "                 \\\\##==......\\    /                     ||\n",
      "            ______ =       =|__ /__                     ||      \\\\\\\n",
      "        ,--' ,----`-,__ ___/'  --,-`-===================##========>\n",
      "       \\               '        ##_______ _____ ,--,__,=##,__   ///\n",
      "        ,    __==    ___,-,__,--'#'  ==='      `-'    | ##,-/\n",
      "        -,____,---'       \\\\####\\\\________________,--\\\\_##,/\n",
      "           ___      .______        ______  __    __  .______      \n",
      "          /   \\     |   _  \\      /      ||  |  |  | |   _  \\     \n",
      "         /  ^  \\    |  |_)  |    |  ,----'|  |__|  | |  |_)  |    \n",
      "        /  /_\\  \\   |      /     |  |     |   __   | |      /     \n",
      "       /  _____  \\  |  |\\  \\\\___ |  `----.|  |  |  | |  |\\  \\\\___.\n",
      "      /__/     \\__\\ | _| `._____| \\______||__|  |__| | _| `._____|\n",
      "    \n",
      "\n",
      "ArchR : Version 1.0.3\n",
      "For more information see our website : www.ArchRProject.com\n",
      "If you encounter a bug please report : https://github.com/GreenleafLab/ArchR/issues\n",
      "\n",
      "Loading Required Packages...\n",
      "\n",
      "\tLoading Package : devtools v2.4.5\n",
      "\n",
      "Warning message:\n",
      "“le package ‘devtools’ a été compilé avec la version R 4.2.3”\n",
      "Warning message:\n",
      "“le package ‘usethis’ a été compilé avec la version R 4.2.3”\n",
      "\tLoading Package : grid v4.2.2\n",
      "\n",
      "\tLoading Package : gridExtra v2.3\n",
      "\n",
      "Warning message:\n",
      "“le package ‘gridExtra’ a été compilé avec la version R 4.2.3”\n",
      "\tLoading Package : gtools v3.9.4\n",
      "\n",
      "Warning message:\n",
      "“le package ‘gtools’ a été compilé avec la version R 4.2.3”\n",
      "\tLoading Package : gtable v0.3.3\n",
      "\n",
      "Warning message:\n",
      "“le package ‘gtable’ a été compilé avec la version R 4.2.3”\n",
      "\tLoading Package : ggplot2 v3.4.2\n",
      "\n",
      "Warning message:\n",
      "“le package ‘ggplot2’ a été compilé avec la version R 4.2.3”\n",
      "\tLoading Package : magrittr v2.0.3\n",
      "\n",
      "Warning message:\n",
      "“le package ‘magrittr’ a été compilé avec la version R 4.2.3”\n",
      "\tLoading Package : plyr v1.8.8\n",
      "\n",
      "Warning message:\n",
      "“le package ‘plyr’ a été compilé avec la version R 4.2.3”\n",
      "\tLoading Package : stringr v1.5.0\n",
      "\n",
      "Warning message:\n",
      "“le package ‘stringr’ a été compilé avec la version R 4.2.3”\n",
      "\tLoading Package : data.table v1.14.8\n",
      "\n",
      "Warning message:\n",
      "“le package ‘data.table’ a été compilé avec la version R 4.2.3”\n",
      "\tLoading Package : matrixStats v1.0.0\n",
      "\n",
      "Warning message:\n",
      "“le package ‘matrixStats’ a été compilé avec la version R 4.2.3”\n",
      "\tLoading Package : sparseMatrixStats v1.10.0\n",
      "\n",
      "Warning message:\n",
      "“le package ‘sparseMatrixStats’ a été compilé avec la version R 4.2.3”\n",
      "\tLoading Package : S4Vectors v0.36.0\n",
      "\n",
      "\tLoading Package : GenomicRanges v1.50.0\n",
      "\n",
      "Warning message:\n",
      "“le package ‘GenomeInfoDb’ a été compilé avec la version R 4.2.3”\n",
      "\tLoading Package : BiocGenerics v0.44.0\n",
      "\n",
      "\tLoading Package : Matrix v1.6.0\n",
      "\n",
      "Warning message:\n",
      "“le package ‘Matrix’ a été compilé avec la version R 4.2.3”\n",
      "\tLoading Package : Rcpp v1.0.11\n",
      "\n",
      "Warning message:\n",
      "“le package ‘Rcpp’ a été compilé avec la version R 4.2.3”\n",
      "\tLoading Package : RcppArmadillo v0.12.4.1.0\n",
      "\n",
      "Warning message:\n",
      "“le package ‘RcppArmadillo’ a été compilé avec la version R 4.2.3”\n",
      "\tLoading Package : SummarizedExperiment v1.28.0\n",
      "\n",
      "\tLoading Package : rhdf5 v2.42.0\n",
      "\n",
      "Warning message:\n",
      "“le package ‘rhdf5’ a été compilé avec la version R 4.2.3”\n",
      "Le chargement a nécessité le package : AnnotationDbi\n",
      "\n",
      "\n",
      "\n",
      "Le chargement a nécessité le package : BSgenome\n",
      "\n",
      "Le chargement a nécessité le package : Biostrings\n",
      "\n",
      "Le chargement a nécessité le package : XVector\n",
      "\n",
      "\n",
      "Attachement du package : ‘XVector’\n",
      "\n",
      "\n",
      "L'objet suivant est masqué depuis ‘package:plyr’:\n",
      "\n",
      "    compact\n",
      "\n",
      "\n",
      "\n",
      "Attachement du package : ‘Biostrings’\n",
      "\n",
      "\n",
      "L'objet suivant est masqué depuis ‘package:grid’:\n",
      "\n",
      "    pattern\n",
      "\n",
      "\n",
      "L'objet suivant est masqué depuis ‘package:base’:\n",
      "\n",
      "    strsplit\n",
      "\n",
      "\n",
      "Le chargement a nécessité le package : rtracklayer\n",
      "\n",
      "Warning message:\n",
      "“le package ‘rtracklayer’ a été compilé avec la version R 4.2.3”\n"
     ]
    }
   ],
   "source": [
    "library(ArchR)\n",
    "library(org.Ss.eg.db)\n",
    "library(SuscrofaTxdb.11.108.july)"
   ]
  },
  {
   "cell_type": "code",
   "execution_count": 2,
   "metadata": {
    "vscode": {
     "languageId": "r"
    }
   },
   "outputs": [],
   "source": [
    "options(repr.plot.width = 18, repr.plot.height = 17, repr.plot.pointsize = 24)"
   ]
  },
  {
   "cell_type": "code",
   "execution_count": 3,
   "metadata": {
    "vscode": {
     "languageId": "r"
    }
   },
   "outputs": [
    {
     "name": "stderr",
     "output_type": "stream",
     "text": [
      "Setting default number of Parallel threads to 2.\n",
      "\n"
     ]
    }
   ],
   "source": [
    "addArchRThreads(2)"
   ]
  },
  {
   "cell_type": "code",
   "execution_count": 4,
   "metadata": {
    "vscode": {
     "languageId": "r"
    }
   },
   "outputs": [],
   "source": [
    "load(file = \"/home/adufour/work/rds_storage/omics/archr_all_v7_embryo.RData\")"
   ]
  },
  {
   "cell_type": "code",
   "execution_count": 5,
   "metadata": {
    "vscode": {
     "languageId": "r"
    }
   },
   "outputs": [
    {
     "name": "stderr",
     "output_type": "stream",
     "text": [
      "ArchR logging to : ArchRLogs/ArchR-getMarkerFeatures-3bc7a3373b4994-Date-2024-03-07_Time-09-07-37.log\n",
      "If there is an issue, please report to github with logFile!\n",
      "\n",
      "MatrixClass = Sparse.Double.Matrix\n",
      "\n",
      "2024-03-07 09:07:39 : Matching Known Biases, 0.026 mins elapsed.\n",
      "\n",
      "Warning message:\n",
      "“le package ‘nabor’ a été compilé avec la version R 4.2.3”\n",
      "###########\n",
      "2024-03-07 10:18:49 : Completed Pairwise Tests, 71.195 mins elapsed.\n",
      "###########\n",
      "\n",
      "ArchR logging successful to : ArchRLogs/ArchR-getMarkerFeatures-3bc7a3373b4994-Date-2024-03-07_Time-09-07-37.log\n",
      "\n"
     ]
    }
   ],
   "source": [
    "markersGS <- getMarkerFeatures(\n",
    "    ArchRProj = archrproj_sub, \n",
    "    useMatrix = \"GeneExpressionMatrix\", \n",
    "    groupBy = \"Clusters\",\n",
    "    testMethod = \"wilcoxon\"\n",
    ")"
   ]
  },
  {
   "cell_type": "code",
   "execution_count": 6,
   "metadata": {
    "vscode": {
     "languageId": "r"
    }
   },
   "outputs": [
    {
     "data": {
      "text/plain": [
       "class: SummarizedExperiment \n",
       "dim: 6 4 \n",
       "metadata(2): MatchInfo Params\n",
       "assays(7): Log2FC Mean ... AUC MeanBGD\n",
       "rownames(6): 1 2 ... 5 6\n",
       "rowData names(6): seqnames idx ... name strand\n",
       "colnames(4): C1 C2 C3 C4\n",
       "colData names(0):"
      ]
     },
     "metadata": {},
     "output_type": "display_data"
    }
   ],
   "source": [
    "head(markersGS)"
   ]
  },
  {
   "cell_type": "code",
   "execution_count": 7,
   "metadata": {
    "vscode": {
     "languageId": "r"
    }
   },
   "outputs": [],
   "source": [
    "markerList <- getMarkers(markersGS, cutOff = \"FDR <= 0.01 & Log2FC >= 1.25\")"
   ]
  },
  {
   "cell_type": "code",
   "execution_count": 8,
   "metadata": {
    "vscode": {
     "languageId": "r"
    }
   },
   "outputs": [],
   "source": [
    "saveRDS(markerList, file = \"/home/adufour/work/rds_storage/markers_all.rds\")"
   ]
  },
  {
   "cell_type": "code",
   "execution_count": 10,
   "metadata": {
    "vscode": {
     "languageId": "r"
    }
   },
   "outputs": [
    {
     "data": {
      "text/plain": [
       "List of length 4\n",
       "names(4): C1 C2 C3 C4"
      ]
     },
     "metadata": {},
     "output_type": "display_data"
    }
   ],
   "source": [
    "markerList"
   ]
  },
  {
   "cell_type": "code",
   "execution_count": 11,
   "metadata": {
    "vscode": {
     "languageId": "r"
    }
   },
   "outputs": [],
   "source": [
    "write.csv(markerList$C1, \"/home/adufour/work/table/omics_c1_RNA_embryo.csv\", row.names=TRUE)\n",
    "write.csv(markerList$C2, \"/home/adufour/work/table/omics_c2_RNA_embryo.csv\", row.names=TRUE)\n",
    "write.csv(markerList$C3, \"/home/adufour/work/table/omics_c3_RNA_embryo.csv\", row.names=TRUE)\n",
    "write.csv(markerList$C4, \"/home/adufour/work/table/omics_c4_RNA_embryo.csv\", row.names=TRUE)"
   ]
  },
  {
   "cell_type": "code",
   "execution_count": 11,
   "metadata": {
    "scrolled": true
   },
   "outputs": [
    {
     "name": "stderr",
     "output_type": "stream",
     "text": [
      "ArchR logging to : ArchRLogs/ArchR-getMarkerFeatures-1c8a2e3046748f-Date-2023-10-04_Time-10-24-56.log\n",
      "If there is an issue, please report to github with logFile!\n",
      "\n",
      "MatrixClass = Sparse.Integer.Matrix\n",
      "\n",
      "2023-10-04 10:24:56 : Matching Known Biases, 0.008 mins elapsed.\n",
      "\n",
      "Warning message:\n",
      "“le package ‘nabor’ a été compilé avec la version R 4.2.3”\n",
      "###########\n",
      "2023-10-04 11:01:43 : Completed Pairwise Tests, 36.788 mins elapsed.\n",
      "###########\n",
      "\n",
      "ArchR logging successful to : ArchRLogs/ArchR-getMarkerFeatures-1c8a2e3046748f-Date-2023-10-04_Time-10-24-56.log\n",
      "\n"
     ]
    }
   ],
   "source": [
    "markersPeaks <- getMarkerFeatures(\n",
    "    ArchRProj = archrproj_sub, \n",
    "    useMatrix = \"PeakMatrix\", \n",
    "    groupBy = \"Clusters\",\n",
    "    bias = c(\"TSSEnrichment\", \"log10(nFrags)\"),\n",
    "    testMethod = \"wilcoxon\"\n",
    ")"
   ]
  },
  {
   "cell_type": "code",
   "execution_count": 12,
   "metadata": {
    "vscode": {
     "languageId": "r"
    }
   },
   "outputs": [],
   "source": [
    "markerPeaksList <- getMarkers(markersPeaks, cutOff = \"FDR <= 0.01 & Log2FC >= 1.25\")"
   ]
  },
  {
   "cell_type": "code",
   "execution_count": 16,
   "metadata": {
    "vscode": {
     "languageId": "r"
    }
   },
   "outputs": [],
   "source": [
    "p2geneDF <- metadata(archrproj@peakSet)$Peak2GeneLinks\n",
    "p2geneDF$geneName <- mcols(metadata(p2geneDF)$geneSet)$name[p2geneDF$idxRNA]\n",
    "p2geneDF$peakName <- (metadata(p2geneDF)$peakSet %>% {paste0(seqnames(.), \"_\", start(.), \"_\", end(.))})[p2geneDF$idxATAC]\n",
    "colnames(p2geneDF) <- c('idxATAC', 'idxRNA', 'Correlation', 'FDR_P2G', 'VarQATAC', 'VarQRNA', 'geneName', 'peakName')"
   ]
  },
  {
   "cell_type": "code",
   "execution_count": 46,
   "metadata": {
    "vscode": {
     "languageId": "r"
    }
   },
   "outputs": [
    {
     "data": {
      "text/plain": [
       "DataFrame with 0 rows and 7 columns"
      ]
     },
     "metadata": {},
     "output_type": "display_data"
    }
   ],
   "source": [
    "markerPeaksList@listData$C8"
   ]
  },
  {
   "cell_type": "code",
   "execution_count": 47,
   "metadata": {
    "vscode": {
     "languageId": "r"
    }
   },
   "outputs": [],
   "source": [
    "markerPeaksList@listData$C1$peakName <- paste0(markerPeaksList@listData$C1$seqnames, \"_\", markerPeaksList@listData$C1$start, \"_\", markerPeaksList@listData$C1$end)\n",
    "#markerPeaksList@listData$C2$peakName <- paste0(markerPeaksList@listData$C2$seqnames, \"_\", markerPeaksList@listData$C2$start, \"_\", markerPeaksList@listData$C2$end)\n",
    "markerPeaksList@listData$C3$peakName <- paste0(markerPeaksList@listData$C3$seqnames, \"_\", markerPeaksList@listData$C3$start, \"_\", markerPeaksList@listData$C3$end)\n",
    "markerPeaksList@listData$C4$peakName <- paste0(markerPeaksList@listData$C4$seqnames, \"_\", markerPeaksList@listData$C4$start, \"_\", markerPeaksList@listData$C4$end)\n",
    "markerPeaksList@listData$C5$peakName <- paste0(markerPeaksList@listData$C5$seqnames, \"_\", markerPeaksList@listData$C5$start, \"_\", markerPeaksList@listData$C5$end)\n",
    "markerPeaksList@listData$C6$peakName <- paste0(markerPeaksList@listData$C6$seqnames, \"_\", markerPeaksList@listData$C6$start, \"_\", markerPeaksList@listData$C6$end)\n",
    "markerPeaksList@listData$C7$peakName <- paste0(markerPeaksList@listData$C7$seqnames, \"_\", markerPeaksList@listData$C7$start, \"_\", markerPeaksList@listData$C7$end)\n",
    "#markerPeaksList@listData$C8$peakName <- paste0(markerPeaksList@listData$C8$seqnames, \"_\", markerPeaksList@listData$C8$start, \"_\", markerPeaksList@listData$C8$end)"
   ]
  },
  {
   "cell_type": "code",
   "execution_count": 48,
   "metadata": {
    "vscode": {
     "languageId": "r"
    }
   },
   "outputs": [],
   "source": [
    "write.csv(merge(markerPeaksList@listData$C1,p2geneDF,by=\"peakName\"), \"/home/adufour/work/table/omics_c1_ATAC.csv\", row.names=TRUE)\n",
    "write.csv(merge(markerPeaksList@listData$C3,p2geneDF,by=\"peakName\"), \"/home/adufour/work/table/omics_c3_ATAC.csv\", row.names=TRUE)\n",
    "write.csv(merge(markerPeaksList@listData$C4,p2geneDF,by=\"peakName\"), \"/home/adufour/work/table/omics_c4_ATAC.csv\", row.names=TRUE)\n",
    "write.csv(merge(markerPeaksList@listData$C5,p2geneDF,by=\"peakName\"), \"/home/adufour/work/table/omics_c5_ATAC.csv\", row.names=TRUE)\n",
    "write.csv(merge(markerPeaksList@listData$C6,p2geneDF,by=\"peakName\"), \"/home/adufour/work/table/omics_c6_ATAC.csv\", row.names=TRUE)\n",
    "write.csv(merge(markerPeaksList@listData$C7,p2geneDF,by=\"peakName\"), \"/home/adufour/work/table/omics_c7_ATAC.csv\", row.names=TRUE)"
   ]
  },
  {
   "cell_type": "code",
   "execution_count": 26,
   "metadata": {
    "vscode": {
     "languageId": "r"
    }
   },
   "outputs": [
    {
     "data": {
      "text/html": [],
      "text/latex": [],
      "text/markdown": [],
      "text/plain": [
       "character(0)"
      ]
     },
     "metadata": {},
     "output_type": "display_data"
    }
   ],
   "source": [
    "intersect(markerList$C1$peakName, p2geneDF$peakName)"
   ]
  },
  {
   "cell_type": "code",
   "execution_count": null,
   "metadata": {
    "vscode": {
     "languageId": "r"
    }
   },
   "outputs": [],
   "source": [
    "markerList$C1$peakName"
   ]
  },
  {
   "cell_type": "code",
   "execution_count": null,
   "metadata": {
    "vscode": {
     "languageId": "r"
    }
   },
   "outputs": [],
   "source": [
    "p2geneDF$peakName"
   ]
  },
  {
   "cell_type": "code",
   "execution_count": 20,
   "metadata": {
    "vscode": {
     "languageId": "r"
    }
   },
   "outputs": [
    {
     "data": {
      "text/plain": [
       "DataFrame with 0 rows and 17 columns"
      ]
     },
     "metadata": {},
     "output_type": "display_data"
    }
   ],
   "source": [
    "merge(markerList$C1,p2geneDF,by=\"peakName\")"
   ]
  },
  {
   "cell_type": "code",
   "execution_count": null,
   "metadata": {
    "vscode": {
     "languageId": "r"
    }
   },
   "outputs": [],
   "source": [
    "saveRDS(markerPeaksList, file = \"/home/adufour/work/rds_storage/markers_Peaks_all.rds\")"
   ]
  }
 ],
 "metadata": {
  "kernelspec": {
   "display_name": "R [conda env:archer]",
   "language": "R",
   "name": "conda-env-archer-r"
  },
  "language_info": {
   "codemirror_mode": "r",
   "file_extension": ".r",
   "mimetype": "text/x-r-source",
   "name": "R",
   "pygments_lexer": "r",
   "version": "4.2.2"
  }
 },
 "nbformat": 4,
 "nbformat_minor": 4
}

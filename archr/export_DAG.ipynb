{
 "cells": [
  {
   "cell_type": "code",
   "execution_count": 1,
   "metadata": {
    "scrolled": true,
    "tags": [],
    "vscode": {
     "languageId": "r"
    }
   },
   "outputs": [
    {
     "name": "stderr",
     "output_type": "stream",
     "text": [
      "\n",
      "                                                   / |\n",
      "                                                 /    \\\n",
      "            .                                  /      |.\n",
      "            \\\\\\                              /        |.\n",
      "              \\\\\\                          /           `|.\n",
      "                \\\\\\                      /              |.\n",
      "                  \\                    /                |\\\n",
      "                  \\\\#####\\           /                  ||\n",
      "                ==###########>      /                   ||\n",
      "                 \\\\##==......\\    /                     ||\n",
      "            ______ =       =|__ /__                     ||      \\\\\\\n",
      "        ,--' ,----`-,__ ___/'  --,-`-===================##========>\n",
      "       \\               '        ##_______ _____ ,--,__,=##,__   ///\n",
      "        ,    __==    ___,-,__,--'#'  ==='      `-'    | ##,-/\n",
      "        -,____,---'       \\\\####\\\\________________,--\\\\_##,/\n",
      "           ___      .______        ______  __    __  .______      \n",
      "          /   \\     |   _  \\      /      ||  |  |  | |   _  \\     \n",
      "         /  ^  \\    |  |_)  |    |  ,----'|  |__|  | |  |_)  |    \n",
      "        /  /_\\  \\   |      /     |  |     |   __   | |      /     \n",
      "       /  _____  \\  |  |\\  \\\\___ |  `----.|  |  |  | |  |\\  \\\\___.\n",
      "      /__/     \\__\\ | _| `._____| \\______||__|  |__| | _| `._____|\n",
      "    \n",
      "\n",
      "ArchR : Version 1.0.3\n",
      "For more information see our website : www.ArchRProject.com\n",
      "If you encounter a bug please report : https://github.com/GreenleafLab/ArchR/issues\n",
      "\n",
      "Loading Required Packages...\n",
      "\n",
      "\tLoading Package : devtools v2.4.5\n",
      "\n",
      "Warning message:\n",
      "“le package ‘devtools’ a été compilé avec la version R 4.2.3”\n",
      "Warning message:\n",
      "“le package ‘usethis’ a été compilé avec la version R 4.2.3”\n",
      "\tLoading Package : grid v4.2.2\n",
      "\n",
      "\tLoading Package : gridExtra v2.3\n",
      "\n",
      "Warning message:\n",
      "“le package ‘gridExtra’ a été compilé avec la version R 4.2.3”\n",
      "\tLoading Package : gtools v3.9.4\n",
      "\n",
      "Warning message:\n",
      "“le package ‘gtools’ a été compilé avec la version R 4.2.3”\n",
      "\tLoading Package : gtable v0.3.3\n",
      "\n",
      "Warning message:\n",
      "“le package ‘gtable’ a été compilé avec la version R 4.2.3”\n",
      "\tLoading Package : ggplot2 v3.4.2\n",
      "\n",
      "Warning message:\n",
      "“le package ‘ggplot2’ a été compilé avec la version R 4.2.3”\n",
      "\tLoading Package : magrittr v2.0.3\n",
      "\n",
      "Warning message:\n",
      "“le package ‘magrittr’ a été compilé avec la version R 4.2.3”\n",
      "\tLoading Package : plyr v1.8.8\n",
      "\n",
      "Warning message:\n",
      "“le package ‘plyr’ a été compilé avec la version R 4.2.3”\n",
      "\tLoading Package : stringr v1.5.0\n",
      "\n",
      "Warning message:\n",
      "“le package ‘stringr’ a été compilé avec la version R 4.2.3”\n",
      "\tLoading Package : data.table v1.14.8\n",
      "\n",
      "Warning message:\n",
      "“le package ‘data.table’ a été compilé avec la version R 4.2.3”\n",
      "\tLoading Package : matrixStats v1.0.0\n",
      "\n",
      "Warning message:\n",
      "“le package ‘matrixStats’ a été compilé avec la version R 4.2.3”\n",
      "\tLoading Package : sparseMatrixStats v1.10.0\n",
      "\n",
      "Warning message:\n",
      "“le package ‘sparseMatrixStats’ a été compilé avec la version R 4.2.3”\n",
      "\tLoading Package : S4Vectors v0.36.0\n",
      "\n",
      "\tLoading Package : GenomicRanges v1.50.0\n",
      "\n",
      "Warning message:\n",
      "“le package ‘GenomeInfoDb’ a été compilé avec la version R 4.2.3”\n",
      "\tLoading Package : BiocGenerics v0.44.0\n",
      "\n",
      "\tLoading Package : Matrix v1.6.0\n",
      "\n",
      "Warning message:\n",
      "“le package ‘Matrix’ a été compilé avec la version R 4.2.3”\n",
      "\tLoading Package : Rcpp v1.0.11\n",
      "\n",
      "Warning message:\n",
      "“le package ‘Rcpp’ a été compilé avec la version R 4.2.3”\n",
      "\tLoading Package : RcppArmadillo v0.12.4.1.0\n",
      "\n",
      "Warning message:\n",
      "“le package ‘RcppArmadillo’ a été compilé avec la version R 4.2.3”\n",
      "\tLoading Package : SummarizedExperiment v1.28.0\n",
      "\n",
      "\tLoading Package : rhdf5 v2.42.0\n",
      "\n",
      "Warning message:\n",
      "“le package ‘rhdf5’ a été compilé avec la version R 4.2.3”\n",
      "Le chargement a nécessité le package : AnnotationDbi\n",
      "\n",
      "\n",
      "\n",
      "Le chargement a nécessité le package : BSgenome\n",
      "\n",
      "Le chargement a nécessité le package : Biostrings\n",
      "\n",
      "Le chargement a nécessité le package : XVector\n",
      "\n",
      "\n",
      "Attachement du package : ‘XVector’\n",
      "\n",
      "\n",
      "L'objet suivant est masqué depuis ‘package:plyr’:\n",
      "\n",
      "    compact\n",
      "\n",
      "\n",
      "\n",
      "Attachement du package : ‘Biostrings’\n",
      "\n",
      "\n",
      "L'objet suivant est masqué depuis ‘package:grid’:\n",
      "\n",
      "    pattern\n",
      "\n",
      "\n",
      "L'objet suivant est masqué depuis ‘package:base’:\n",
      "\n",
      "    strsplit\n",
      "\n",
      "\n",
      "Le chargement a nécessité le package : rtracklayer\n",
      "\n",
      "Warning message:\n",
      "“le package ‘rtracklayer’ a été compilé avec la version R 4.2.3”\n",
      "Warning message:\n",
      "“le package ‘Repitools’ a été compilé avec la version R 4.2.3”\n",
      "\n",
      "Attachement du package : ‘Repitools’\n",
      "\n",
      "\n",
      "L'objet suivant est masqué depuis ‘package:rtracklayer’:\n",
      "\n",
      "    blocks\n",
      "\n",
      "\n",
      "L'objet suivant est masqué depuis ‘package:data.table’:\n",
      "\n",
      "    tables\n",
      "\n",
      "\n"
     ]
    }
   ],
   "source": [
    "library(ArchR)\n",
    "library(org.Ss.eg.db)\n",
    "library(SuscrofaTxdb.11.108.july)\n",
    "library(Repitools)"
   ]
  },
  {
   "cell_type": "code",
   "execution_count": 2,
   "metadata": {
    "vscode": {
     "languageId": "r"
    }
   },
   "outputs": [],
   "source": [
    "options(repr.plot.width = 18, repr.plot.height = 17, repr.plot.pointsize = 24)"
   ]
  },
  {
   "cell_type": "code",
   "execution_count": 3,
   "metadata": {
    "vscode": {
     "languageId": "r"
    }
   },
   "outputs": [
    {
     "name": "stderr",
     "output_type": "stream",
     "text": [
      "Setting default number of Parallel threads to 2.\n",
      "\n"
     ]
    }
   ],
   "source": [
    "addArchRThreads(2)"
   ]
  },
  {
   "cell_type": "code",
   "execution_count": 4,
   "metadata": {
    "vscode": {
     "languageId": "r"
    }
   },
   "outputs": [],
   "source": [
    "load(file = \"/home/adufour/work/rds_storage/omics/archr_all_v7_embryo.RData\")"
   ]
  },
  {
   "cell_type": "code",
   "execution_count": 5,
   "metadata": {
    "scrolled": true,
    "vscode": {
     "languageId": "r"
    }
   },
   "outputs": [],
   "source": [
    "peak_grange <- archrproj_sub@peakSet"
   ]
  },
  {
   "cell_type": "code",
   "execution_count": 6,
   "metadata": {
    "vscode": {
     "languageId": "r"
    }
   },
   "outputs": [],
   "source": [
    "peak_grange$peakName <- peak_grange %>% {paste0(seqnames(.), \"_\", start(.), \"_\", end(.))}"
   ]
  },
  {
   "cell_type": "code",
   "execution_count": 7,
   "metadata": {
    "vscode": {
     "languageId": "r"
    }
   },
   "outputs": [],
   "source": [
    "names(peak_grange) <- NULL"
   ]
  },
  {
   "cell_type": "code",
   "execution_count": 8,
   "metadata": {
    "vscode": {
     "languageId": "r"
    }
   },
   "outputs": [],
   "source": [
    "peak_DF <- annoGR2DF(peak_grange)"
   ]
  },
  {
   "cell_type": "code",
   "execution_count": 10,
   "metadata": {
    "vscode": {
     "languageId": "r"
    }
   },
   "outputs": [
    {
     "name": "stderr",
     "output_type": "stream",
     "text": [
      "ArchR logging to : ArchRLogs/ArchR-getMarkerFeatures-3e1f5e496b0dcc-Date-2024-03-15_Time-16-13-08.log\n",
      "If there is an issue, please report to github with logFile!\n",
      "\n",
      "MatrixClass = Sparse.Integer.Matrix\n",
      "\n",
      "2024-03-15 16:13:10 : Matching Known Biases, 0.025 mins elapsed.\n",
      "\n",
      "Warning message:\n",
      "“le package ‘nabor’ a été compilé avec la version R 4.2.3”\n",
      "###########\n",
      "2024-03-15 16:39:20 : Completed Pairwise Tests, 26.189 mins elapsed.\n",
      "###########\n",
      "\n",
      "ArchR logging successful to : ArchRLogs/ArchR-getMarkerFeatures-3e1f5e496b0dcc-Date-2024-03-15_Time-16-13-08.log\n",
      "\n"
     ]
    }
   ],
   "source": [
    "markersPeaks <- getMarkerFeatures(\n",
    "    ArchRProj = archrproj_sub, \n",
    "    useMatrix = \"PeakMatrix\", \n",
    "    groupBy = \"Clusters\",\n",
    "    bias = c(\"TSSEnrichment\", \"log10(nFrags)\"),\n",
    "    testMethod = \"wilcoxon\"\n",
    ")"
   ]
  },
  {
   "cell_type": "markdown",
   "metadata": {},
   "source": [
    "# export DAG whole"
   ]
  },
  {
   "cell_type": "code",
   "execution_count": 11,
   "metadata": {
    "vscode": {
     "languageId": "r"
    }
   },
   "outputs": [
    {
     "name": "stderr",
     "output_type": "stream",
     "text": [
      "Warning message:\n",
      "“le package ‘dplyr’ a été compilé avec la version R 4.2.3”\n",
      "Warning message:\n",
      "“le package ‘tidyr’ a été compilé avec la version R 4.2.3”\n",
      "Warning message:\n",
      "“le package ‘RcppAlgos’ a été compilé avec la version R 4.2.3”\n",
      "Warning message:\n",
      "“le package ‘ggrastr’ a été compilé avec la version R 4.2.3”\n"
     ]
    }
   ],
   "source": [
    "scriptPath <- \"/home/adufour/work/scScalpChromatin\"\n",
    "source(paste0(scriptPath, \"/misc_helpers.R\"))\n",
    "source(paste0(scriptPath, \"/matrix_helpers.R\"))\n",
    "source(paste0(scriptPath, \"/plotting_config.R\"))\n",
    "source(paste0(scriptPath, \"/archr_helpers.R\"))"
   ]
  },
  {
   "cell_type": "code",
   "execution_count": 12,
   "metadata": {
    "vscode": {
     "languageId": "r"
    }
   },
   "outputs": [],
   "source": [
    "corrCutoff <- 0.5\n",
    "p2gGR <- getP2G_GR(archrproj_sub, corrCutoff=corrCutoff)"
   ]
  },
  {
   "cell_type": "code",
   "execution_count": 13,
   "metadata": {
    "vscode": {
     "languageId": "r"
    }
   },
   "outputs": [],
   "source": [
    "p2geneDF <- Repitools::annoGR2DF(p2gGR)"
   ]
  },
  {
   "cell_type": "code",
   "execution_count": 14,
   "metadata": {
    "vscode": {
     "languageId": "r"
    }
   },
   "outputs": [],
   "source": [
    "markerPeaksList <- getMarkers(markersPeaks, cutOff = \"FDR <= 0.1 & abs(Log2FC) >= 1\")"
   ]
  },
  {
   "cell_type": "code",
   "execution_count": 25,
   "metadata": {
    "vscode": {
     "languageId": "r"
    }
   },
   "outputs": [],
   "source": [
    "markerPeaksList$C1$peakName <- paste0(markerPeaksList$C1$seqnames, \"_\", markerPeaksList$C1$start, \"_\", markerPeaksList$C1$end)\n",
    "markerPeaksList$C2$peakName <- paste0(markerPeaksList$C2$seqnames, \"_\", markerPeaksList$C2$start, \"_\", markerPeaksList$C2$end)\n",
    "markerPeaksList$C3$peakName <- paste0(markerPeaksList$C3$seqnames, \"_\", markerPeaksList$C3$start, \"_\", markerPeaksList$C3$end)\n",
    "markerPeaksList$C4$peakName <- paste0(markerPeaksList$C4$seqnames, \"_\", markerPeaksList$C4$start, \"_\", markerPeaksList$C4$end)"
   ]
  },
  {
   "cell_type": "code",
   "execution_count": 18,
   "metadata": {
    "scrolled": true,
    "vscode": {
     "languageId": "r"
    }
   },
   "outputs": [],
   "source": [
    "peak_grange <- archrproj_sub@peakSet"
   ]
  },
  {
   "cell_type": "code",
   "execution_count": 19,
   "metadata": {
    "vscode": {
     "languageId": "r"
    }
   },
   "outputs": [],
   "source": [
    "peak_grange$peakName <- peak_grange %>% {paste0(seqnames(.), \"_\", start(.), \"_\", end(.))}"
   ]
  },
  {
   "cell_type": "code",
   "execution_count": 20,
   "metadata": {
    "vscode": {
     "languageId": "r"
    }
   },
   "outputs": [],
   "source": [
    "names(peak_grange) <- NULL"
   ]
  },
  {
   "cell_type": "code",
   "execution_count": 21,
   "metadata": {
    "vscode": {
     "languageId": "r"
    }
   },
   "outputs": [],
   "source": [
    "peak_DF <- Repitools::annoGR2DF(peak_grange)"
   ]
  },
  {
   "cell_type": "code",
   "execution_count": 29,
   "metadata": {
    "vscode": {
     "languageId": "r"
    }
   },
   "outputs": [],
   "source": [
    "merge_C1 <- merge(markerPeaksList$C1,p2geneDF,by=\"peakName\", all.x=TRUE)\n",
    "merge_C2 <- merge(markerPeaksList$C2,p2geneDF,by=\"peakName\", all.x=TRUE)\n",
    "merge_C3 <- merge(markerPeaksList$C3,p2geneDF,by=\"peakName\", all.x=TRUE)\n",
    "merge_C4 <- merge(markerPeaksList$C4,p2geneDF,by=\"peakName\", all.x=TRUE)"
   ]
  },
  {
   "cell_type": "code",
   "execution_count": 30,
   "metadata": {
    "vscode": {
     "languageId": "r"
    }
   },
   "outputs": [],
   "source": [
    "write.csv(merge(merge_C1,peak_DF,by=\"peakName\"), \"/home/adufour/work/table/omics_embryo_dag_c1.csv\", row.names=TRUE)\n",
    "write.csv(merge(merge_C2,peak_DF,by=\"peakName\"), \"/home/adufour/work/table/omics_embryo_dag_c2.csv\", row.names=TRUE)\n",
    "write.csv(merge(merge_C3,peak_DF,by=\"peakName\"), \"/home/adufour/work/table/omics_embryo_dag_c3.csv\", row.names=TRUE)\n",
    "write.csv(merge(merge_C4,peak_DF,by=\"peakName\"), \"/home/adufour/work/table/omics_embryo_dag_c4.csv\", row.names=TRUE)"
   ]
  },
  {
   "cell_type": "code",
   "execution_count": 10,
   "metadata": {
    "vscode": {
     "languageId": "r"
    }
   },
   "outputs": [],
   "source": [
    "write.csv(peak_DF, \"/home/adufour/work/table/peak_DF_stemcells.csv\", row.names=FALSE)"
   ]
  }
 ],
 "metadata": {
  "kernelspec": {
   "display_name": "R [conda env:archer]",
   "language": "R",
   "name": "conda-env-archer-r"
  },
  "language_info": {
   "codemirror_mode": "r",
   "file_extension": ".r",
   "mimetype": "text/x-r-source",
   "name": "R",
   "pygments_lexer": "r",
   "version": "4.2.2"
  }
 },
 "nbformat": 4,
 "nbformat_minor": 4
}

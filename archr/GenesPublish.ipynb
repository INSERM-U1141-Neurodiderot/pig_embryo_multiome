{
 "cells": [
  {
   "cell_type": "markdown",
   "metadata": {},
   "source": [
    "# Test notebook"
   ]
  },
  {
   "cell_type": "code",
   "execution_count": 7,
   "metadata": {
    "scrolled": true,
    "tags": []
   },
   "outputs": [],
   "source": [
    "library(ArchR)\n",
    "library(org.Ss.eg.db)\n",
    "library(SuscrofaTxdb.11.108.july)"
   ]
  },
  {
   "cell_type": "code",
   "execution_count": 2,
   "metadata": {},
   "outputs": [],
   "source": [
    "options(repr.plot.width = 18, repr.plot.height = 17, repr.plot.pointsize = 24)"
   ]
  },
  {
   "cell_type": "code",
   "execution_count": 3,
   "metadata": {},
   "outputs": [
    {
     "name": "stderr",
     "output_type": "stream",
     "text": [
      "Setting default number of Parallel threads to 1.\n",
      "\n"
     ]
    }
   ],
   "source": [
    "addArchRThreads(1)"
   ]
  },
  {
   "cell_type": "code",
   "execution_count": 4,
   "metadata": {},
   "outputs": [
    {
     "name": "stderr",
     "output_type": "stream",
     "text": [
      "Setting ArchRLocking to TRUE.\n",
      "\n"
     ]
    }
   ],
   "source": [
    "addArchRLocking(locking = TRUE)"
   ]
  },
  {
   "cell_type": "code",
   "execution_count": 1,
   "metadata": {},
   "outputs": [],
   "source": [
    "load(file = \"/home/adufour/work/rds_storage/omics/archr_all_v7_embryo.RData\")"
   ]
  },
  {
   "cell_type": "code",
   "execution_count": 2,
   "metadata": {},
   "outputs": [],
   "source": [
    "colors_dutch <- c(\"#996ea5\", \"#ce8787\", \"#abf5ff\", \"#78c4ce\")"
   ]
  },
  {
   "cell_type": "code",
   "execution_count": 3,
   "metadata": {},
   "outputs": [],
   "source": [
    "names(colors_dutch) <- c(\"C1\", \"C2\", \"C3\", \"C4\")"
   ]
  },
  {
   "cell_type": "code",
   "execution_count": 9,
   "metadata": {},
   "outputs": [
    {
     "name": "stderr",
     "output_type": "stream",
     "text": [
      "Warning message:\n",
      "“le package ‘ggrastr’ a été compilé avec la version R 4.2.3”\n",
      "Warning message:\n",
      "“le package ‘dplyr’ a été compilé avec la version R 4.2.3”\n",
      "Warning message:\n",
      "“le package ‘tidyr’ a été compilé avec la version R 4.2.3”\n",
      "Warning message:\n",
      "“le package ‘RcppAlgos’ a été compilé avec la version R 4.2.3”\n"
     ]
    }
   ],
   "source": [
    "# Get additional functions, etc.:\n",
    "scriptPath <- \"/home/adufour/work/scScalpChromatin\"\n",
    "source(paste0(scriptPath, \"/plotting_config.R\"))\n",
    "source(paste0(scriptPath, \"/misc_helpers.R\"))\n",
    "source(paste0(scriptPath, \"/archr_helpers.R\"))"
   ]
  },
  {
   "cell_type": "code",
   "execution_count": 10,
   "metadata": {},
   "outputs": [],
   "source": [
    "plotDir <- \"/home/adufour/work/notebook/plots/omics/gene_publish\""
   ]
  },
  {
   "cell_type": "raw",
   "metadata": {},
   "source": [
    "# Retrieve GImat prior to re-assigning p2g links\n",
    "GImat <- getMatrixFromProject(archrproj_sub, useMatrix=\"GeneExpressionMatrix\")"
   ]
  },
  {
   "cell_type": "raw",
   "metadata": {},
   "source": [
    "saveRDS(GImat, file = \"/home/adufour/work/rds_storage/omics/RNA_matrix_emb.rds\")"
   ]
  },
  {
   "cell_type": "code",
   "execution_count": 11,
   "metadata": {},
   "outputs": [],
   "source": [
    "GImat <- readRDS(file = \"/home/adufour/work/rds_storage/omics/RNA_matrix_emb.rds\")"
   ]
  },
  {
   "cell_type": "markdown",
   "metadata": {},
   "source": [
    "# Plot Gene track with RNA expression, peaks gene localisation and peak2gene"
   ]
  },
  {
   "cell_type": "code",
   "execution_count": 28,
   "metadata": {
    "scrolled": true
   },
   "outputs": [
    {
     "name": "stderr",
     "output_type": "stream",
     "text": [
      "ArchR logging to : ArchRLogs/ArchR-plotBrowserTrack-2d30bc201833c6-Date-2024-02-19_Time-17-00-16.log\n",
      "If there is an issue, please report to github with logFile!\n",
      "\n",
      "2024-02-19 17:00:16 : Validating Region, 0.002 mins elapsed.\n",
      "\n"
     ]
    },
    {
     "name": "stdout",
     "output_type": "stream",
     "text": [
      "GRanges object with 1 range and 2 metadata columns:\n",
      "      seqnames          ranges strand |            gene_id      symbol\n",
      "         <Rle>       <IRanges>  <Rle> |        <character> <character>\n",
      "  [1]        5 6719490-6784671      - | ENSSSCG00000026092      SREBF2\n",
      "  -------\n",
      "  seqinfo: 263 sequences (1 circular) from an unspecified genome; no seqlengths\n"
     ]
    },
    {
     "name": "stderr",
     "output_type": "stream",
     "text": [
      "2024-02-19 17:00:16 : Adding Bulk Tracks (1 of 1), 0.003 mins elapsed.\n",
      "\n",
      "Getting Region From Arrow Files 1 of 7\n",
      "\n",
      "Getting Region From Arrow Files 2 of 7\n",
      "\n",
      "Getting Region From Arrow Files 3 of 7\n",
      "\n",
      "Getting Region From Arrow Files 4 of 7\n",
      "\n",
      "Getting Region From Arrow Files 5 of 7\n",
      "\n",
      "Getting Region From Arrow Files 6 of 7\n",
      "\n",
      "Getting Region From Arrow Files 7 of 7\n",
      "\n",
      "2024-02-19 17:00:29 : Adding Feature Tracks (1 of 1), 0.209 mins elapsed.\n",
      "\n",
      "2024-02-19 17:00:29 : Adding Loop Tracks (1 of 1), 0.211 mins elapsed.\n",
      "\n",
      "2024-02-19 17:00:29 : Adding Gene Tracks (1 of 1), 0.217 mins elapsed.\n",
      "\n",
      "2024-02-19 17:00:30 : Plotting, 0.224 mins elapsed.\n",
      "\n",
      "ArchR logging successful to : ArchRLogs/ArchR-plotBrowserTrack-2d30bc201833c6-Date-2024-02-19_Time-17-00-16.log\n",
      "\n",
      "Plotting Gtable!\n",
      "\n"
     ]
    },
    {
     "name": "stdout",
     "output_type": "stream",
     "text": [
      "NULL\n"
     ]
    }
   ],
   "source": [
    "gene <- \"SREBF2\"\n",
    "\n",
    "p <- plotBrowserTrack(\n",
    "    ArchRProj = archrproj_sub, \n",
    "    groupBy = \"Clusters\",\n",
    "    geneSymbol = gene,\n",
    "    pal = colors_dutch,\n",
    "    #plotSummary = c(\"bulkTrack\", \"featureTrack\", \"loopTrack\", \"geneTrack\"),\n",
    "    sizes = c(8, 0.8, 1.25, 0.5),\n",
    "    #region = plotRegions, \n",
    "    loops = getPeak2GeneLinks(archrproj_sub), # All peak-to-gene loops\n",
    "    tileSize=250,\n",
    "    minCells=100,\n",
    "    upstream = 250000,\n",
    "    downstream = 250000,\n",
    "    #title = markerGenes\n",
    ")\n",
    "\n",
    "archrproj_sub@projectMetadata$outputDirectory <- plotDir\n",
    "\n",
    "plotPDF(plotList = p, \n",
    "    name = paste0(gene, \"_tracks_embryos.pdf\"), \n",
    "    ArchRProj = archrproj_sub, \n",
    "    addDOC = FALSE, \n",
    "    width = 8, height = 11)"
   ]
  },
  {
   "cell_type": "code",
   "execution_count": 29,
   "metadata": {},
   "outputs": [],
   "source": [
    "markerGenes <- c(gene, \"GRHL1\")\n",
    "\n",
    "data_mat <- assays(GImat)[[1]]\n",
    "rownames(data_mat) <- rowData(GImat)$name\n",
    "sub_mat <- data_mat[markerGenes,]\n",
    "\n",
    "grouping_data <- data.frame(cluster=factor(archrproj_sub$Clusters, \n",
    "  ordered=TRUE))\n",
    "rownames(grouping_data) <- getCellNames(archrproj_sub)\n",
    "sub_mat <- sub_mat[,rownames(grouping_data)]\n",
    "\n",
    "dodge_width <- 0.75\n",
    "dodge <- position_dodge(width=dodge_width)"
   ]
  },
  {
   "cell_type": "code",
   "execution_count": 30,
   "metadata": {},
   "outputs": [],
   "source": [
    "pList <- list()\n",
    "for(gn in markerGenes){\n",
    "  df <- data.frame(grouping_data, gene=sub_mat[gn,])\n",
    "  # Sample to no more than 500 cells per cluster\n",
    "  set.seed(1)\n",
    "  df <- df %>% group_by(cluster) %>% dplyr::slice(sample(min(500, n()))) %>% ungroup()\n",
    "  df <- df %>% as.data.frame()\n",
    "\n",
    "  covarLabel <- \"cluster\"  \n",
    "\n",
    "  # Plot a violin / box plot\n",
    "  p <- (\n",
    "    ggplot(df, aes(x=cluster, y=gene, fill=cluster))\n",
    "    + geom_violin(aes(fill=cluster), adjust = 1.0, scale='width', position=dodge)\n",
    "    + scale_color_manual(values=colors_dutch, name=covarLabel, na.value=\"grey\")\n",
    "    + scale_fill_manual(values=colors_dutch)\n",
    "    + guides(fill=guide_legend(title=covarLabel), \n",
    "      colour=guide_legend(override.aes = list(size=5)))\n",
    "    + ggtitle(gn)\n",
    "    + xlab(\"\")\n",
    "    + ylab(\"RNA Expression\")\n",
    "    + theme_BOR(border=TRUE)\n",
    "    + theme(panel.grid.major=element_blank(), \n",
    "            panel.grid.minor= element_blank(), \n",
    "            plot.margin = unit(c(0.25,1,0.25,1), \"cm\"), \n",
    "            legend.position = \"none\", # Remove legend\n",
    "            axis.text.x = element_text(angle = 90, hjust = 1)) \n",
    "  )\n",
    "  pList[[gn]] <- p\n",
    "}"
   ]
  },
  {
   "cell_type": "code",
   "execution_count": 31,
   "metadata": {},
   "outputs": [
    {
     "data": {
      "text/plain": [
       "$SREBF2\n",
       "\n",
       "$GRHL1\n"
      ]
     },
     "metadata": {},
     "output_type": "display_data"
    },
    {
     "data": {
      "text/html": [
       "<strong>png:</strong> 2"
      ],
      "text/latex": [
       "\\textbf{png:} 2"
      ],
      "text/markdown": [
       "**png:** 2"
      ],
      "text/plain": [
       "png \n",
       "  2 "
      ]
     },
     "metadata": {},
     "output_type": "display_data"
    }
   ],
   "source": [
    "pdf(paste0(plotDir, \"/Expression_Violin_embryos_\", gene, \".pdf\"), width=10, height=4)\n",
    "pList\n",
    "dev.off()"
   ]
  },
  {
   "cell_type": "code",
   "execution_count": null,
   "metadata": {},
   "outputs": [],
   "source": []
  }
 ],
 "metadata": {
  "kernelspec": {
   "display_name": "R [conda env:archer]",
   "language": "R",
   "name": "conda-env-archer-r"
  },
  "language_info": {
   "codemirror_mode": "r",
   "file_extension": ".r",
   "mimetype": "text/x-r-source",
   "name": "R",
   "pygments_lexer": "r",
   "version": "4.2.2"
  }
 },
 "nbformat": 4,
 "nbformat_minor": 4
}

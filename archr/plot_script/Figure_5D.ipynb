{
 "cells": [
  {
   "cell_type": "code",
   "execution_count": 1,
   "metadata": {
    "scrolled": true,
    "tags": [],
    "vscode": {
     "languageId": "r"
    }
   },
   "outputs": [
    {
     "name": "stderr",
     "output_type": "stream",
     "text": [
      "\n",
      "                                                   / |\n",
      "                                                 /    \\\n",
      "            .                                  /      |.\n",
      "            \\\\\\                              /        |.\n",
      "              \\\\\\                          /           `|.\n",
      "                \\\\\\                      /              |.\n",
      "                  \\                    /                |\\\n",
      "                  \\\\#####\\           /                  ||\n",
      "                ==###########>      /                   ||\n",
      "                 \\\\##==......\\    /                     ||\n",
      "            ______ =       =|__ /__                     ||      \\\\\\\n",
      "        ,--' ,----`-,__ ___/'  --,-`-===================##========>\n",
      "       \\               '        ##_______ _____ ,--,__,=##,__   ///\n",
      "        ,    __==    ___,-,__,--'#'  ==='      `-'    | ##,-/\n",
      "        -,____,---'       \\\\####\\\\________________,--\\\\_##,/\n",
      "           ___      .______        ______  __    __  .______      \n",
      "          /   \\     |   _  \\      /      ||  |  |  | |   _  \\     \n",
      "         /  ^  \\    |  |_)  |    |  ,----'|  |__|  | |  |_)  |    \n",
      "        /  /_\\  \\   |      /     |  |     |   __   | |      /     \n",
      "       /  _____  \\  |  |\\  \\\\___ |  `----.|  |  |  | |  |\\  \\\\___.\n",
      "      /__/     \\__\\ | _| `._____| \\______||__|  |__| | _| `._____|\n",
      "    \n",
      "\n",
      "ArchR : Version 1.0.3\n",
      "For more information see our website : www.ArchRProject.com\n",
      "If you encounter a bug please report : https://github.com/GreenleafLab/ArchR/issues\n",
      "\n",
      "Loading Required Packages...\n",
      "\n",
      "\tLoading Package : devtools v2.4.5\n",
      "\n",
      "Warning message:\n",
      "“le package ‘devtools’ a été compilé avec la version R 4.2.3”\n",
      "Warning message:\n",
      "“le package ‘usethis’ a été compilé avec la version R 4.2.3”\n",
      "\tLoading Package : grid v4.2.2\n",
      "\n",
      "\tLoading Package : gridExtra v2.3\n",
      "\n",
      "Warning message:\n",
      "“le package ‘gridExtra’ a été compilé avec la version R 4.2.3”\n",
      "\tLoading Package : gtools v3.9.4\n",
      "\n",
      "Warning message:\n",
      "“le package ‘gtools’ a été compilé avec la version R 4.2.3”\n",
      "\tLoading Package : gtable v0.3.3\n",
      "\n",
      "Warning message:\n",
      "“le package ‘gtable’ a été compilé avec la version R 4.2.3”\n",
      "\tLoading Package : ggplot2 v3.4.2\n",
      "\n",
      "Warning message:\n",
      "“le package ‘ggplot2’ a été compilé avec la version R 4.2.3”\n",
      "\tLoading Package : magrittr v2.0.3\n",
      "\n",
      "Warning message:\n",
      "“le package ‘magrittr’ a été compilé avec la version R 4.2.3”\n",
      "\tLoading Package : plyr v1.8.8\n",
      "\n",
      "Warning message:\n",
      "“le package ‘plyr’ a été compilé avec la version R 4.2.3”\n",
      "\tLoading Package : stringr v1.5.0\n",
      "\n",
      "Warning message:\n",
      "“le package ‘stringr’ a été compilé avec la version R 4.2.3”\n",
      "\tLoading Package : data.table v1.14.8\n",
      "\n",
      "Warning message:\n",
      "“le package ‘data.table’ a été compilé avec la version R 4.2.3”\n",
      "\tLoading Package : matrixStats v1.0.0\n",
      "\n",
      "Warning message:\n",
      "“le package ‘matrixStats’ a été compilé avec la version R 4.2.3”\n",
      "\tLoading Package : sparseMatrixStats v1.10.0\n",
      "\n",
      "Warning message:\n",
      "“le package ‘sparseMatrixStats’ a été compilé avec la version R 4.2.3”\n",
      "\tLoading Package : S4Vectors v0.36.0\n",
      "\n",
      "\tLoading Package : GenomicRanges v1.50.0\n",
      "\n",
      "Warning message:\n",
      "“le package ‘GenomeInfoDb’ a été compilé avec la version R 4.2.3”\n",
      "\tLoading Package : BiocGenerics v0.44.0\n",
      "\n",
      "\tLoading Package : Matrix v1.6.0\n",
      "\n",
      "Warning message:\n",
      "“le package ‘Matrix’ a été compilé avec la version R 4.2.3”\n",
      "\tLoading Package : Rcpp v1.0.11\n",
      "\n",
      "Warning message:\n",
      "“le package ‘Rcpp’ a été compilé avec la version R 4.2.3”\n",
      "\tLoading Package : RcppArmadillo v0.12.4.1.0\n",
      "\n",
      "Warning message:\n",
      "“le package ‘RcppArmadillo’ a été compilé avec la version R 4.2.3”\n",
      "\tLoading Package : SummarizedExperiment v1.28.0\n",
      "\n",
      "\tLoading Package : rhdf5 v2.42.0\n",
      "\n",
      "Warning message:\n",
      "“le package ‘rhdf5’ a été compilé avec la version R 4.2.3”\n",
      "Le chargement a nécessité le package : AnnotationDbi\n",
      "\n",
      "\n",
      "\n",
      "Le chargement a nécessité le package : BSgenome\n",
      "\n",
      "Le chargement a nécessité le package : Biostrings\n",
      "\n",
      "Le chargement a nécessité le package : XVector\n",
      "\n",
      "\n",
      "Attachement du package : ‘XVector’\n",
      "\n",
      "\n",
      "L'objet suivant est masqué depuis ‘package:plyr’:\n",
      "\n",
      "    compact\n",
      "\n",
      "\n",
      "\n",
      "Attachement du package : ‘Biostrings’\n",
      "\n",
      "\n",
      "L'objet suivant est masqué depuis ‘package:grid’:\n",
      "\n",
      "    pattern\n",
      "\n",
      "\n",
      "L'objet suivant est masqué depuis ‘package:base’:\n",
      "\n",
      "    strsplit\n",
      "\n",
      "\n",
      "Le chargement a nécessité le package : rtracklayer\n",
      "\n",
      "Warning message:\n",
      "“le package ‘rtracklayer’ a été compilé avec la version R 4.2.3”\n",
      "Warning message:\n",
      "“le package ‘Repitools’ a été compilé avec la version R 4.2.3”\n",
      "\n",
      "Attachement du package : ‘Repitools’\n",
      "\n",
      "\n",
      "L'objet suivant est masqué depuis ‘package:rtracklayer’:\n",
      "\n",
      "    blocks\n",
      "\n",
      "\n",
      "L'objet suivant est masqué depuis ‘package:data.table’:\n",
      "\n",
      "    tables\n",
      "\n",
      "\n"
     ]
    }
   ],
   "source": [
    "library(ArchR)\n",
    "library(org.Ss.eg.db)\n",
    "library(SuscrofaTxdb.11.108.july)\n",
    "library(Repitools)"
   ]
  },
  {
   "cell_type": "code",
   "execution_count": 2,
   "metadata": {
    "vscode": {
     "languageId": "r"
    }
   },
   "outputs": [],
   "source": [
    "options(repr.plot.width = 18, repr.plot.height = 17, repr.plot.pointsize = 24)"
   ]
  },
  {
   "cell_type": "code",
   "execution_count": 3,
   "metadata": {
    "vscode": {
     "languageId": "r"
    }
   },
   "outputs": [
    {
     "name": "stderr",
     "output_type": "stream",
     "text": [
      "Setting default number of Parallel threads to 5.\n",
      "\n"
     ]
    }
   ],
   "source": [
    "addArchRThreads(5)"
   ]
  },
  {
   "cell_type": "code",
   "execution_count": 4,
   "metadata": {
    "vscode": {
     "languageId": "r"
    }
   },
   "outputs": [],
   "source": [
    "load(file = \"/home/adufour/work/rds_storage/omics/archr_all_v7_stemcells.RData\")"
   ]
  },
  {
   "cell_type": "code",
   "execution_count": 5,
   "metadata": {
    "scrolled": true,
    "vscode": {
     "languageId": "r"
    }
   },
   "outputs": [],
   "source": [
    "peak_grange <- archrproj_sub@peakSet"
   ]
  },
  {
   "cell_type": "code",
   "execution_count": 6,
   "metadata": {
    "vscode": {
     "languageId": "r"
    }
   },
   "outputs": [],
   "source": [
    "peak_grange$peakName <- peak_grange %>% {paste0(seqnames(.), \"_\", start(.), \"_\", end(.))}"
   ]
  },
  {
   "cell_type": "code",
   "execution_count": 7,
   "metadata": {
    "vscode": {
     "languageId": "r"
    }
   },
   "outputs": [],
   "source": [
    "names(peak_grange) <- NULL"
   ]
  },
  {
   "cell_type": "code",
   "execution_count": 8,
   "metadata": {
    "vscode": {
     "languageId": "r"
    }
   },
   "outputs": [],
   "source": [
    "peak_DF <- annoGR2DF(peak_grange)"
   ]
  },
  {
   "cell_type": "raw",
   "metadata": {
    "scrolled": true
   },
   "source": [
    "archrproj_sub <- addPeakMatrix(archrproj_sub)"
   ]
  },
  {
   "cell_type": "code",
   "execution_count": 10,
   "metadata": {
    "vscode": {
     "languageId": "r"
    }
   },
   "outputs": [
    {
     "name": "stderr",
     "output_type": "stream",
     "text": [
      "ArchR logging to : ArchRLogs/ArchR-getMarkerFeatures-25cb5574df97de-Date-2024-07-04_Time-17-09-02.log\n",
      "If there is an issue, please report to github with logFile!\n",
      "\n",
      "MatrixClass = Sparse.Integer.Matrix\n",
      "\n",
      "2024-07-04 17:09:03 : Matching Known Biases, 0.009 mins elapsed.\n",
      "\n",
      "Warning message:\n",
      "“le package ‘nabor’ a été compilé avec la version R 4.2.3”\n",
      "###########\n",
      "2024-07-04 17:36:48 : Completed Pairwise Tests, 27.772 mins elapsed.\n",
      "###########\n",
      "\n",
      "ArchR logging successful to : ArchRLogs/ArchR-getMarkerFeatures-25cb5574df97de-Date-2024-07-04_Time-17-09-02.log\n",
      "\n"
     ]
    }
   ],
   "source": [
    "markersPeaks <- getMarkerFeatures(\n",
    "    ArchRProj = archrproj_sub, \n",
    "    useMatrix = \"PeakMatrix\", \n",
    "    groupBy = \"Clusters\",\n",
    "    bias = c(\"TSSEnrichment\", \"log10(nFrags)\"),\n",
    "    testMethod = \"wilcoxon\"\n",
    ")"
   ]
  },
  {
   "cell_type": "code",
   "execution_count": 11,
   "metadata": {
    "vscode": {
     "languageId": "r"
    }
   },
   "outputs": [],
   "source": [
    "markerPeaksList <- getMarkers(markersPeaks, cutOff = \"FDR <= 0.01 & Log2FC >= 1.25\")"
   ]
  },
  {
   "cell_type": "code",
   "execution_count": 13,
   "metadata": {
    "vscode": {
     "languageId": "r"
    }
   },
   "outputs": [],
   "source": [
    "markerPeaksList$C2$peakName <- paste0(markerPeaksList$C2$seqnames, \"_\", markerPeaksList$C2$start, \"_\", markerPeaksList$C2$end)"
   ]
  },
  {
   "cell_type": "code",
   "execution_count": 15,
   "metadata": {
    "vscode": {
     "languageId": "r"
    }
   },
   "outputs": [],
   "source": [
    "write.csv(merge(markerPeaksList$C2, peak_DF, by = \"peakName\"), \"/home/adufour/work/table/c2_stemcells_peak_marker_with_gene.csv\", row.names=FALSE)"
   ]
  },
  {
   "cell_type": "code",
   "execution_count": 13,
   "metadata": {
    "vscode": {
     "languageId": "r"
    }
   },
   "outputs": [],
   "source": [
    "peakDF <- metadata(archrproj_sub@peakSet)$PeakCallSummary"
   ]
  },
  {
   "cell_type": "raw",
   "metadata": {
    "scrolled": true
   },
   "source": [
    "archrproj_sub <- addPeak2GeneLinks(\n",
    "    ArchRProj = archrproj_sub,\n",
    "    reducedDims = \"Harmony\",\n",
    "    useMatrix = \"GeneExpressionMatrix\",\n",
    ")"
   ]
  },
  {
   "cell_type": "code",
   "execution_count": 14,
   "metadata": {
    "vscode": {
     "languageId": "r"
    }
   },
   "outputs": [],
   "source": [
    "getP2G_GR <- function(proj, corrCutoff=NULL, varCutoffATAC=0.25, varCutoffRNA=0.25, filtNA=TRUE){\n",
    "  # Function to get peaks and genes involved in peak to gene links\n",
    "  # (See: https://github.com/GreenleafLab/ArchR/issues/368)\n",
    "  ############################################################\n",
    "  # proj: ArchR project that alreayd has Peak2GeneLinks\n",
    "  # corrCutoff: minimum numeric peak-to-gene correlation to return\n",
    "  # varCutoffATAC: minimum variance quantile of the ATAC peak accessibility when selecting links\n",
    "  # varCutoffRNA: minimum variance quantile of the RNA gene expression when selecting links\n",
    "  p2gDF <- metadata(proj@peakSet)$Peak2GeneLinks\n",
    "  p2gDF$symbol <- mcols(metadata(p2gDF)$geneSet)$name[p2gDF$idxRNA] %>% as.character()\n",
    "  p2gDF$peakName <- (metadata(p2gDF)$peakSet %>% {paste0(seqnames(.), \"_\", start(.), \"_\", end(.))})[p2gDF$idxATAC]\n",
    "  # Remove peaks with 'NA' correlation values\n",
    "  if(filtNA){\n",
    "    p2gDF <- p2gDF[!is.na(p2gDF$Correlation),]\n",
    "  }\n",
    "  if(!is.null(corrCutoff)){\n",
    "    p2gDF <- p2gDF[(p2gDF$Correlation > corrCutoff),]\n",
    "  }\n",
    "  # Filter by variance quantile\n",
    "  p2gDF <- p2gDF[which(p2gDF$VarQATAC > varCutoffATAC & p2gDF$VarQRNA > varCutoffRNA),]\n",
    "  # The genomic range contains just the peak ranges:\n",
    "  p2gGR <- metadata(p2gDF)$peakSet[p2gDF$idxATAC]\n",
    "  mcols(p2gGR) <- p2gDF\n",
    "  p2gGR\n",
    "}"
   ]
  },
  {
   "cell_type": "code",
   "execution_count": 15,
   "metadata": {
    "vscode": {
     "languageId": "r"
    }
   },
   "outputs": [],
   "source": [
    "peak2gene_list <- list()"
   ]
  },
  {
   "cell_type": "code",
   "execution_count": 16,
   "metadata": {
    "vscode": {
     "languageId": "r"
    }
   },
   "outputs": [],
   "source": [
    "p2gGR <- getP2G_GR(archrproj_sub, corrCutoff=NULL, varCutoffATAC=-Inf, varCutoffRNA=-Inf, filtNA=FALSE)"
   ]
  },
  {
   "cell_type": "code",
   "execution_count": 17,
   "metadata": {
    "vscode": {
     "languageId": "r"
    }
   },
   "outputs": [],
   "source": [
    "p2gGR_DF <- annoGR2DF(p2gGR)"
   ]
  },
  {
   "cell_type": "code",
   "execution_count": 18,
   "metadata": {
    "vscode": {
     "languageId": "r"
    }
   },
   "outputs": [
    {
     "ename": "ERROR",
     "evalue": "Error in fix.by(by.x, x): 'by' doit spécifier une colonne unique correcte\n",
     "output_type": "error",
     "traceback": [
      "Error in fix.by(by.x, x): 'by' doit spécifier une colonne unique correcte\nTraceback:\n",
      "1. merge(markerPeaksList$C2, peak_DF, by = \"peakName\")",
      "2. merge(markerPeaksList$C2, peak_DF, by = \"peakName\")",
      "3. as(merge(as(x, \"data.frame\"), y, ...), class(x))",
      "4. .class1(object)",
      "5. merge(as(x, \"data.frame\"), y, ...)",
      "6. merge(as(x, \"data.frame\"), y, ...)",
      "7. merge.data.frame(as(x, \"data.frame\"), y, ...)",
      "8. fix.by(by.x, x)",
      "9. stop(ngettext(sum(bad), \"'by' must specify a uniquely valid column\", \n .     \"'by' must specify uniquely valid columns\"), domain = NA)"
     ]
    }
   ],
   "source": [
    "df1 <- merge(markerPeaksList$C2, peak_DF, by = \"peakName\")"
   ]
  },
  {
   "cell_type": "code",
   "execution_count": null,
   "metadata": {
    "vscode": {
     "languageId": "r"
    }
   },
   "outputs": [],
   "source": [
    "df2 <- merge(df1, p2gGR_DF, by = \"peakName\")"
   ]
  },
  {
   "cell_type": "code",
   "execution_count": 23,
   "metadata": {
    "vscode": {
     "languageId": "r"
    }
   },
   "outputs": [],
   "source": [
    "write.csv(df2, \"/home/adufour/work/table/c2_stemcells_peak_marker_with_gene_and_p2g.csv\", row.names=FALSE)"
   ]
  },
  {
   "cell_type": "code",
   "execution_count": 19,
   "metadata": {
    "vscode": {
     "languageId": "r"
    }
   },
   "outputs": [
    {
     "name": "stderr",
     "output_type": "stream",
     "text": [
      "ArchR logging to : ArchRLogs/ArchR-plotMarkerHeatmap-25cb557de52231-Date-2024-07-04_Time-17-40-52.log\n",
      "If there is an issue, please report to github with logFile!\n",
      "\n",
      "Identified 28621 markers!\n",
      "\n"
     ]
    },
    {
     "name": "stdout",
     "output_type": "stream",
     "text": [
      " [1] \"1:249812-250312\"       \"1:251770-252270\"       \"1:397879-398379\"      \n",
      " [4] \"1:452471-452971\"       \"1:505852-506352\"       \"1:1098350-1098850\"    \n",
      " [7] \"1:1274246-1274746\"     \"1:1288161-1288661\"     \"1:1334232-1334732\"    \n",
      "[10] \"1:1477528-1478028\"     \"1:1550552-1551052\"     \"1:1723878-1724378\"    \n",
      "[13] \"1:1725716-1726216\"     \"1:1729878-1730378\"     \"1:1749487-1749987\"    \n",
      "[16] \"1:90413-90913\"         \"1:242325-242825\"       \"1:407452-407952\"      \n",
      "[19] \"1:555626-556126\"       \"1:839051-839551\"       \"1:1875684-1876184\"    \n",
      "[22] \"1:1942209-1942709\"     \"1:1942929-1943429\"     \"1:1982525-1983025\"    \n",
      "[25] \"1:2211233-2211733\"     \"1:2337818-2338318\"     \"1:2361409-2361909\"    \n",
      "[28] \"1:2628371-2628871\"     \"1:2720478-2720978\"     \"1:2829161-2829661\"    \n",
      "[31] \"1:2004035-2004535\"     \"1:7459180-7459680\"     \"1:10215378-10215878\"  \n",
      "[34] \"1:11950770-11951270\"   \"1:12374771-12375271\"   \"1:17410623-17411123\"  \n",
      "[37] \"1:17513875-17514375\"   \"1:34758842-34759342\"   \"1:52987383-52987883\"  \n",
      "[40] \"1:71635944-71636444\"   \"1:72330766-72331266\"   \"1:75032903-75033403\"  \n",
      "[43] \"1:94661406-94661906\"   \"1:104618255-104618755\" \"1:112005041-112005541\"\n"
     ]
    },
    {
     "name": "stderr",
     "output_type": "stream",
     "text": [
      "ArchR logging successful to : ArchRLogs/ArchR-plotMarkerHeatmap-25cb557de52231-Date-2024-07-04_Time-17-40-52.log\n",
      "\n"
     ]
    }
   ],
   "source": [
    "heatmapPeaks <- ArchR::plotMarkerHeatmap(\n",
    "  seMarker = markersPeaks,\n",
    "  cutOff = \"FDR <= 0.1 & Log2FC >= 0.5\",\n",
    "  transpose = FALSE,\n",
    "  returnMatrix = TRUE\n",
    ")"
   ]
  },
  {
   "cell_type": "code",
   "execution_count": 20,
   "metadata": {
    "vscode": {
     "languageId": "r"
    }
   },
   "outputs": [],
   "source": [
    "heatmapPeaks <- as.data.frame(heatmapPeaks)\n",
    "heatmapPeaks$peaks <- rownames(heatmapPeaks)"
   ]
  },
  {
   "cell_type": "code",
   "execution_count": 21,
   "metadata": {
    "scrolled": true,
    "vscode": {
     "languageId": "r"
    }
   },
   "outputs": [],
   "source": [
    "peak_grange <- archrproj_sub@peakSet"
   ]
  },
  {
   "cell_type": "code",
   "execution_count": 22,
   "metadata": {
    "vscode": {
     "languageId": "r"
    }
   },
   "outputs": [],
   "source": [
    "peak_grange$peakName <- peak_grange %>% {paste0(seqnames(.), \":\", start(.), \"-\", end(.))}"
   ]
  },
  {
   "cell_type": "code",
   "execution_count": 23,
   "metadata": {
    "vscode": {
     "languageId": "r"
    }
   },
   "outputs": [],
   "source": [
    "names(peak_grange) <- NULL"
   ]
  },
  {
   "cell_type": "code",
   "execution_count": 24,
   "metadata": {
    "vscode": {
     "languageId": "r"
    }
   },
   "outputs": [],
   "source": [
    "peak_DF <- annoGR2DF(peak_grange)"
   ]
  },
  {
   "cell_type": "code",
   "execution_count": 25,
   "metadata": {
    "vscode": {
     "languageId": "r"
    }
   },
   "outputs": [],
   "source": [
    "peak_DF <- peak_DF[peak_DF$peakType == \"Promoter\",]"
   ]
  },
  {
   "cell_type": "code",
   "execution_count": 26,
   "metadata": {
    "vscode": {
     "languageId": "r"
    }
   },
   "outputs": [],
   "source": [
    "heatmapPeaks <- heatmapPeaks[heatmapPeaks$peaks %in% peak_DF$peakName,]"
   ]
  },
  {
   "cell_type": "code",
   "execution_count": 27,
   "metadata": {
    "vscode": {
     "languageId": "r"
    }
   },
   "outputs": [],
   "source": [
    "colnames(heatmapPeaks) <- c(\"C2\", \"C4\", \"C6\", \"peakName\")"
   ]
  },
  {
   "cell_type": "code",
   "execution_count": 28,
   "metadata": {
    "vscode": {
     "languageId": "r"
    }
   },
   "outputs": [],
   "source": [
    "write.csv(merge(heatmapPeaks, peak_DF, by = \"peakName\"), \"/home/adufour/work/table/heatmap_stemcells_peak.csv\", row.names=FALSE)"
   ]
  },
  {
   "cell_type": "code",
   "execution_count": 29,
   "metadata": {
    "vscode": {
     "languageId": "r"
    }
   },
   "outputs": [],
   "source": [
    "heatmapPeaks <- heatmapPeaks[,c(\"C6\",\"C2\",\"C4\")]"
   ]
  },
  {
   "cell_type": "code",
   "execution_count": 30,
   "metadata": {
    "scrolled": true,
    "vscode": {
     "languageId": "r"
    }
   },
   "outputs": [
    {
     "name": "stderr",
     "output_type": "stream",
     "text": [
      "Warning message:\n",
      "“le package ‘svglite’ a été compilé avec la version R 4.2.3”\n",
      "========================================\n",
      "ComplexHeatmap version 2.14.0\n",
      "Bioconductor page: http://bioconductor.org/packages/ComplexHeatmap/\n",
      "Github page: https://github.com/jokergoo/ComplexHeatmap\n",
      "Documentation: http://jokergoo.github.io/ComplexHeatmap-reference\n",
      "\n",
      "If you use it in published research, please cite either one:\n",
      "- Gu, Z. Complex Heatmap Visualization. iMeta 2022.\n",
      "- Gu, Z. Complex heatmaps reveal patterns and correlations in multidimensional \n",
      "    genomic data. Bioinformatics 2016.\n",
      "\n",
      "\n",
      "The new InteractiveComplexHeatmap package can directly export static \n",
      "complex heatmaps into an interactive Shiny app with zero effort. Have a try!\n",
      "\n",
      "This message can be suppressed by:\n",
      "  suppressPackageStartupMessages(library(ComplexHeatmap))\n",
      "========================================\n",
      "\n",
      "\n",
      "Warning message:\n",
      "“le package ‘circlize’ a été compilé avec la version R 4.2.3”\n",
      "========================================\n",
      "circlize version 0.4.15\n",
      "CRAN page: https://cran.r-project.org/package=circlize\n",
      "Github page: https://github.com/jokergoo/circlize\n",
      "Documentation: https://jokergoo.github.io/circlize_book/book/\n",
      "\n",
      "If you use it in published research, please cite:\n",
      "Gu, Z. circlize implements and enhances circular visualization\n",
      "  in R. Bioinformatics 2014.\n",
      "\n",
      "This message can be suppressed by:\n",
      "  suppressPackageStartupMessages(library(circlize))\n",
      "========================================\n",
      "\n",
      "\n",
      "Warning message:\n",
      "“le package ‘RColorBrewer’ a été compilé avec la version R 4.2.3”\n"
     ]
    }
   ],
   "source": [
    "library(svglite)\n",
    "library(ComplexHeatmap)\n",
    "library(circlize)\n",
    "library(RColorBrewer)"
   ]
  },
  {
   "cell_type": "code",
   "execution_count": 31,
   "metadata": {
    "vscode": {
     "languageId": "r"
    }
   },
   "outputs": [
    {
     "data": {
      "text/html": [
       "<strong>png:</strong> 2"
      ],
      "text/latex": [
       "\\textbf{png:} 2"
      ],
      "text/markdown": [
       "**png:** 2"
      ],
      "text/plain": [
       "png \n",
       "  2 "
      ]
     },
     "metadata": {},
     "output_type": "display_data"
    }
   ],
   "source": [
    "col_fun <- colorRamp2(seq(min(heatmapPeaks), max(heatmapPeaks), length = 100), colorRampPalette(rev(brewer.pal(n = 4, name = \"RdYlBu\")))(100))\n",
    "lgd <- list(title = \"Column Z-Scores\", legend_height = unit(6, \"cm\"), grid_width = unit(1, \"cm\"), labels_gp = gpar(fontsize = 20), title_gp = gpar(fontsize = 18), direction = \"horizontal\")\n",
    "svglite('/home/adufour/work/notebook/plots/omics/heatmap_peaks_stemcells.svg', width = 18, height = 5)\n",
    "hm <- draw(ComplexHeatmap::Heatmap(t(heatmapPeaks), col = col_fun, show_column_names = FALSE, cluster_rows = FALSE ,\n",
    "                                   row_names_gp = grid::gpar(fontsize=20), heatmap_legend_param = lgd), heatmap_legend_side = \"bottom\",\n",
    "                                   padding = unit(c(2, 8, 2, 2), \"mm\"))\n",
    "dev.off()"
   ]
  },
  {
   "cell_type": "markdown",
   "metadata": {},
   "source": [
    "# export DAG whole"
   ]
  },
  {
   "cell_type": "code",
   "execution_count": 11,
   "metadata": {
    "vscode": {
     "languageId": "r"
    }
   },
   "outputs": [
    {
     "name": "stderr",
     "output_type": "stream",
     "text": [
      "Warning message:\n",
      "“le package ‘dplyr’ a été compilé avec la version R 4.2.3”\n",
      "Warning message:\n",
      "“le package ‘tidyr’ a été compilé avec la version R 4.2.3”\n",
      "Warning message:\n",
      "“le package ‘RcppAlgos’ a été compilé avec la version R 4.2.3”\n",
      "Warning message:\n",
      "“le package ‘ggrastr’ a été compilé avec la version R 4.2.3”\n"
     ]
    }
   ],
   "source": [
    "scriptPath <- \"/home/adufour/work/scScalpChromatin\"\n",
    "source(paste0(scriptPath, \"/misc_helpers.R\"))\n",
    "source(paste0(scriptPath, \"/matrix_helpers.R\"))\n",
    "source(paste0(scriptPath, \"/plotting_config.R\"))\n",
    "source(paste0(scriptPath, \"/archr_helpers.R\"))"
   ]
  },
  {
   "cell_type": "code",
   "execution_count": 12,
   "metadata": {
    "vscode": {
     "languageId": "r"
    }
   },
   "outputs": [],
   "source": [
    "corrCutoff <- 0.5\n",
    "p2gGR <- getP2G_GR(archrproj_sub, corrCutoff=corrCutoff)"
   ]
  },
  {
   "cell_type": "code",
   "execution_count": 13,
   "metadata": {
    "vscode": {
     "languageId": "r"
    }
   },
   "outputs": [],
   "source": [
    "p2geneDF <- Repitools::annoGR2DF(p2gGR)"
   ]
  },
  {
   "cell_type": "code",
   "execution_count": 14,
   "metadata": {
    "vscode": {
     "languageId": "r"
    }
   },
   "outputs": [],
   "source": [
    "markerPeaksList <- getMarkers(markersPeaks, cutOff = \"FDR <= 0.1 & abs(Log2FC) >= 1\")"
   ]
  },
  {
   "cell_type": "code",
   "execution_count": 16,
   "metadata": {
    "vscode": {
     "languageId": "r"
    }
   },
   "outputs": [],
   "source": [
    "markerPeaksList$C2$peakName <- paste0(markerPeaksList$C2$seqnames, \"_\", markerPeaksList$C2$start, \"_\", markerPeaksList$C2$end)\n",
    "markerPeaksList$C4$peakName <- paste0(markerPeaksList$C4$seqnames, \"_\", markerPeaksList$C4$start, \"_\", markerPeaksList$C4$end)\n",
    "markerPeaksList$C6$peakName <- paste0(markerPeaksList$C6$seqnames, \"_\", markerPeaksList$C6$start, \"_\", markerPeaksList$C6$end)"
   ]
  },
  {
   "cell_type": "code",
   "execution_count": 19,
   "metadata": {
    "scrolled": true,
    "vscode": {
     "languageId": "r"
    }
   },
   "outputs": [],
   "source": [
    "peak_grange <- archrproj_sub@peakSet"
   ]
  },
  {
   "cell_type": "code",
   "execution_count": 20,
   "metadata": {
    "vscode": {
     "languageId": "r"
    }
   },
   "outputs": [],
   "source": [
    "peak_grange$peakName <- peak_grange %>% {paste0(seqnames(.), \"_\", start(.), \"_\", end(.))}"
   ]
  },
  {
   "cell_type": "code",
   "execution_count": 21,
   "metadata": {
    "vscode": {
     "languageId": "r"
    }
   },
   "outputs": [],
   "source": [
    "names(peak_grange) <- NULL"
   ]
  },
  {
   "cell_type": "code",
   "execution_count": 22,
   "metadata": {
    "vscode": {
     "languageId": "r"
    }
   },
   "outputs": [],
   "source": [
    "peak_DF <- Repitools::annoGR2DF(peak_grange)"
   ]
  },
  {
   "cell_type": "code",
   "execution_count": 23,
   "metadata": {
    "vscode": {
     "languageId": "r"
    }
   },
   "outputs": [],
   "source": [
    "merge_C2 <- merge(markerPeaksList$C2,p2geneDF,by=\"peakName\", all.x=TRUE)\n",
    "merge_C4 <- merge(markerPeaksList$C4,p2geneDF,by=\"peakName\", all.x=TRUE)\n",
    "merge_C6 <- merge(markerPeaksList$C6,p2geneDF,by=\"peakName\", all.x=TRUE)"
   ]
  },
  {
   "cell_type": "code",
   "execution_count": 24,
   "metadata": {
    "vscode": {
     "languageId": "r"
    }
   },
   "outputs": [],
   "source": [
    "write.csv(merge(merge_C2,peak_DF,by=\"peakName\"), \"/home/adufour/work/table/omics_whole_dag_c2.csv\", row.names=TRUE)\n",
    "write.csv(merge(merge_C4,peak_DF,by=\"peakName\"), \"/home/adufour/work/table/omics_whole_dag_c4.csv\", row.names=TRUE)\n",
    "write.csv(merge(merge_C6,peak_DF,by=\"peakName\"), \"/home/adufour/work/table/omics_whole_dag_c6.csv\", row.names=TRUE)"
   ]
  },
  {
   "cell_type": "code",
   "execution_count": 10,
   "metadata": {
    "vscode": {
     "languageId": "r"
    }
   },
   "outputs": [],
   "source": [
    "write.csv(peak_DF, \"/home/adufour/work/table/peak_DF_stemcells.csv\", row.names=FALSE)"
   ]
  }
 ],
 "metadata": {
  "kernelspec": {
   "display_name": "R [conda env:archer]",
   "language": "R",
   "name": "conda-env-archer-r"
  },
  "language_info": {
   "codemirror_mode": "r",
   "file_extension": ".r",
   "mimetype": "text/x-r-source",
   "name": "R",
   "pygments_lexer": "r",
   "version": "4.2.2"
  }
 },
 "nbformat": 4,
 "nbformat_minor": 4
}

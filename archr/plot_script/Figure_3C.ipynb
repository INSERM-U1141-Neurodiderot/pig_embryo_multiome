{
 "cells": [
  {
   "cell_type": "code",
   "execution_count": 1,
   "metadata": {
    "scrolled": true,
    "vscode": {
     "languageId": "r"
    }
   },
   "outputs": [
    {
     "name": "stderr",
     "output_type": "stream",
     "text": [
      "====================\n",
      "This is version 1.5.3 of SCPA\n",
      "For SCPA tutorials and latest version: https://jackbibby1.github.io/SCPA/\n",
      "For the SCPA GitHub page: https://github.com/jackbibby1/SCPA\n",
      "If you use SCPA, please cite: Bibby JA. et al. Cell Rep. 2022\n",
      "====================\n",
      "\n",
      "\n",
      "\n",
      "Attachement du package : ‘dplyr’\n",
      "\n",
      "\n",
      "Les objets suivants sont masqués depuis ‘package:stats’:\n",
      "\n",
      "    filter, lag\n",
      "\n",
      "\n",
      "Les objets suivants sont masqués depuis ‘package:base’:\n",
      "\n",
      "    intersect, setdiff, setequal, union\n",
      "\n",
      "\n",
      "The legacy packages maptools, rgdal, and rgeos, underpinning the sp package,\n",
      "which was just loaded, will retire in October 2023.\n",
      "Please refer to R-spatial evolution reports for details, especially\n",
      "https://r-spatial.org/r/2023/05/15/evolution4.html.\n",
      "It may be desirable to make the sf package available;\n",
      "package maintainers should consider adding sf to Suggests:.\n",
      "The sp package is now running under evolution status 2\n",
      "     (status 2 uses the sf package in place of rgdal)\n",
      "\n",
      "Attaching SeuratObject\n",
      "\n",
      "Le chargement a nécessité le package : Rcpp\n",
      "\n"
     ]
    }
   ],
   "source": [
    "library(ggplot2)\n",
    "library(SCPA)\n",
    "library(dplyr)\n",
    "library(tibble)\n",
    "library(msigdbr)\n",
    "library(Seurat)\n",
    "library(SeuratData)\n",
    "library(harmony)\n",
    "library(SeuratWrappers)\n",
    "library(ggrepel)"
   ]
  },
  {
   "cell_type": "code",
   "execution_count": 2,
   "metadata": {
    "vscode": {
     "languageId": "r"
    }
   },
   "outputs": [],
   "source": [
    "options(repr.plot.width = 18, repr.plot.height = 17, repr.plot.pointsize = 24)"
   ]
  },
  {
   "cell_type": "code",
   "execution_count": null,
   "metadata": {
    "scrolled": true,
    "vscode": {
     "languageId": "r"
    }
   },
   "outputs": [],
   "source": [
    "load(file = \"/home/adufour/work/rds_storage/omics/stem_cells_embryo_seurat.Rdata\")"
   ]
  },
  {
   "cell_type": "code",
   "execution_count": null,
   "metadata": {
    "vscode": {
     "languageId": "r"
    }
   },
   "outputs": [],
   "source": [
    "seurat.integrated <- NormalizeData(seurat.integrated) %>% FindVariableFeatures() %>% ScaleData() %>% RunPCA(verbose = FALSE)"
   ]
  },
  {
   "cell_type": "code",
   "execution_count": 35,
   "metadata": {
    "vscode": {
     "languageId": "r"
    }
   },
   "outputs": [
    {
     "name": "stderr",
     "output_type": "stream",
     "text": [
      "Extracting cells where origin == EMB\n",
      "\n",
      "Extracting data from the RNA assay\n",
      "\n",
      "Extracting cells where origin == ESC\n",
      "\n",
      "Warning message in asMethod(object):\n",
      "“sparse->dense coercion: allocating vector of size 4.3 GiB”\n",
      "Extracting data from the RNA assay\n",
      "\n"
     ]
    }
   ],
   "source": [
    "epiblast_cells <- seurat_extract(embryo,\n",
    "                          meta1 = \"origin\", value_meta1 = \"EMB\")\n",
    "\n",
    "esc_cells <- seurat_extract(embryo,\n",
    "                          meta1 = \"origin\", value_meta1 = \"ESC\")"
   ]
  },
  {
   "cell_type": "code",
   "execution_count": 36,
   "metadata": {
    "vscode": {
     "languageId": "r"
    }
   },
   "outputs": [],
   "source": [
    "tb1 <- msigdbr(\"Sus scrofa\", category = \"C2\", subcategory = \"CP:KEGG\")\n",
    "tb2 <- msigdbr(\"Sus scrofa\", category = \"C5\", subcategory = \"GO:BP\")\n",
    "tb3 <- msigdbr(\"Sus scrofa\", category = \"H\")"
   ]
  },
  {
   "cell_type": "code",
   "execution_count": 37,
   "metadata": {
    "vscode": {
     "languageId": "r"
    }
   },
   "outputs": [],
   "source": [
    "pathways <- rbind(tb1, tb2, tb3) %>%\n",
    "  format_pathways()"
   ]
  },
  {
   "cell_type": "code",
   "execution_count": 38,
   "metadata": {
    "scrolled": true,
    "vscode": {
     "languageId": "r"
    }
   },
   "outputs": [
    {
     "name": "stderr",
     "output_type": "stream",
     "text": [
      "Processing in parallel using 5 cores\n",
      "\n",
      "\n",
      "Cell numbers in population 1 = 1060\n",
      "\n",
      "Cell numbers in population 2 = 16237\n",
      "\n",
      "- If greater than 500 cells, these populations will be downsampled\n",
      "\n",
      "\n",
      "Excluding 3759 pathway(s) based on min/max genes parameter: GOBP_10_FORMYLTETRAHYDROFOLATE_METABOLIC_PROCESS, GOBP_2FE_2S_CLUSTER_ASSEMBLY, GOBP_3_PHOSPHOADENOSINE_5_PHOSPHOSULFATE_BIOSYNTHETIC_PROCESS, GOBP_3_PHOSPHOADENOSINE_5_PHOSPHOSULFATE_METABOLIC_PROCESS, GOBP_3_UTR_MEDIATED_MRNA_STABILIZATION...\n",
      "\n",
      "\n",
      "Calculating pathway fold changes...\n",
      "\n",
      "\n",
      "Performing a two-sample analysis with SCPA...\n",
      "\n"
     ]
    }
   ],
   "source": [
    "rest_act <- compare_pathways(samples = list(epiblast_cells, esc_cells), \n",
    "                             pathways = pathways,\n",
    "                             parallel = TRUE,\n",
    "                             cores = 5)"
   ]
  },
  {
   "cell_type": "code",
   "execution_count": 39,
   "metadata": {
    "vscode": {
     "languageId": "r"
    }
   },
   "outputs": [],
   "source": [
    "rest_act <- rest_act %>%\n",
    "  mutate(color = case_when(FC > 5 & adjPval < 0.01 ~ '#6dbf88',\n",
    "                           FC < 5 & FC > -5 & adjPval < 0.01 ~ '#84b0f0',\n",
    "                           FC < -5 & adjPval < 0.01 ~ 'mediumseagreen',\n",
    "                           FC < 5 & FC > -5 & adjPval > 0.01 ~ 'black'))"
   ]
  },
  {
   "cell_type": "code",
   "execution_count": 32,
   "metadata": {
    "vscode": {
     "languageId": "r"
    }
   },
   "outputs": [],
   "source": [
    "write.csv(rest_act, \"/home/adufour/work/table/DE_pathway_epi_esc.csv\", row.names=FALSE)"
   ]
  }
 ],
 "metadata": {
  "kernelspec": {
   "display_name": "R [conda env:scpa]",
   "language": "R",
   "name": "conda-env-scpa-r"
  },
  "language_info": {
   "codemirror_mode": "r",
   "file_extension": ".r",
   "mimetype": "text/x-r-source",
   "name": "R",
   "pygments_lexer": "r",
   "version": "4.3.1"
  }
 },
 "nbformat": 4,
 "nbformat_minor": 4
}

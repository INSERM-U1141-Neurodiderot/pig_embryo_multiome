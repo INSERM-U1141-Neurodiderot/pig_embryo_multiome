{
 "cells": [
  {
   "cell_type": "code",
   "execution_count": 1,
   "id": "423aa173",
   "metadata": {
    "scrolled": true,
    "vscode": {
     "languageId": "r"
    }
   },
   "outputs": [
    {
     "name": "stderr",
     "output_type": "stream",
     "text": [
      "\n",
      "                                                   / |\n",
      "                                                 /    \\\n",
      "            .                                  /      |.\n",
      "            \\\\\\                              /        |.\n",
      "              \\\\\\                          /           `|.\n",
      "                \\\\\\                      /              |.\n",
      "                  \\                    /                |\\\n",
      "                  \\\\#####\\           /                  ||\n",
      "                ==###########>      /                   ||\n",
      "                 \\\\##==......\\    /                     ||\n",
      "            ______ =       =|__ /__                     ||      \\\\\\\n",
      "        ,--' ,----`-,__ ___/'  --,-`-===================##========>\n",
      "       \\               '        ##_______ _____ ,--,__,=##,__   ///\n",
      "        ,    __==    ___,-,__,--'#'  ==='      `-'    | ##,-/\n",
      "        -,____,---'       \\\\####\\\\________________,--\\\\_##,/\n",
      "           ___      .______        ______  __    __  .______      \n",
      "          /   \\     |   _  \\      /      ||  |  |  | |   _  \\     \n",
      "         /  ^  \\    |  |_)  |    |  ,----'|  |__|  | |  |_)  |    \n",
      "        /  /_\\  \\   |      /     |  |     |   __   | |      /     \n",
      "       /  _____  \\  |  |\\  \\\\___ |  `----.|  |  |  | |  |\\  \\\\___.\n",
      "      /__/     \\__\\ | _| `._____| \\______||__|  |__| | _| `._____|\n",
      "    \n",
      "\n",
      "ArchR : Version 1.0.3\n",
      "For more information see our website : www.ArchRProject.com\n",
      "If you encounter a bug please report : https://github.com/GreenleafLab/ArchR/issues\n",
      "\n",
      "Loading Required Packages...\n",
      "\n",
      "\tLoading Package : devtools v2.4.5\n",
      "\n",
      "\tLoading Package : grid v4.1.3\n",
      "\n",
      "\tLoading Package : gridExtra v2.3\n",
      "\n",
      "\tLoading Package : gtools v3.9.4\n",
      "\n",
      "\tLoading Package : gtable v0.3.1\n",
      "\n",
      "\tLoading Package : ggplot2 v3.4.0\n",
      "\n",
      "\tLoading Package : magrittr v2.0.3\n",
      "\n",
      "\tLoading Package : plyr v1.8.8\n",
      "\n",
      "\tLoading Package : stringr v1.5.0\n",
      "\n",
      "\tLoading Package : data.table v1.14.6\n",
      "\n",
      "\tLoading Package : matrixStats v0.63.0\n",
      "\n",
      "\tLoading Package : sparseMatrixStats v1.6.0\n",
      "\n",
      "\tLoading Package : S4Vectors v0.32.4\n",
      "\n",
      "\tLoading Package : GenomicRanges v1.46.1\n",
      "\n",
      "\tLoading Package : BiocGenerics v0.40.0\n",
      "\n",
      "\tLoading Package : Matrix v1.5.3\n",
      "\n",
      "\tLoading Package : Rcpp v1.0.10\n",
      "\n",
      "\tLoading Package : RcppArmadillo v0.11.4.3.1\n",
      "\n",
      "\tLoading Package : SummarizedExperiment v1.24.0\n",
      "\n",
      "\tLoading Package : rhdf5 v2.38.1\n",
      "\n",
      "Le chargement a nécessité le package : AnnotationDbi\n",
      "\n",
      "\n",
      "\n",
      "Le chargement a nécessité le package : BSgenome\n",
      "\n",
      "Le chargement a nécessité le package : Biostrings\n",
      "\n",
      "Le chargement a nécessité le package : XVector\n",
      "\n",
      "\n",
      "Attachement du package : ‘XVector’\n",
      "\n",
      "\n",
      "L'objet suivant est masqué depuis ‘package:plyr’:\n",
      "\n",
      "    compact\n",
      "\n",
      "\n",
      "\n",
      "Attachement du package : ‘Biostrings’\n",
      "\n",
      "\n",
      "L'objet suivant est masqué depuis ‘package:grid’:\n",
      "\n",
      "    pattern\n",
      "\n",
      "\n",
      "L'objet suivant est masqué depuis ‘package:base’:\n",
      "\n",
      "    strsplit\n",
      "\n",
      "\n",
      "Le chargement a nécessité le package : rtracklayer\n",
      "\n"
     ]
    }
   ],
   "source": [
    "library(ArchR)\n",
    "library(org.Ss.eg.db)\n",
    "library(SuscrofaTxdb.11.108.fixed)\n",
    "library(GenomicRanges)\n",
    "library(gprofiler2)\n",
    "library(GenomicFeatures)"
   ]
  },
  {
   "cell_type": "code",
   "execution_count": 3,
   "id": "d5f5569d",
   "metadata": {
    "vscode": {
     "languageId": "r"
    }
   },
   "outputs": [
    {
     "name": "stderr",
     "output_type": "stream",
     "text": [
      "Import genomic features from the file as a GRanges object ... \n",
      "OK\n",
      "\n",
      "Prepare the 'metadata' data frame ... \n",
      "OK\n",
      "\n",
      "Make the TxDb object ... \n",
      "Warning message in .get_cds_IDX(mcols0$type, mcols0$phase):\n",
      "“The \"phase\" metadata column contains non-NA values for features of type\n",
      "  stop_codon. This information was ignored.”\n",
      "OK\n",
      "\n"
     ]
    }
   ],
   "source": [
    "txdb_double <- makeTxDbFromGFF(\"/home/adufour/work/genome_and_annotation/plus4pigs.mapped_to_reference.2023_01_18.Sus_scrofa.Sscrofa11.1.108.sorted.gtf\", format=\"gtf\")"
   ]
  },
  {
   "cell_type": "code",
   "execution_count": 5,
   "id": "9445410e",
   "metadata": {
    "vscode": {
     "languageId": "r"
    }
   },
   "outputs": [],
   "source": [
    "genes <- GenomicFeatures::genes(txdb_double)"
   ]
  },
  {
   "cell_type": "code",
   "execution_count": 6,
   "id": "27ac1442",
   "metadata": {
    "vscode": {
     "languageId": "r"
    }
   },
   "outputs": [],
   "source": [
    "dataframe <- gconvert(\n",
    "genes$gene_id,\n",
    "organism = \"sscrofa\",\n",
    "target = \"ENSG\",\n",
    "mthreshold = 1,\n",
    "filter_na = FALSE\n",
    ")"
   ]
  },
  {
   "cell_type": "code",
   "execution_count": 7,
   "id": "9d7adee7",
   "metadata": {
    "vscode": {
     "languageId": "r"
    }
   },
   "outputs": [],
   "source": [
    "genes$gene_id <- dataframe$target"
   ]
  },
  {
   "cell_type": "code",
   "execution_count": 8,
   "id": "219f4c5b",
   "metadata": {
    "vscode": {
     "languageId": "r"
    }
   },
   "outputs": [],
   "source": [
    "genes$symbol <- dataframe$name"
   ]
  },
  {
   "cell_type": "code",
   "execution_count": 9,
   "id": "9598e2ae",
   "metadata": {
    "vscode": {
     "languageId": "r"
    }
   },
   "outputs": [],
   "source": [
    "names(genes) <- NULL"
   ]
  },
  {
   "cell_type": "code",
   "execution_count": 10,
   "id": "390e22b3",
   "metadata": {
    "vscode": {
     "languageId": "r"
    }
   },
   "outputs": [],
   "source": [
    "genes <- genes[!genes$gene_id %in% NA]"
   ]
  },
  {
   "cell_type": "code",
   "execution_count": 11,
   "id": "27c77f72-7606-4947-98a4-b0ebcd87aec1",
   "metadata": {
    "vscode": {
     "languageId": "r"
    }
   },
   "outputs": [],
   "source": [
    "filter <- seqlevels(genes)[!seqlevels(genes) %in% seqlevelsInUse(genes)]"
   ]
  },
  {
   "cell_type": "code",
   "execution_count": 12,
   "id": "1a584244-b2a1-4a19-8628-6bf271e2612e",
   "metadata": {
    "vscode": {
     "languageId": "r"
    }
   },
   "outputs": [],
   "source": [
    "seqlevels(genes) <- seqlevelsInUse(genes)"
   ]
  },
  {
   "cell_type": "code",
   "execution_count": 13,
   "id": "a5ef7719",
   "metadata": {
    "vscode": {
     "languageId": "r"
    }
   },
   "outputs": [],
   "source": [
    "exons <- exons(txdb_double, columns=\"gene_id\")"
   ]
  },
  {
   "cell_type": "code",
   "execution_count": 14,
   "id": "6e9269a9",
   "metadata": {
    "vscode": {
     "languageId": "r"
    }
   },
   "outputs": [],
   "source": [
    "dataframe <- gconvert(\n",
    "exons$gene_id,\n",
    "organism = \"sscrofa\",\n",
    "target = \"ENSG\",\n",
    "mthreshold = 1,\n",
    "filter_na = FALSE\n",
    ")"
   ]
  },
  {
   "cell_type": "code",
   "execution_count": 15,
   "id": "4dfeae5b",
   "metadata": {
    "vscode": {
     "languageId": "r"
    }
   },
   "outputs": [],
   "source": [
    "exons$gene_id <- dataframe$target"
   ]
  },
  {
   "cell_type": "code",
   "execution_count": 16,
   "id": "e7201876",
   "metadata": {
    "vscode": {
     "languageId": "r"
    }
   },
   "outputs": [],
   "source": [
    "exons$symbol <- dataframe$name"
   ]
  },
  {
   "cell_type": "code",
   "execution_count": 17,
   "id": "4cd23443",
   "metadata": {
    "vscode": {
     "languageId": "r"
    }
   },
   "outputs": [],
   "source": [
    "exons <- exons[!exons$gene_id %in% NA]"
   ]
  },
  {
   "cell_type": "code",
   "execution_count": 18,
   "id": "11113d1c-866f-4645-9067-78dbc3d750d5",
   "metadata": {
    "vscode": {
     "languageId": "r"
    }
   },
   "outputs": [],
   "source": [
    "seqlevels(exons) <- seqlevelsInUse(exons)"
   ]
  },
  {
   "cell_type": "code",
   "execution_count": 19,
   "id": "aa4930fa",
   "metadata": {
    "vscode": {
     "languageId": "r"
    }
   },
   "outputs": [],
   "source": [
    "transcripts_list <- transcripts(txdb_double, columns=c(\"tx_id\", \"tx_name\"))"
   ]
  },
  {
   "cell_type": "code",
   "execution_count": 20,
   "id": "a8eac7df-e6af-47e8-b245-38bec6daf01b",
   "metadata": {
    "vscode": {
     "languageId": "r"
    }
   },
   "outputs": [],
   "source": [
    "transcripts_list <- transcripts_list[seqnames(transcripts_list) %in% seqlevels(transcripts_list)[seqlevels(transcripts_list) %in% seqlevels(genes)]]"
   ]
  },
  {
   "cell_type": "code",
   "execution_count": 21,
   "id": "026c775c-d5ff-4022-96e5-936df7196d19",
   "metadata": {
    "vscode": {
     "languageId": "r"
    }
   },
   "outputs": [],
   "source": [
    "seqlevels(transcripts_list) <- seqlevelsInUse(transcripts_list)"
   ]
  },
  {
   "cell_type": "code",
   "execution_count": 22,
   "id": "4dcb5c4e",
   "metadata": {
    "vscode": {
     "languageId": "r"
    }
   },
   "outputs": [],
   "source": [
    "tss <- resize(transcripts_list, width=1, fix='start')"
   ]
  },
  {
   "cell_type": "code",
   "execution_count": 23,
   "id": "e2c54c58",
   "metadata": {
    "vscode": {
     "languageId": "r"
    }
   },
   "outputs": [],
   "source": [
    "geneAnnotation <- createGeneAnnotation(genes = genes, exons = exons, TSS = tss, OrgDb = org.Ss.eg.db)"
   ]
  },
  {
   "cell_type": "code",
   "execution_count": 25,
   "id": "499912d2-dd88-44ae-b10c-419e92d7906d",
   "metadata": {
    "vscode": {
     "languageId": "r"
    }
   },
   "outputs": [],
   "source": [
    "saveRDS(geneAnnotation, file = \"/home/adufour/work/rds_storage/omics/geneannotation.rds\")"
   ]
  }
 ],
 "metadata": {
  "kernelspec": {
   "display_name": "R [conda env:archer]",
   "language": "R",
   "name": "conda-env-archer-r"
  },
  "language_info": {
   "codemirror_mode": "r",
   "file_extension": ".r",
   "mimetype": "text/x-r-source",
   "name": "R",
   "pygments_lexer": "r",
   "version": "4.2.2"
  }
 },
 "nbformat": 4,
 "nbformat_minor": 5
}

{
 "cells": [
  {
   "cell_type": "code",
   "execution_count": 8,
   "id": "b4651e46-e4e9-4c8d-88b4-097c0ef60e45",
   "metadata": {
    "scrolled": true,
    "vscode": {
     "languageId": "r"
    }
   },
   "outputs": [
    {
     "name": "stderr",
     "output_type": "stream",
     "text": [
      "Warning message:\n",
      "“le package ‘Repitools’ a été compilé avec la version R 4.2.3”\n",
      "\n",
      "Attachement du package : ‘Repitools’\n",
      "\n",
      "\n",
      "L'objet suivant est masqué depuis ‘package:rtracklayer’:\n",
      "\n",
      "    blocks\n",
      "\n",
      "\n",
      "L'objet suivant est masqué depuis ‘package:data.table’:\n",
      "\n",
      "    tables\n",
      "\n",
      "\n"
     ]
    }
   ],
   "source": [
    "library(ArchR)\n",
    "library(org.Ss.eg.db)\n",
    "library(SuscrofaTxdb.11.108.july)\n",
    "library(ggrepel)\n",
    "library(Repitools)"
   ]
  },
  {
   "cell_type": "code",
   "execution_count": 2,
   "id": "abaf05ba-5c8a-4731-9526-9394fbdaef5c",
   "metadata": {
    "vscode": {
     "languageId": "r"
    }
   },
   "outputs": [],
   "source": [
    "load(file = \"/home/adufour/work/rds_storage/omics/archr_all_v7_embryo.RData\")"
   ]
  },
  {
   "cell_type": "code",
   "execution_count": 3,
   "id": "8ca34e9b-65f6-4b98-a717-0133538c57bb",
   "metadata": {
    "vscode": {
     "languageId": "r"
    }
   },
   "outputs": [
    {
     "name": "stderr",
     "output_type": "stream",
     "text": [
      "Setting default number of Parallel threads to 2.\n",
      "\n"
     ]
    }
   ],
   "source": [
    "addArchRThreads(2)"
   ]
  },
  {
   "cell_type": "code",
   "execution_count": 4,
   "id": "352af8a1-a07a-4f66-ba91-d47c6c32788f",
   "metadata": {
    "vscode": {
     "languageId": "r"
    }
   },
   "outputs": [
    {
     "name": "stderr",
     "output_type": "stream",
     "text": [
      "Setting ArchRLocking to TRUE.\n",
      "\n"
     ]
    }
   ],
   "source": [
    "addArchRLocking(locking = TRUE)"
   ]
  },
  {
   "cell_type": "code",
   "execution_count": 5,
   "id": "c1042fb0-2737-40e0-b206-e0c23c15b9f2",
   "metadata": {
    "vscode": {
     "languageId": "r"
    }
   },
   "outputs": [
    {
     "name": "stderr",
     "output_type": "stream",
     "text": [
      "Warning message:\n",
      "“le package ‘dplyr’ a été compilé avec la version R 4.2.3”\n",
      "Warning message:\n",
      "“le package ‘tidyr’ a été compilé avec la version R 4.2.3”\n",
      "Warning message:\n",
      "“le package ‘RcppAlgos’ a été compilé avec la version R 4.2.3”\n",
      "Warning message:\n",
      "“le package ‘ggrastr’ a été compilé avec la version R 4.2.3”\n"
     ]
    }
   ],
   "source": [
    "scriptPath <- \"/home/adufour/work/scScalpChromatin\"\n",
    "source(paste0(scriptPath, \"/misc_helpers.R\"))\n",
    "source(paste0(scriptPath, \"/matrix_helpers.R\"))\n",
    "source(paste0(scriptPath, \"/plotting_config.R\"))\n",
    "source(paste0(scriptPath, \"/archr_helpers.R\"))"
   ]
  },
  {
   "cell_type": "code",
   "execution_count": 6,
   "id": "9c9c61de-c987-445e-9287-cdcfea46d0ae",
   "metadata": {
    "vscode": {
     "languageId": "r"
    }
   },
   "outputs": [],
   "source": [
    "corrCutoff <- 0.5\n",
    "p2gGR <- getP2G_GR(archrproj_sub, corrCutoff=corrCutoff)"
   ]
  },
  {
   "cell_type": "code",
   "execution_count": 9,
   "id": "abadbd36-1c0a-4caf-a673-11b75c6d1329",
   "metadata": {
    "vscode": {
     "languageId": "r"
    }
   },
   "outputs": [],
   "source": [
    "p2gDF <- annoGR2DF(p2gGR)"
   ]
  },
  {
   "cell_type": "code",
   "execution_count": 11,
   "id": "a91acfdd-8f85-494b-b4ec-5d01e6daa58d",
   "metadata": {
    "vscode": {
     "languageId": "r"
    }
   },
   "outputs": [],
   "source": [
    "write.csv(p2gDF, \"/home/adufour/work/table/p2g_embryo.csv\", row.names=FALSE)"
   ]
  }
 ],
 "metadata": {
  "kernelspec": {
   "display_name": "R [conda env:archer]",
   "language": "R",
   "name": "conda-env-archer-r"
  },
  "language_info": {
   "codemirror_mode": "r",
   "file_extension": ".r",
   "mimetype": "text/x-r-source",
   "name": "R",
   "pygments_lexer": "r",
   "version": "4.2.2"
  }
 },
 "nbformat": 4,
 "nbformat_minor": 5
}

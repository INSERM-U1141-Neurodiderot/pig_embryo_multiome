{
 "cells": [
  {
   "cell_type": "code",
   "execution_count": 8,
   "id": "b4651e46-e4e9-4c8d-88b4-097c0ef60e45",
   "metadata": {
    "scrolled": true
   },
   "outputs": [
    {
     "name": "stderr",
     "output_type": "stream",
     "text": [
      "Warning message:\n",
      "“le package ‘Repitools’ a été compilé avec la version R 4.2.3”\n",
      "\n",
      "Attachement du package : ‘Repitools’\n",
      "\n",
      "\n",
      "L'objet suivant est masqué depuis ‘package:rtracklayer’:\n",
      "\n",
      "    blocks\n",
      "\n",
      "\n",
      "L'objet suivant est masqué depuis ‘package:data.table’:\n",
      "\n",
      "    tables\n",
      "\n",
      "\n"
     ]
    }
   ],
   "source": [
    "library(ArchR)\n",
    "library(org.Ss.eg.db)\n",
    "library(SuscrofaTxdb.11.108.july)\n",
    "library(ggrepel)\n",
    "library(Repitools)"
   ]
  },
  {
   "cell_type": "code",
   "execution_count": 2,
   "id": "abaf05ba-5c8a-4731-9526-9394fbdaef5c",
   "metadata": {},
   "outputs": [],
   "source": [
    "load(file = \"/home/adufour/work/rds_storage/omics/archr_all_v7_embryo.RData\")"
   ]
  },
  {
   "cell_type": "code",
   "execution_count": 3,
   "id": "8ca34e9b-65f6-4b98-a717-0133538c57bb",
   "metadata": {},
   "outputs": [
    {
     "name": "stderr",
     "output_type": "stream",
     "text": [
      "Setting default number of Parallel threads to 2.\n",
      "\n"
     ]
    }
   ],
   "source": [
    "addArchRThreads(2)"
   ]
  },
  {
   "cell_type": "code",
   "execution_count": 4,
   "id": "352af8a1-a07a-4f66-ba91-d47c6c32788f",
   "metadata": {},
   "outputs": [
    {
     "name": "stderr",
     "output_type": "stream",
     "text": [
      "Setting ArchRLocking to TRUE.\n",
      "\n"
     ]
    }
   ],
   "source": [
    "addArchRLocking(locking = TRUE)"
   ]
  },
  {
   "cell_type": "code",
   "execution_count": 5,
   "id": "c1042fb0-2737-40e0-b206-e0c23c15b9f2",
   "metadata": {},
   "outputs": [
    {
     "name": "stderr",
     "output_type": "stream",
     "text": [
      "Warning message:\n",
      "“le package ‘dplyr’ a été compilé avec la version R 4.2.3”\n",
      "Warning message:\n",
      "“le package ‘tidyr’ a été compilé avec la version R 4.2.3”\n",
      "Warning message:\n",
      "“le package ‘RcppAlgos’ a été compilé avec la version R 4.2.3”\n",
      "Warning message:\n",
      "“le package ‘ggrastr’ a été compilé avec la version R 4.2.3”\n"
     ]
    }
   ],
   "source": [
    "scriptPath <- \"/home/adufour/work/scScalpChromatin\"\n",
    "source(paste0(scriptPath, \"/misc_helpers.R\"))\n",
    "source(paste0(scriptPath, \"/matrix_helpers.R\"))\n",
    "source(paste0(scriptPath, \"/plotting_config.R\"))\n",
    "source(paste0(scriptPath, \"/archr_helpers.R\"))"
   ]
  },
  {
   "cell_type": "code",
   "execution_count": 6,
   "id": "9c9c61de-c987-445e-9287-cdcfea46d0ae",
   "metadata": {},
   "outputs": [],
   "source": [
    "corrCutoff <- 0.5\n",
    "p2gGR <- getP2G_GR(archrproj_sub, corrCutoff=corrCutoff)"
   ]
  },
  {
   "cell_type": "code",
   "execution_count": 9,
   "id": "abadbd36-1c0a-4caf-a673-11b75c6d1329",
   "metadata": {},
   "outputs": [],
   "source": [
    "p2gDF <- annoGR2DF(p2gGR)"
   ]
  },
  {
   "cell_type": "code",
   "execution_count": 10,
   "id": "32363d0b-7b1d-4b47-800c-ec691439b775",
   "metadata": {},
   "outputs": [
    {
     "data": {
      "text/html": [
       "<table class=\"dataframe\">\n",
       "<caption>A data.frame: 6 × 12</caption>\n",
       "<thead>\n",
       "\t<tr><th></th><th scope=col>chr</th><th scope=col>start</th><th scope=col>end</th><th scope=col>width</th><th scope=col>idxATAC</th><th scope=col>idxRNA</th><th scope=col>Correlation</th><th scope=col>FDR</th><th scope=col>VarQATAC</th><th scope=col>VarQRNA</th><th scope=col>symbol</th><th scope=col>peakName</th></tr>\n",
       "\t<tr><th></th><th scope=col>&lt;fct&gt;</th><th scope=col>&lt;int&gt;</th><th scope=col>&lt;int&gt;</th><th scope=col>&lt;int&gt;</th><th scope=col>&lt;int&gt;</th><th scope=col>&lt;int&gt;</th><th scope=col>&lt;dbl&gt;</th><th scope=col>&lt;dbl&gt;</th><th scope=col>&lt;dbl&gt;</th><th scope=col>&lt;dbl&gt;</th><th scope=col>&lt;chr&gt;</th><th scope=col>&lt;chr&gt;</th></tr>\n",
       "</thead>\n",
       "<tbody>\n",
       "\t<tr><th scope=row>1</th><td>1</td><td> 332316</td><td> 332816</td><td>501</td><td> 27</td><td>12</td><td>0.6089383</td><td>2.456978e-49</td><td>0.5928186</td><td>0.7572482</td><td>WDR27</td><td>1_332316_332816  </td></tr>\n",
       "\t<tr><th scope=row>2</th><td>1</td><td> 397879</td><td> 398379</td><td>501</td><td> 31</td><td>12</td><td>0.6692693</td><td>4.277479e-63</td><td>0.7493222</td><td>0.7572482</td><td>WDR27</td><td>1_397879_398379  </td></tr>\n",
       "\t<tr><th scope=row>3</th><td>1</td><td> 465721</td><td> 466221</td><td>501</td><td> 36</td><td>12</td><td>0.6054397</td><td>1.249234e-48</td><td>0.3178965</td><td>0.7572482</td><td>WDR27</td><td>1_465721_466221  </td></tr>\n",
       "\t<tr><th scope=row>4</th><td>1</td><td> 619557</td><td> 620057</td><td>501</td><td> 52</td><td>12</td><td>0.6613510</td><td>4.173780e-61</td><td>0.7376871</td><td>0.7572482</td><td>WDR27</td><td>1_619557_620057  </td></tr>\n",
       "\t<tr><th scope=row>5</th><td>1</td><td>1393359</td><td>1393859</td><td>501</td><td> 64</td><td>15</td><td>0.6141638</td><td>2.070099e-50</td><td>0.5459383</td><td>0.7515079</td><td>SMOC2</td><td>1_1393359_1393859</td></tr>\n",
       "\t<tr><th scope=row>6</th><td>1</td><td>1717137</td><td>1717637</td><td>501</td><td>105</td><td>21</td><td>0.7498480</td><td>1.694250e-87</td><td>0.9944674</td><td>0.9783502</td><td>AFDN </td><td>1_1717137_1717637</td></tr>\n",
       "</tbody>\n",
       "</table>\n"
      ],
      "text/latex": [
       "A data.frame: 6 × 12\n",
       "\\begin{tabular}{r|llllllllllll}\n",
       "  & chr & start & end & width & idxATAC & idxRNA & Correlation & FDR & VarQATAC & VarQRNA & symbol & peakName\\\\\n",
       "  & <fct> & <int> & <int> & <int> & <int> & <int> & <dbl> & <dbl> & <dbl> & <dbl> & <chr> & <chr>\\\\\n",
       "\\hline\n",
       "\t1 & 1 &  332316 &  332816 & 501 &  27 & 12 & 0.6089383 & 2.456978e-49 & 0.5928186 & 0.7572482 & WDR27 & 1\\_332316\\_332816  \\\\\n",
       "\t2 & 1 &  397879 &  398379 & 501 &  31 & 12 & 0.6692693 & 4.277479e-63 & 0.7493222 & 0.7572482 & WDR27 & 1\\_397879\\_398379  \\\\\n",
       "\t3 & 1 &  465721 &  466221 & 501 &  36 & 12 & 0.6054397 & 1.249234e-48 & 0.3178965 & 0.7572482 & WDR27 & 1\\_465721\\_466221  \\\\\n",
       "\t4 & 1 &  619557 &  620057 & 501 &  52 & 12 & 0.6613510 & 4.173780e-61 & 0.7376871 & 0.7572482 & WDR27 & 1\\_619557\\_620057  \\\\\n",
       "\t5 & 1 & 1393359 & 1393859 & 501 &  64 & 15 & 0.6141638 & 2.070099e-50 & 0.5459383 & 0.7515079 & SMOC2 & 1\\_1393359\\_1393859\\\\\n",
       "\t6 & 1 & 1717137 & 1717637 & 501 & 105 & 21 & 0.7498480 & 1.694250e-87 & 0.9944674 & 0.9783502 & AFDN  & 1\\_1717137\\_1717637\\\\\n",
       "\\end{tabular}\n"
      ],
      "text/markdown": [
       "\n",
       "A data.frame: 6 × 12\n",
       "\n",
       "| <!--/--> | chr &lt;fct&gt; | start &lt;int&gt; | end &lt;int&gt; | width &lt;int&gt; | idxATAC &lt;int&gt; | idxRNA &lt;int&gt; | Correlation &lt;dbl&gt; | FDR &lt;dbl&gt; | VarQATAC &lt;dbl&gt; | VarQRNA &lt;dbl&gt; | symbol &lt;chr&gt; | peakName &lt;chr&gt; |\n",
       "|---|---|---|---|---|---|---|---|---|---|---|---|---|\n",
       "| 1 | 1 |  332316 |  332816 | 501 |  27 | 12 | 0.6089383 | 2.456978e-49 | 0.5928186 | 0.7572482 | WDR27 | 1_332316_332816   |\n",
       "| 2 | 1 |  397879 |  398379 | 501 |  31 | 12 | 0.6692693 | 4.277479e-63 | 0.7493222 | 0.7572482 | WDR27 | 1_397879_398379   |\n",
       "| 3 | 1 |  465721 |  466221 | 501 |  36 | 12 | 0.6054397 | 1.249234e-48 | 0.3178965 | 0.7572482 | WDR27 | 1_465721_466221   |\n",
       "| 4 | 1 |  619557 |  620057 | 501 |  52 | 12 | 0.6613510 | 4.173780e-61 | 0.7376871 | 0.7572482 | WDR27 | 1_619557_620057   |\n",
       "| 5 | 1 | 1393359 | 1393859 | 501 |  64 | 15 | 0.6141638 | 2.070099e-50 | 0.5459383 | 0.7515079 | SMOC2 | 1_1393359_1393859 |\n",
       "| 6 | 1 | 1717137 | 1717637 | 501 | 105 | 21 | 0.7498480 | 1.694250e-87 | 0.9944674 | 0.9783502 | AFDN  | 1_1717137_1717637 |\n",
       "\n"
      ],
      "text/plain": [
       "  chr start   end     width idxATAC idxRNA Correlation FDR          VarQATAC \n",
       "1 1    332316  332816 501    27     12     0.6089383   2.456978e-49 0.5928186\n",
       "2 1    397879  398379 501    31     12     0.6692693   4.277479e-63 0.7493222\n",
       "3 1    465721  466221 501    36     12     0.6054397   1.249234e-48 0.3178965\n",
       "4 1    619557  620057 501    52     12     0.6613510   4.173780e-61 0.7376871\n",
       "5 1   1393359 1393859 501    64     15     0.6141638   2.070099e-50 0.5459383\n",
       "6 1   1717137 1717637 501   105     21     0.7498480   1.694250e-87 0.9944674\n",
       "  VarQRNA   symbol peakName         \n",
       "1 0.7572482 WDR27  1_332316_332816  \n",
       "2 0.7572482 WDR27  1_397879_398379  \n",
       "3 0.7572482 WDR27  1_465721_466221  \n",
       "4 0.7572482 WDR27  1_619557_620057  \n",
       "5 0.7515079 SMOC2  1_1393359_1393859\n",
       "6 0.9783502 AFDN   1_1717137_1717637"
      ]
     },
     "metadata": {},
     "output_type": "display_data"
    }
   ],
   "source": [
    "head(p2gDF)"
   ]
  },
  {
   "cell_type": "code",
   "execution_count": 11,
   "id": "a91acfdd-8f85-494b-b4ec-5d01e6daa58d",
   "metadata": {},
   "outputs": [],
   "source": [
    "write.csv(p2gDF, \"/home/adufour/work/table/p2g_embryo.csv\", row.names=FALSE)"
   ]
  }
 ],
 "metadata": {
  "kernelspec": {
   "display_name": "R [conda env:archer]",
   "language": "R",
   "name": "conda-env-archer-r"
  },
  "language_info": {
   "codemirror_mode": "r",
   "file_extension": ".r",
   "mimetype": "text/x-r-source",
   "name": "R",
   "pygments_lexer": "r",
   "version": "4.2.2"
  }
 },
 "nbformat": 4,
 "nbformat_minor": 5
}

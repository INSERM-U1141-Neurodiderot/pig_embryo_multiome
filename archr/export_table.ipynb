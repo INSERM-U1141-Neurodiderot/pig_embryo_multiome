{
 "cells": [
  {
   "cell_type": "markdown",
   "metadata": {},
   "source": [
    "# Test notebook"
   ]
  },
  {
   "cell_type": "code",
   "execution_count": 1,
   "metadata": {
    "scrolled": true,
    "tags": [],
    "vscode": {
     "languageId": "r"
    }
   },
   "outputs": [
    {
     "name": "stderr",
     "output_type": "stream",
     "text": [
      "\n",
      "                                                   / |\n",
      "                                                 /    \\\n",
      "            .                                  /      |.\n",
      "            \\\\\\                              /        |.\n",
      "              \\\\\\                          /           `|.\n",
      "                \\\\\\                      /              |.\n",
      "                  \\                    /                |\\\n",
      "                  \\\\#####\\           /                  ||\n",
      "                ==###########>      /                   ||\n",
      "                 \\\\##==......\\    /                     ||\n",
      "            ______ =       =|__ /__                     ||      \\\\\\\n",
      "        ,--' ,----`-,__ ___/'  --,-`-===================##========>\n",
      "       \\               '        ##_______ _____ ,--,__,=##,__   ///\n",
      "        ,    __==    ___,-,__,--'#'  ==='      `-'    | ##,-/\n",
      "        -,____,---'       \\\\####\\\\________________,--\\\\_##,/\n",
      "           ___      .______        ______  __    __  .______      \n",
      "          /   \\     |   _  \\      /      ||  |  |  | |   _  \\     \n",
      "         /  ^  \\    |  |_)  |    |  ,----'|  |__|  | |  |_)  |    \n",
      "        /  /_\\  \\   |      /     |  |     |   __   | |      /     \n",
      "       /  _____  \\  |  |\\  \\\\___ |  `----.|  |  |  | |  |\\  \\\\___.\n",
      "      /__/     \\__\\ | _| `._____| \\______||__|  |__| | _| `._____|\n",
      "    \n",
      "\n",
      "ArchR : Version 1.0.3\n",
      "For more information see our website : www.ArchRProject.com\n",
      "If you encounter a bug please report : https://github.com/GreenleafLab/ArchR/issues\n",
      "\n",
      "Loading Required Packages...\n",
      "\n",
      "\tLoading Package : devtools v2.4.5\n",
      "\n",
      "Warning message:\n",
      "“le package ‘devtools’ a été compilé avec la version R 4.2.3”\n",
      "Warning message:\n",
      "“le package ‘usethis’ a été compilé avec la version R 4.2.3”\n",
      "\tLoading Package : grid v4.2.2\n",
      "\n",
      "\tLoading Package : gridExtra v2.3\n",
      "\n",
      "Warning message:\n",
      "“le package ‘gridExtra’ a été compilé avec la version R 4.2.3”\n",
      "\tLoading Package : gtools v3.9.4\n",
      "\n",
      "Warning message:\n",
      "“le package ‘gtools’ a été compilé avec la version R 4.2.3”\n",
      "\tLoading Package : gtable v0.3.3\n",
      "\n",
      "Warning message:\n",
      "“le package ‘gtable’ a été compilé avec la version R 4.2.3”\n",
      "\tLoading Package : ggplot2 v3.4.2\n",
      "\n",
      "Warning message:\n",
      "“le package ‘ggplot2’ a été compilé avec la version R 4.2.3”\n",
      "\tLoading Package : magrittr v2.0.3\n",
      "\n",
      "Warning message:\n",
      "“le package ‘magrittr’ a été compilé avec la version R 4.2.3”\n",
      "\tLoading Package : plyr v1.8.8\n",
      "\n",
      "Warning message:\n",
      "“le package ‘plyr’ a été compilé avec la version R 4.2.3”\n",
      "\tLoading Package : stringr v1.5.0\n",
      "\n",
      "Warning message:\n",
      "“le package ‘stringr’ a été compilé avec la version R 4.2.3”\n",
      "\tLoading Package : data.table v1.14.8\n",
      "\n",
      "Warning message:\n",
      "“le package ‘data.table’ a été compilé avec la version R 4.2.3”\n",
      "\tLoading Package : matrixStats v1.0.0\n",
      "\n",
      "Warning message:\n",
      "“le package ‘matrixStats’ a été compilé avec la version R 4.2.3”\n",
      "\tLoading Package : sparseMatrixStats v1.10.0\n",
      "\n",
      "Warning message:\n",
      "“le package ‘sparseMatrixStats’ a été compilé avec la version R 4.2.3”\n",
      "\tLoading Package : S4Vectors v0.36.0\n",
      "\n",
      "\tLoading Package : GenomicRanges v1.50.0\n",
      "\n",
      "Warning message:\n",
      "“le package ‘GenomeInfoDb’ a été compilé avec la version R 4.2.3”\n",
      "\tLoading Package : BiocGenerics v0.44.0\n",
      "\n",
      "\tLoading Package : Matrix v1.6.0\n",
      "\n",
      "Warning message:\n",
      "“le package ‘Matrix’ a été compilé avec la version R 4.2.3”\n",
      "\tLoading Package : Rcpp v1.0.11\n",
      "\n",
      "Warning message:\n",
      "“le package ‘Rcpp’ a été compilé avec la version R 4.2.3”\n",
      "\tLoading Package : RcppArmadillo v0.12.4.1.0\n",
      "\n",
      "Warning message:\n",
      "“le package ‘RcppArmadillo’ a été compilé avec la version R 4.2.3”\n",
      "\tLoading Package : SummarizedExperiment v1.28.0\n",
      "\n",
      "\tLoading Package : rhdf5 v2.42.0\n",
      "\n",
      "Warning message:\n",
      "“le package ‘rhdf5’ a été compilé avec la version R 4.2.3”\n",
      "Le chargement a nécessité le package : AnnotationDbi\n",
      "\n",
      "\n",
      "\n",
      "Le chargement a nécessité le package : BSgenome\n",
      "\n",
      "Le chargement a nécessité le package : Biostrings\n",
      "\n",
      "Le chargement a nécessité le package : XVector\n",
      "\n",
      "\n",
      "Attachement du package : ‘XVector’\n",
      "\n",
      "\n",
      "L'objet suivant est masqué depuis ‘package:plyr’:\n",
      "\n",
      "    compact\n",
      "\n",
      "\n",
      "\n",
      "Attachement du package : ‘Biostrings’\n",
      "\n",
      "\n",
      "L'objet suivant est masqué depuis ‘package:grid’:\n",
      "\n",
      "    pattern\n",
      "\n",
      "\n",
      "L'objet suivant est masqué depuis ‘package:base’:\n",
      "\n",
      "    strsplit\n",
      "\n",
      "\n",
      "Le chargement a nécessité le package : rtracklayer\n",
      "\n",
      "Warning message:\n",
      "“le package ‘rtracklayer’ a été compilé avec la version R 4.2.3”\n",
      "Warning message:\n",
      "“le package ‘Repitools’ a été compilé avec la version R 4.2.3”\n",
      "\n",
      "Attachement du package : ‘Repitools’\n",
      "\n",
      "\n",
      "L'objet suivant est masqué depuis ‘package:rtracklayer’:\n",
      "\n",
      "    blocks\n",
      "\n",
      "\n",
      "L'objet suivant est masqué depuis ‘package:data.table’:\n",
      "\n",
      "    tables\n",
      "\n",
      "\n",
      "Warning message:\n",
      "“le package ‘openxlsx’ a été compilé avec la version R 4.2.3”\n",
      "Le chargement a nécessité le package : graph\n",
      "\n",
      "Warning message:\n",
      "“le package ‘graph’ a été compilé avec la version R 4.2.3”\n",
      "\n",
      "Attachement du package : ‘graph’\n",
      "\n",
      "\n",
      "L'objet suivant est masqué depuis ‘package:Biostrings’:\n",
      "\n",
      "    complement\n",
      "\n",
      "\n",
      "L'objet suivant est masqué depuis ‘package:stringr’:\n",
      "\n",
      "    boundary\n",
      "\n",
      "\n",
      "L'objet suivant est masqué depuis ‘package:plyr’:\n",
      "\n",
      "    join\n",
      "\n",
      "\n",
      "Le chargement a nécessité le package : GO.db\n",
      "\n",
      "\n",
      "\n",
      "Le chargement a nécessité le package : SparseM\n",
      "\n",
      "Warning message:\n",
      "“le package ‘SparseM’ a été compilé avec la version R 4.2.3”\n",
      "\n",
      "Attachement du package : ‘SparseM’\n",
      "\n",
      "\n",
      "L'objet suivant est masqué depuis ‘package:base’:\n",
      "\n",
      "    backsolve\n",
      "\n",
      "\n",
      "\n",
      "groupGOTerms: \tGOBPTerm, GOMFTerm, GOCCTerm environments built.\n",
      "\n",
      "\n",
      "Attachement du package : ‘topGO’\n",
      "\n",
      "\n",
      "L'objet suivant est masqué depuis ‘package:IRanges’:\n",
      "\n",
      "    members\n",
      "\n",
      "\n",
      "L'objet suivant est masqué depuis ‘package:grid’:\n",
      "\n",
      "    depth\n",
      "\n",
      "\n"
     ]
    }
   ],
   "source": [
    "library(ArchR)\n",
    "library(org.Ss.eg.db)\n",
    "library(SuscrofaTxdb.11.108.july)\n",
    "library(Repitools)\n",
    "library(openxlsx)\n",
    "library(topGO)"
   ]
  },
  {
   "cell_type": "code",
   "execution_count": 2,
   "metadata": {
    "vscode": {
     "languageId": "r"
    }
   },
   "outputs": [],
   "source": [
    "options(repr.plot.width = 18, repr.plot.height = 17, repr.plot.pointsize = 24)"
   ]
  },
  {
   "cell_type": "code",
   "execution_count": 3,
   "metadata": {
    "vscode": {
     "languageId": "r"
    }
   },
   "outputs": [
    {
     "name": "stderr",
     "output_type": "stream",
     "text": [
      "Setting default number of Parallel threads to 2.\n",
      "\n"
     ]
    }
   ],
   "source": [
    "addArchRThreads(2)"
   ]
  },
  {
   "cell_type": "code",
   "execution_count": 4,
   "metadata": {
    "vscode": {
     "languageId": "r"
    }
   },
   "outputs": [],
   "source": [
    "load(file = \"/home/adufour/work/rds_storage/omics/archr_all_v7_stemcells.RData\")"
   ]
  },
  {
   "cell_type": "code",
   "execution_count": 5,
   "metadata": {
    "scrolled": true,
    "vscode": {
     "languageId": "r"
    }
   },
   "outputs": [],
   "source": [
    "metadata <- archrproj_sub@cellColData"
   ]
  },
  {
   "cell_type": "code",
   "execution_count": 6,
   "metadata": {
    "vscode": {
     "languageId": "r"
    }
   },
   "outputs": [],
   "source": [
    "metadata$cell <- rownames(metadata)"
   ]
  },
  {
   "cell_type": "code",
   "execution_count": 7,
   "metadata": {
    "vscode": {
     "languageId": "r"
    }
   },
   "outputs": [],
   "source": [
    "write.xlsx(metadata, file=\"/home/adufour/work/table/stemcells_metadata.xlsx\", rowNames=TRUE)"
   ]
  },
  {
   "cell_type": "markdown",
   "metadata": {},
   "source": [
    "# peakDF table"
   ]
  },
  {
   "cell_type": "code",
   "execution_count": 16,
   "metadata": {
    "scrolled": true,
    "vscode": {
     "languageId": "r"
    }
   },
   "outputs": [],
   "source": [
    "peak_grange <- archrproj_sub@peakSet"
   ]
  },
  {
   "cell_type": "code",
   "execution_count": 17,
   "metadata": {
    "vscode": {
     "languageId": "r"
    }
   },
   "outputs": [],
   "source": [
    "peak_grange$peakName <- peak_grange %>% {paste0(seqnames(.), \"_\", start(.), \"_\", end(.))}"
   ]
  },
  {
   "cell_type": "code",
   "execution_count": 18,
   "metadata": {
    "vscode": {
     "languageId": "r"
    }
   },
   "outputs": [],
   "source": [
    "names(peak_grange) <- NULL"
   ]
  },
  {
   "cell_type": "code",
   "execution_count": 19,
   "metadata": {
    "vscode": {
     "languageId": "r"
    }
   },
   "outputs": [],
   "source": [
    "peak_DF <- annoGR2DF(peak_grange)"
   ]
  },
  {
   "cell_type": "code",
   "execution_count": 20,
   "metadata": {
    "vscode": {
     "languageId": "r"
    }
   },
   "outputs": [],
   "source": [
    "peak_DF <- peak_DF[,c('peakName', 'chr', 'start', 'end', 'score', 'replicateScoreQuantile', 'groupScoreQuantile', 'Reproducibility', \n",
    "          'distToGeneStart', 'nearestGene', 'peakType', 'distToTSS', 'nearestTSS', 'GC')]"
   ]
  },
  {
   "cell_type": "code",
   "execution_count": 21,
   "metadata": {
    "vscode": {
     "languageId": "r"
    }
   },
   "outputs": [],
   "source": [
    "openxlsx::write.xlsx(peak_DF, file=\"/home/adufour/work/table/peakDF_stemcells.xlsx\", rowNames=FALSE)"
   ]
  },
  {
   "cell_type": "markdown",
   "metadata": {},
   "source": [
    "# P2G"
   ]
  },
  {
   "cell_type": "code",
   "execution_count": 22,
   "metadata": {
    "vscode": {
     "languageId": "r"
    }
   },
   "outputs": [
    {
     "name": "stderr",
     "output_type": "stream",
     "text": [
      "Warning message:\n",
      "“le package ‘dplyr’ a été compilé avec la version R 4.2.3”\n",
      "Warning message:\n",
      "“le package ‘tidyr’ a été compilé avec la version R 4.2.3”\n",
      "Warning message:\n",
      "“le package ‘RcppAlgos’ a été compilé avec la version R 4.2.3”\n",
      "Warning message:\n",
      "“le package ‘ggrastr’ a été compilé avec la version R 4.2.3”\n"
     ]
    }
   ],
   "source": [
    "scriptPath <- \"/home/adufour/work/scScalpChromatin\"\n",
    "source(paste0(scriptPath, \"/misc_helpers.R\"))\n",
    "source(paste0(scriptPath, \"/matrix_helpers.R\"))\n",
    "source(paste0(scriptPath, \"/plotting_config.R\"))\n",
    "source(paste0(scriptPath, \"/archr_helpers.R\"))"
   ]
  },
  {
   "cell_type": "code",
   "execution_count": 23,
   "metadata": {
    "vscode": {
     "languageId": "r"
    }
   },
   "outputs": [],
   "source": [
    "corrCutoff <- 0.5\n",
    "p2gGR <- getP2G_GR(archrproj_sub, corrCutoff=corrCutoff)"
   ]
  },
  {
   "cell_type": "code",
   "execution_count": 24,
   "metadata": {
    "vscode": {
     "languageId": "r"
    }
   },
   "outputs": [],
   "source": [
    "p2geneDF <- Repitools::annoGR2DF(p2gGR)"
   ]
  },
  {
   "cell_type": "code",
   "execution_count": 26,
   "metadata": {
    "vscode": {
     "languageId": "r"
    }
   },
   "outputs": [],
   "source": [
    "p2geneDF <- p2geneDF[,c('peakName', 'chr', 'start', 'end', 'Correlation', 'FDR', 'VarQATAC', 'VarQRNA', 'symbol')]"
   ]
  },
  {
   "cell_type": "code",
   "execution_count": 27,
   "metadata": {
    "vscode": {
     "languageId": "r"
    }
   },
   "outputs": [],
   "source": [
    "openxlsx::write.xlsx(p2geneDF, file=\"/home/adufour/work/table/P2G_stemcells.xlsx\", rowNames=FALSE)"
   ]
  },
  {
   "cell_type": "markdown",
   "metadata": {},
   "source": [
    "# export DAG"
   ]
  },
  {
   "cell_type": "code",
   "execution_count": 28,
   "metadata": {
    "vscode": {
     "languageId": "r"
    }
   },
   "outputs": [],
   "source": [
    "markersPeaks <- readRDS(file = \"/home/adufour/work/rds_storage/omics/markerPeaks_stemcells.rds\")"
   ]
  },
  {
   "cell_type": "code",
   "execution_count": 29,
   "metadata": {
    "vscode": {
     "languageId": "r"
    }
   },
   "outputs": [],
   "source": [
    "markerPeaksList <- getMarkers(markersPeaks, cutOff = \"FDR <= 0.1 & abs(Log2FC) >= 1\")"
   ]
  },
  {
   "cell_type": "code",
   "execution_count": 30,
   "metadata": {
    "vscode": {
     "languageId": "r"
    }
   },
   "outputs": [],
   "source": [
    "markerPeaksList$C6$peakName <- paste0(markerPeaksList$C6$seqnames, \"_\", markerPeaksList$C6$start, \"_\", markerPeaksList$C6$end)\n",
    "markerPeaksList$C2$peakName <- paste0(markerPeaksList$C2$seqnames, \"_\", markerPeaksList$C2$start, \"_\", markerPeaksList$C2$end)\n",
    "markerPeaksList$C4$peakName <- paste0(markerPeaksList$C4$seqnames, \"_\", markerPeaksList$C4$start, \"_\", markerPeaksList$C4$end)"
   ]
  },
  {
   "cell_type": "code",
   "execution_count": 31,
   "metadata": {
    "vscode": {
     "languageId": "r"
    }
   },
   "outputs": [],
   "source": [
    "merge_C6 <- merge(markerPeaksList$C6, p2geneDF, by=\"peakName\", all.x=TRUE)\n",
    "merge_C2 <- merge(markerPeaksList$C2, p2geneDF, by=\"peakName\", all.x=TRUE)\n",
    "merge_C4 <- merge(markerPeaksList$C4, p2geneDF, by=\"peakName\", all.x=TRUE)"
   ]
  },
  {
   "cell_type": "code",
   "execution_count": 32,
   "metadata": {
    "vscode": {
     "languageId": "r"
    }
   },
   "outputs": [],
   "source": [
    "merge_C6 <- merge(merge_C6, peak_DF, by=\"peakName\")\n",
    "merge_C2 <- merge(merge_C2, peak_DF, by=\"peakName\")\n",
    "merge_C4 <- merge(merge_C4, peak_DF, by=\"peakName\")"
   ]
  },
  {
   "cell_type": "code",
   "execution_count": 33,
   "metadata": {
    "vscode": {
     "languageId": "r"
    }
   },
   "outputs": [],
   "source": [
    "merge_C6$P2G <- ifelse(is.na(merge_C6$symbol), \"FALSE\", \"TRUE\")\n",
    "merge_C2$P2G <- ifelse(is.na(merge_C2$symbol), \"FALSE\", \"TRUE\")\n",
    "merge_C4$P2G <- ifelse(is.na(merge_C4$symbol), \"FALSE\", \"TRUE\")"
   ]
  },
  {
   "cell_type": "code",
   "execution_count": 34,
   "metadata": {
    "vscode": {
     "languageId": "r"
    }
   },
   "outputs": [],
   "source": [
    "merge_C6 <- merge_C6[,c('peakName', 'seqnames', 'start', 'end', 'Log2FC', 'FDR.x', 'MeanDiff', 'P2G', 'Correlation', \n",
    "                        'symbol', 'score', 'nearestGene', 'peakType')]\n",
    "merge_C2 <- merge_C2[,c('peakName', 'seqnames', 'start', 'end', 'Log2FC', 'FDR.x', 'MeanDiff', 'P2G', 'Correlation', \n",
    "                        'symbol', 'score', 'nearestGene', 'peakType')]\n",
    "merge_C4 <- merge_C4[,c('peakName', 'seqnames', 'start', 'end', 'Log2FC', 'FDR.x', 'MeanDiff', 'P2G', 'Correlation', \n",
    "                        'symbol', 'score', 'nearestGene', 'peakType')]"
   ]
  },
  {
   "cell_type": "code",
   "execution_count": 35,
   "metadata": {
    "vscode": {
     "languageId": "r"
    }
   },
   "outputs": [],
   "source": [
    "wb <- createWorkbook(\"DAG\")"
   ]
  },
  {
   "cell_type": "code",
   "execution_count": 36,
   "metadata": {
    "vscode": {
     "languageId": "r"
    }
   },
   "outputs": [],
   "source": [
    "addWorksheet(wb, \"DAG_epi\")\n",
    "addWorksheet(wb, \"DAG_pESC-C1\")\n",
    "addWorksheet(wb, \"DAG_pESC-C2\")"
   ]
  },
  {
   "cell_type": "code",
   "execution_count": 37,
   "metadata": {
    "vscode": {
     "languageId": "r"
    }
   },
   "outputs": [],
   "source": [
    "writeData(wb, \"DAG_epi\", merge_C6)\n",
    "writeData(wb, \"DAG_pESC-C1\", merge_C2)\n",
    "writeData(wb, \"DAG_pESC-C2\", merge_C4)"
   ]
  },
  {
   "cell_type": "code",
   "execution_count": 38,
   "metadata": {
    "vscode": {
     "languageId": "r"
    }
   },
   "outputs": [],
   "source": [
    "saveWorkbook(wb,\"/home/adufour/work/table/DAG_stemcells.xlsx\",overwrite = TRUE)"
   ]
  },
  {
   "cell_type": "markdown",
   "metadata": {},
   "source": [
    "# export DEG"
   ]
  },
  {
   "cell_type": "code",
   "execution_count": 39,
   "metadata": {
    "vscode": {
     "languageId": "r"
    }
   },
   "outputs": [],
   "source": [
    "markersGS <- readRDS(file = \"/home/adufour/work/rds_storage/omics/markerExpression_stemcells.rds\")"
   ]
  },
  {
   "cell_type": "code",
   "execution_count": 40,
   "metadata": {
    "vscode": {
     "languageId": "r"
    }
   },
   "outputs": [],
   "source": [
    "markerList <- getMarkers(markersGS, cutOff = \"FDR <= 0.01 & Log2FC >= 1.25\")"
   ]
  },
  {
   "cell_type": "code",
   "execution_count": 41,
   "metadata": {
    "vscode": {
     "languageId": "r"
    }
   },
   "outputs": [],
   "source": [
    "RNA_epi <- markerList$epi[,c('name', 'Log2FC', 'FDR', 'MeanDiff')]\n",
    "RNA_pESC_C1 <- markerList$pESC_C1[,c('name', 'Log2FC', 'FDR', 'MeanDiff')]\n",
    "RNA_pESC_C2 <- markerList$pESC_C2[,c('name', 'Log2FC', 'FDR', 'MeanDiff')]"
   ]
  },
  {
   "cell_type": "code",
   "execution_count": 42,
   "metadata": {
    "vscode": {
     "languageId": "r"
    }
   },
   "outputs": [],
   "source": [
    "wb <- createWorkbook(\"DEG\")"
   ]
  },
  {
   "cell_type": "code",
   "execution_count": 43,
   "metadata": {
    "vscode": {
     "languageId": "r"
    }
   },
   "outputs": [],
   "source": [
    "addWorksheet(wb, \"DEG_epi\")\n",
    "addWorksheet(wb, \"DEG_pESC-C1\")\n",
    "addWorksheet(wb, \"DEG_pESC-C2\")"
   ]
  },
  {
   "cell_type": "code",
   "execution_count": 44,
   "metadata": {
    "vscode": {
     "languageId": "r"
    }
   },
   "outputs": [],
   "source": [
    "writeData(wb, \"DEG_epi\", RNA_epi)\n",
    "writeData(wb, \"DEG_pESC-C1\", RNA_pESC_C1)\n",
    "writeData(wb, \"DEG_pESC-C2\", RNA_pESC_C2)"
   ]
  },
  {
   "cell_type": "code",
   "execution_count": 45,
   "metadata": {
    "vscode": {
     "languageId": "r"
    }
   },
   "outputs": [],
   "source": [
    "saveWorkbook(wb,\"/home/adufour/work/table/DEG_stemcells.xlsx\",overwrite = TRUE)"
   ]
  },
  {
   "cell_type": "markdown",
   "metadata": {},
   "source": [
    "# topGo enrich"
   ]
  },
  {
   "cell_type": "code",
   "execution_count": 46,
   "metadata": {
    "vscode": {
     "languageId": "r"
    }
   },
   "outputs": [],
   "source": [
    "calcTopGo <- function(\n",
    "    allGenes, interestingGenes=NULL, pvals=NULL, geneSel=NULL,\n",
    "    nodeSize=5, ontology=\"BP\",\n",
    "    alg=\"weight01\", stat=\"fisher\", topNodes=1000\n",
    "    ){\n",
    "    # Calculate GO term enrichments using topGO on provided data\n",
    "    # https://bioconductor.org/packages/release/bioc/vignettes/topGO/inst/doc/topGO.pdf\n",
    "    ############################################################\n",
    "    # allGenes: vector of genenames to be used in GO term search. Expects gene 'symbol' \n",
    "    # interestingGenes: predefined list of 'instersting' genes. Incompatible with supplying pvalues.\n",
    "    # geneSel: function for selecting 'interesting' genes. Can only really be a p-value cutoff...\n",
    "    # pvals: vector of pvalues corresponding to geneList. If not provided, will assign everything to 1\n",
    "    # nodeSize: will prune terms that have less than nodeSize number of genes\n",
    "    # ontology: which GO ontology to use (MF, BP, CC)\n",
    "    # alg: algorithm to be used for testing GO terms (topGO default is 'weight01')\n",
    "    # stat: test statistic to use for significant GO terms\n",
    "    # topNodes: how many GO terms to return in result table\n",
    "\n",
    "    # Prepare geneList as expected for topGO (i.e. value vector with names of genes)\n",
    "    if(!is.null(interestingGenes)){\n",
    "        message(sprintf(\"Running GO enrichments with %s genes in universe of %s...\", \n",
    "            length(interestingGenes), length(allGenes)))\n",
    "        geneList <- factor(as.integer(allGenes %in% interestingGenes))\n",
    "        names(geneList) <- allGenes\n",
    "        # Create topGOdata object\n",
    "        GOdata <- suppressMessages(new(\n",
    "            \"topGOdata\",\n",
    "            ontology = ontology,\n",
    "            allGenes = geneList,\n",
    "            annot = annFUN.org, mapping = \"org.Ss.eg.db\", ID = \"symbol\",\n",
    "            nodeSize = nodeSize\n",
    "            ))\n",
    "    }else{\n",
    "        geneList <- pvals\n",
    "        names(geneList) <- allGenes\n",
    "        message(sprintf(\"Running GO enrichments with %s genes in universe of %s...\", \n",
    "            sum(geneSel(geneList)), length(allGenes)))\n",
    "        GOdata <- suppressMessages(new(\n",
    "            \"topGOdata\",\n",
    "            ontology = ontology,\n",
    "            allGenes = geneList,\n",
    "            geneSel = geneSel,\n",
    "            annot = annFUN.org, mapping = \"org.Ss.eg.db\", ID = \"symbol\",\n",
    "            nodeSize = nodeSize\n",
    "            ))\n",
    "    }\n",
    "\n",
    "    # Test for enrichment using Fisher's Exact Test\n",
    "    GOresult <- suppressMessages(runTest(GOdata, algorithm=alg, statistic=stat))\n",
    "    GenTable(GOdata, pvalue=GOresult, topNodes=topNodes, numChar=1000)\n",
    "}"
   ]
  },
  {
   "cell_type": "code",
   "execution_count": 47,
   "metadata": {
    "vscode": {
     "languageId": "r"
    }
   },
   "outputs": [],
   "source": [
    "embryo <- readRDS(\"/home/adufour/work/rds_storage/omics/allcell_seurat_obj.rds\")"
   ]
  },
  {
   "cell_type": "code",
   "execution_count": 48,
   "metadata": {
    "vscode": {
     "languageId": "r"
    }
   },
   "outputs": [
    {
     "name": "stderr",
     "output_type": "stream",
     "text": [
      "Running GO enrichments with 665 genes in universe of 35670...\n",
      "\n",
      "Running GO enrichments with 316 genes in universe of 35670...\n",
      "\n",
      "Running GO enrichments with 1547 genes in universe of 35670...\n",
      "\n"
     ]
    }
   ],
   "source": [
    "go_cluster_epi <- calcTopGo(rownames(embryo@assays$RNA@counts), interestingGenes=RNA_epi$name, nodeSize=5, ontology=\"BP\")\n",
    "go_cluster_pESC_C1 <- calcTopGo(rownames(embryo@assays$RNA@counts), interestingGenes=RNA_pESC_C1$name, nodeSize=5, ontology=\"BP\")\n",
    "go_cluster_pESC_C2 <- calcTopGo(rownames(embryo@assays$RNA@counts), interestingGenes=RNA_pESC_C2$name, nodeSize=5, ontology=\"BP\")"
   ]
  },
  {
   "cell_type": "code",
   "execution_count": 49,
   "metadata": {
    "vscode": {
     "languageId": "r"
    }
   },
   "outputs": [
    {
     "name": "stderr",
     "output_type": "stream",
     "text": [
      "Warning message:\n",
      "“Please use 'rowNames' instead of 'row.names'”\n",
      "Warning message:\n",
      "“Please use 'rowNames' instead of 'row.names'”\n",
      "Warning message:\n",
      "“Please use 'rowNames' instead of 'row.names'”\n"
     ]
    }
   ],
   "source": [
    "write.xlsx(go_cluster_pESC_C1, file=\"/home/adufour/work/table/deg_topgo_stemcells.xlsx\", sheetName=\"deg_pESC-C1\", append=TRUE, row.names=FALSE)\n",
    "write.xlsx(go_cluster_epi, file=\"/home/adufour/work/table/deg_topgo_stemcells.xlsx\", sheetName=\"deg_epi\", append=TRUE, row.names=FALSE)\n",
    "write.xlsx(go_cluster_pESC_C2, file=\"/home/adufour/work/table/deg_topgo_stemcells.xlsx\", sheetName=\"deg_pESC-C2\", append=TRUE, row.names=FALSE)"
   ]
  },
  {
   "cell_type": "code",
   "execution_count": 50,
   "metadata": {
    "vscode": {
     "languageId": "r"
    }
   },
   "outputs": [],
   "source": [
    "wb <- createWorkbook(\"DEG_GO\")"
   ]
  },
  {
   "cell_type": "code",
   "execution_count": 51,
   "metadata": {
    "vscode": {
     "languageId": "r"
    }
   },
   "outputs": [],
   "source": [
    "addWorksheet(wb, \"DEG_epi\")\n",
    "addWorksheet(wb, \"DEG_pESC-C1\")\n",
    "addWorksheet(wb, \"DEG_pESC-C2\")"
   ]
  },
  {
   "cell_type": "code",
   "execution_count": 52,
   "metadata": {
    "vscode": {
     "languageId": "r"
    }
   },
   "outputs": [],
   "source": [
    "writeData(wb, \"DEG_epi\", go_cluster_epi)\n",
    "writeData(wb, \"DEG_pESC-C1\", go_cluster_pESC_C1)\n",
    "writeData(wb, \"DEG_pESC-C2\", go_cluster_pESC_C2)"
   ]
  },
  {
   "cell_type": "code",
   "execution_count": 53,
   "metadata": {
    "vscode": {
     "languageId": "r"
    }
   },
   "outputs": [],
   "source": [
    "saveWorkbook(wb,\"/home/adufour/work/table/deg_topgo_embryo.xlsx\",overwrite = TRUE)"
   ]
  },
  {
   "cell_type": "code",
   "execution_count": 54,
   "metadata": {
    "vscode": {
     "languageId": "r"
    }
   },
   "outputs": [],
   "source": [
    "merge_C2 <- merge_C2[merge_C2$peakType == \"Promoter\",]\n",
    "merge_C2 <- merge_C2[merge_C2$P2G == \"FALSE\",]\n",
    "\n",
    "merge_C6 <- merge_C6[merge_C6$peakType == \"Promoter\",]\n",
    "merge_C6 <- merge_C6[merge_C6$P2G == \"FALSE\",]\n",
    "\n",
    "merge_C4 <- merge_C4[merge_C4$peakType == \"Promoter\",]\n",
    "merge_C4 <- merge_C4[merge_C4$P2G == \"FALSE\",]"
   ]
  },
  {
   "cell_type": "code",
   "execution_count": 55,
   "metadata": {
    "scrolled": true,
    "vscode": {
     "languageId": "r"
    }
   },
   "outputs": [],
   "source": [
    "peak_reference <- peak_DF[peak_DF$peakType == \"Promoter\",]"
   ]
  },
  {
   "cell_type": "code",
   "execution_count": 56,
   "metadata": {
    "vscode": {
     "languageId": "r"
    }
   },
   "outputs": [
    {
     "name": "stderr",
     "output_type": "stream",
     "text": [
      "Running GO enrichments with 823 genes in universe of 14787...\n",
      "\n",
      "Running GO enrichments with 2010 genes in universe of 14787...\n",
      "\n",
      "Running GO enrichments with 708 genes in universe of 14787...\n",
      "\n"
     ]
    }
   ],
   "source": [
    "merge_C2 <- calcTopGo(unique(peak_reference$nearestGene), interestingGenes=merge_C2$nearestGene, nodeSize=5, ontology=\"BP\")\n",
    "merge_C6 <- calcTopGo(unique(peak_reference$nearestGene), interestingGenes=merge_C6$nearestGene, nodeSize=5, ontology=\"BP\")\n",
    "merge_C4 <- calcTopGo(unique(peak_reference$nearestGene), interestingGenes=merge_C4$nearestGene, nodeSize=5, ontology=\"BP\")"
   ]
  },
  {
   "cell_type": "code",
   "execution_count": 57,
   "metadata": {
    "vscode": {
     "languageId": "r"
    }
   },
   "outputs": [],
   "source": [
    "wb <- createWorkbook(\"DAG\")"
   ]
  },
  {
   "cell_type": "code",
   "execution_count": 58,
   "metadata": {
    "vscode": {
     "languageId": "r"
    }
   },
   "outputs": [],
   "source": [
    "addWorksheet(wb, \"DAG_epi\")\n",
    "addWorksheet(wb, \"DAG_pESC-C1\")\n",
    "addWorksheet(wb, \"DAG_pESC-C2\")"
   ]
  },
  {
   "cell_type": "code",
   "execution_count": 59,
   "metadata": {
    "vscode": {
     "languageId": "r"
    }
   },
   "outputs": [],
   "source": [
    "writeData(wb, \"DAG_epi\", merge_C6)\n",
    "writeData(wb, \"DAG_pESC-C1\", merge_C2)\n",
    "writeData(wb, \"DAG_pESC-C2\", merge_C4)"
   ]
  },
  {
   "cell_type": "code",
   "execution_count": 60,
   "metadata": {
    "vscode": {
     "languageId": "r"
    }
   },
   "outputs": [],
   "source": [
    "saveWorkbook(wb,\"/home/adufour/work/table/dag_topgo_promoter_stemcells.xlsx\",overwrite = TRUE)"
   ]
  },
  {
   "cell_type": "markdown",
   "metadata": {},
   "source": [
    "# motif"
   ]
  },
  {
   "cell_type": "code",
   "execution_count": 61,
   "metadata": {
    "vscode": {
     "languageId": "r"
    }
   },
   "outputs": [
    {
     "name": "stderr",
     "output_type": "stream",
     "text": [
      "ArchR logging to : ArchRLogs/ArchR-peakAnnoEnrichment-174eb5741c5329-Date-2024-06-10_Time-13-27-43.log\n",
      "If there is an issue, please report to github with logFile!\n",
      "\n",
      "2024-06-10 13:27:58 : Computing Enrichments 1 of 3, 0.24 mins elapsed.\n",
      "\n",
      "2024-06-10 13:28:01 : Computing Enrichments 2 of 3, 0.292 mins elapsed.\n",
      "\n",
      "2024-06-10 13:28:04 : Computing Enrichments 3 of 3, 0.347 mins elapsed.\n",
      "\n",
      "ArchR logging successful to : ArchRLogs/ArchR-peakAnnoEnrichment-174eb5741c5329-Date-2024-06-10_Time-13-27-43.log\n",
      "\n"
     ]
    }
   ],
   "source": [
    "motifsUp <- peakAnnoEnrichment(\n",
    "    seMarker = markersPeaks,\n",
    "    ArchRProj = archrproj_sub,\n",
    "    peakAnnotation = \"Motif\",\n",
    "    cutOff = \"FDR <= 0.1 & Log2FC >= 0.5\"\n",
    ")"
   ]
  },
  {
   "cell_type": "code",
   "execution_count": 62,
   "metadata": {
    "vscode": {
     "languageId": "r"
    }
   },
   "outputs": [],
   "source": [
    "motif_df <- assays(motifsUp)[[\"mlog10Padj\"]]"
   ]
  },
  {
   "cell_type": "code",
   "execution_count": 63,
   "metadata": {
    "vscode": {
     "languageId": "r"
    }
   },
   "outputs": [],
   "source": [
    "motif_df$motif_name <- rownames(motif_df)"
   ]
  },
  {
   "cell_type": "code",
   "execution_count": 64,
   "metadata": {
    "vscode": {
     "languageId": "r"
    }
   },
   "outputs": [],
   "source": [
    "motif_df$motif_name <- gsub(\"None \", \"\", motif_df$motif_name)"
   ]
  },
  {
   "cell_type": "code",
   "execution_count": 65,
   "metadata": {
    "vscode": {
     "languageId": "r"
    }
   },
   "outputs": [
    {
     "data": {
      "text/html": [
       "<table class=\"dataframe\">\n",
       "<caption>A data.frame: 6 × 2</caption>\n",
       "<thead>\n",
       "\t<tr><th></th><th scope=col>motif_name</th><th scope=col>correspondance</th></tr>\n",
       "\t<tr><th></th><th scope=col>&lt;chr&gt;</th><th scope=col>&lt;chr&gt;</th></tr>\n",
       "</thead>\n",
       "<tbody>\n",
       "\t<tr><th scope=row>1</th><td>jaspar__MA0659.3                  </td><td>metacluster_22.4</td></tr>\n",
       "\t<tr><th scope=row>2</th><td>kznf__ZNF264_Imbeault2017_OM_RCADE</td><td>metacluster_0.1 </td></tr>\n",
       "\t<tr><th scope=row>3</th><td>kznf__ZNF264_Imbeault2017_RP_RCADE</td><td>metacluster_0.1 </td></tr>\n",
       "\t<tr><th scope=row>4</th><td>jaspar__MA0467.2                  </td><td>metacluster_0.2 </td></tr>\n",
       "\t<tr><th scope=row>5</th><td>jaspar__MA0648.1                  </td><td>metacluster_0.2 </td></tr>\n",
       "\t<tr><th scope=row>6</th><td>jaspar__MA0682.2                  </td><td>metacluster_0.2 </td></tr>\n",
       "</tbody>\n",
       "</table>\n"
      ],
      "text/latex": [
       "A data.frame: 6 × 2\n",
       "\\begin{tabular}{r|ll}\n",
       "  & motif\\_name & correspondance\\\\\n",
       "  & <chr> & <chr>\\\\\n",
       "\\hline\n",
       "\t1 & jaspar\\_\\_MA0659.3                   & metacluster\\_22.4\\\\\n",
       "\t2 & kznf\\_\\_ZNF264\\_Imbeault2017\\_OM\\_RCADE & metacluster\\_0.1 \\\\\n",
       "\t3 & kznf\\_\\_ZNF264\\_Imbeault2017\\_RP\\_RCADE & metacluster\\_0.1 \\\\\n",
       "\t4 & jaspar\\_\\_MA0467.2                   & metacluster\\_0.2 \\\\\n",
       "\t5 & jaspar\\_\\_MA0648.1                   & metacluster\\_0.2 \\\\\n",
       "\t6 & jaspar\\_\\_MA0682.2                   & metacluster\\_0.2 \\\\\n",
       "\\end{tabular}\n"
      ],
      "text/markdown": [
       "\n",
       "A data.frame: 6 × 2\n",
       "\n",
       "| <!--/--> | motif_name &lt;chr&gt; | correspondance &lt;chr&gt; |\n",
       "|---|---|---|\n",
       "| 1 | jaspar__MA0659.3                   | metacluster_22.4 |\n",
       "| 2 | kznf__ZNF264_Imbeault2017_OM_RCADE | metacluster_0.1  |\n",
       "| 3 | kznf__ZNF264_Imbeault2017_RP_RCADE | metacluster_0.1  |\n",
       "| 4 | jaspar__MA0467.2                   | metacluster_0.2  |\n",
       "| 5 | jaspar__MA0648.1                   | metacluster_0.2  |\n",
       "| 6 | jaspar__MA0682.2                   | metacluster_0.2  |\n",
       "\n"
      ],
      "text/plain": [
       "  motif_name                         correspondance  \n",
       "1 jaspar__MA0659.3                   metacluster_22.4\n",
       "2 kznf__ZNF264_Imbeault2017_OM_RCADE metacluster_0.1 \n",
       "3 kznf__ZNF264_Imbeault2017_RP_RCADE metacluster_0.1 \n",
       "4 jaspar__MA0467.2                   metacluster_0.2 \n",
       "5 jaspar__MA0648.1                   metacluster_0.2 \n",
       "6 jaspar__MA0682.2                   metacluster_0.2 "
      ]
     },
     "metadata": {},
     "output_type": "display_data"
    }
   ],
   "source": [
    "motif_correspondance = read.csv('/home/adufour/work/table/motif_correspondance.csv', header = FALSE)\n",
    "colnames(motif_correspondance) <- c(\"motif_name\", \"correspondance\")\n",
    "head(motif_correspondance)"
   ]
  },
  {
   "cell_type": "code",
   "execution_count": 66,
   "metadata": {
    "vscode": {
     "languageId": "r"
    }
   },
   "outputs": [
    {
     "data": {
      "text/html": [
       "<table class=\"dataframe\">\n",
       "<caption>A data.frame: 6 × 5</caption>\n",
       "<thead>\n",
       "\t<tr><th></th><th scope=col>motif_name</th><th scope=col>C2</th><th scope=col>C4</th><th scope=col>C6</th><th scope=col>correspondance</th></tr>\n",
       "\t<tr><th></th><th scope=col>&lt;chr&gt;</th><th scope=col>&lt;dbl&gt;</th><th scope=col>&lt;dbl&gt;</th><th scope=col>&lt;dbl&gt;</th><th scope=col>&lt;chr&gt;</th></tr>\n",
       "</thead>\n",
       "<tbody>\n",
       "\t<tr><th scope=row>1</th><td>bergman__Adf1</td><td> 0.000000</td><td> 0.000000</td><td>2.179057</td><td>bergman__Adf1    </td></tr>\n",
       "\t<tr><th scope=row>2</th><td>bergman__Aef1</td><td>15.926257</td><td> 4.255657</td><td>0.000000</td><td>bergman__Aef1    </td></tr>\n",
       "\t<tr><th scope=row>3</th><td>bergman__ap  </td><td> 0.000000</td><td>88.560157</td><td>0.000000</td><td>bergman__ap      </td></tr>\n",
       "\t<tr><th scope=row>4</th><td>bergman__bab1</td><td> 2.046457</td><td> 0.000000</td><td>0.000000</td><td>metacluster_145.8</td></tr>\n",
       "\t<tr><th scope=row>5</th><td>bergman__bcd </td><td> 0.000000</td><td>41.663457</td><td>0.000000</td><td>bergman__bcd     </td></tr>\n",
       "\t<tr><th scope=row>6</th><td>bergman__bin </td><td> 1.036257</td><td> 0.000000</td><td>0.000000</td><td>bergman__bin     </td></tr>\n",
       "</tbody>\n",
       "</table>\n"
      ],
      "text/latex": [
       "A data.frame: 6 × 5\n",
       "\\begin{tabular}{r|lllll}\n",
       "  & motif\\_name & C2 & C4 & C6 & correspondance\\\\\n",
       "  & <chr> & <dbl> & <dbl> & <dbl> & <chr>\\\\\n",
       "\\hline\n",
       "\t1 & bergman\\_\\_Adf1 &  0.000000 &  0.000000 & 2.179057 & bergman\\_\\_Adf1    \\\\\n",
       "\t2 & bergman\\_\\_Aef1 & 15.926257 &  4.255657 & 0.000000 & bergman\\_\\_Aef1    \\\\\n",
       "\t3 & bergman\\_\\_ap   &  0.000000 & 88.560157 & 0.000000 & bergman\\_\\_ap      \\\\\n",
       "\t4 & bergman\\_\\_bab1 &  2.046457 &  0.000000 & 0.000000 & metacluster\\_145.8\\\\\n",
       "\t5 & bergman\\_\\_bcd  &  0.000000 & 41.663457 & 0.000000 & bergman\\_\\_bcd     \\\\\n",
       "\t6 & bergman\\_\\_bin  &  1.036257 &  0.000000 & 0.000000 & bergman\\_\\_bin     \\\\\n",
       "\\end{tabular}\n"
      ],
      "text/markdown": [
       "\n",
       "A data.frame: 6 × 5\n",
       "\n",
       "| <!--/--> | motif_name &lt;chr&gt; | C2 &lt;dbl&gt; | C4 &lt;dbl&gt; | C6 &lt;dbl&gt; | correspondance &lt;chr&gt; |\n",
       "|---|---|---|---|---|---|\n",
       "| 1 | bergman__Adf1 |  0.000000 |  0.000000 | 2.179057 | bergman__Adf1     |\n",
       "| 2 | bergman__Aef1 | 15.926257 |  4.255657 | 0.000000 | bergman__Aef1     |\n",
       "| 3 | bergman__ap   |  0.000000 | 88.560157 | 0.000000 | bergman__ap       |\n",
       "| 4 | bergman__bab1 |  2.046457 |  0.000000 | 0.000000 | metacluster_145.8 |\n",
       "| 5 | bergman__bcd  |  0.000000 | 41.663457 | 0.000000 | bergman__bcd      |\n",
       "| 6 | bergman__bin  |  1.036257 |  0.000000 | 0.000000 | bergman__bin      |\n",
       "\n"
      ],
      "text/plain": [
       "  motif_name    C2        C4        C6       correspondance   \n",
       "1 bergman__Adf1  0.000000  0.000000 2.179057 bergman__Adf1    \n",
       "2 bergman__Aef1 15.926257  4.255657 0.000000 bergman__Aef1    \n",
       "3 bergman__ap    0.000000 88.560157 0.000000 bergman__ap      \n",
       "4 bergman__bab1  2.046457  0.000000 0.000000 metacluster_145.8\n",
       "5 bergman__bcd   0.000000 41.663457 0.000000 bergman__bcd     \n",
       "6 bergman__bin   1.036257  0.000000 0.000000 bergman__bin     "
      ]
     },
     "metadata": {},
     "output_type": "display_data"
    }
   ],
   "source": [
    "merged_motif <- merge(motif_df, motif_correspondance, by=c(\"motif_name\"), all.x= TRUE)\n",
    "merged_motif <- merged_motif %>% \n",
    "    mutate(correspondance = coalesce(correspondance,motif_name))\n",
    "head(merged_motif)"
   ]
  },
  {
   "cell_type": "code",
   "execution_count": 67,
   "metadata": {
    "vscode": {
     "languageId": "r"
    }
   },
   "outputs": [],
   "source": [
    "merged_motif$max <- apply(merged_motif[,4:ncol(merged_motif)-2], 1, max)"
   ]
  },
  {
   "cell_type": "code",
   "execution_count": 68,
   "metadata": {
    "vscode": {
     "languageId": "r"
    }
   },
   "outputs": [],
   "source": [
    "merged_motif <- merged_motif[order(merged_motif$correspondance, merged_motif$max, decreasing = TRUE),]"
   ]
  },
  {
   "cell_type": "code",
   "execution_count": 69,
   "metadata": {
    "vscode": {
     "languageId": "r"
    }
   },
   "outputs": [],
   "source": [
    "merged_motif <- merged_motif[!duplicated(merged_motif$correspondance),]"
   ]
  },
  {
   "cell_type": "code",
   "execution_count": 70,
   "metadata": {
    "vscode": {
     "languageId": "r"
    }
   },
   "outputs": [],
   "source": [
    "motif2tf <- readRDS(\"/home/adufour/work/rds_storage/motif2tf.rds\")"
   ]
  },
  {
   "cell_type": "code",
   "execution_count": 71,
   "metadata": {
    "vscode": {
     "languageId": "r"
    }
   },
   "outputs": [],
   "source": [
    "motif2tf <- as.data.frame(motif2tf[,c(\"#motif_id\", \"gene_name\")])"
   ]
  },
  {
   "cell_type": "code",
   "execution_count": 72,
   "metadata": {
    "vscode": {
     "languageId": "r"
    }
   },
   "outputs": [],
   "source": [
    "colnames(motif2tf) <- c(\"motif_id\", \"gene_name\")"
   ]
  },
  {
   "cell_type": "code",
   "execution_count": 73,
   "metadata": {
    "vscode": {
     "languageId": "r"
    }
   },
   "outputs": [],
   "source": [
    "merged_df <- merge(merged_motif, motif2tf, by.x = \"correspondance\", by.y = \"motif_id\", all.x = TRUE)"
   ]
  },
  {
   "cell_type": "code",
   "execution_count": 74,
   "metadata": {
    "vscode": {
     "languageId": "r"
    }
   },
   "outputs": [],
   "source": [
    "result <- merged_df %>%\n",
    "  group_by(correspondance) %>%\n",
    "  summarise(gene_list = paste(unique(gene_name), collapse = \", \"))"
   ]
  },
  {
   "cell_type": "code",
   "execution_count": 75,
   "metadata": {
    "vscode": {
     "languageId": "r"
    }
   },
   "outputs": [],
   "source": [
    "result <- result[order(merged_motif$correspondance),]"
   ]
  },
  {
   "cell_type": "code",
   "execution_count": 76,
   "metadata": {
    "vscode": {
     "languageId": "r"
    }
   },
   "outputs": [],
   "source": [
    "merged_motif$TF <- result$gene_list"
   ]
  },
  {
   "cell_type": "code",
   "execution_count": 77,
   "metadata": {
    "scrolled": true,
    "vscode": {
     "languageId": "r"
    }
   },
   "outputs": [],
   "source": [
    "merged_motif <- merged_motif[,c(\"correspondance\", \"motif_name\", \"C2\", \"C4\", \"C6\", \"max\", \"TF\")]"
   ]
  },
  {
   "cell_type": "code",
   "execution_count": 78,
   "metadata": {
    "vscode": {
     "languageId": "r"
    }
   },
   "outputs": [],
   "source": [
    "colnames(merged_motif) <- c(\"motif_group\", \"motif_name\", \"pESC-C1\", \"pESC-C2\", \"EPI\", \"max\", \"TF\")"
   ]
  },
  {
   "cell_type": "code",
   "execution_count": 79,
   "metadata": {
    "vscode": {
     "languageId": "r"
    }
   },
   "outputs": [
    {
     "data": {
      "text/html": [
       "<table class=\"dataframe\">\n",
       "<caption>A data.frame: 6 × 7</caption>\n",
       "<thead>\n",
       "\t<tr><th></th><th scope=col>motif_group</th><th scope=col>motif_name</th><th scope=col>pESC-C1</th><th scope=col>pESC-C2</th><th scope=col>EPI</th><th scope=col>max</th><th scope=col>TF</th></tr>\n",
       "\t<tr><th></th><th scope=col>&lt;chr&gt;</th><th scope=col>&lt;chr&gt;</th><th scope=col>&lt;dbl&gt;</th><th scope=col>&lt;dbl&gt;</th><th scope=col>&lt;dbl&gt;</th><th scope=col>&lt;dbl&gt;</th><th scope=col>&lt;chr&gt;</th></tr>\n",
       "</thead>\n",
       "<tbody>\n",
       "\t<tr><th scope=row>18239</th><td>yetfasco__YPR086W_1327</td><td>yetfasco__YPR086W_1327</td><td>0.0000000</td><td> 0.000000</td><td> 0.2827575</td><td> 0.000000</td><td>GTF2B</td></tr>\n",
       "\t<tr><th scope=row>18238</th><td>yetfasco__YPR065W_1396</td><td>yetfasco__YPR065W_1396</td><td>0.0000000</td><td>19.542857</td><td> 0.0000000</td><td>19.542857</td><td>NA   </td></tr>\n",
       "\t<tr><th scope=row>18237</th><td>yetfasco__YPR054W_1875</td><td>yetfasco__YPR054W_1875</td><td>0.6731575</td><td> 1.332257</td><td> 0.0000000</td><td> 1.332257</td><td>NA   </td></tr>\n",
       "\t<tr><th scope=row>18234</th><td>yetfasco__YPR009W_2236</td><td>yetfasco__YPR009W_2236</td><td>0.0000000</td><td> 0.000000</td><td> 0.6237575</td><td> 0.000000</td><td>NA   </td></tr>\n",
       "\t<tr><th scope=row>18233</th><td>yetfasco__YPR008W_1425</td><td>yetfasco__YPR008W_1425</td><td>0.0000000</td><td> 0.000000</td><td>12.8882575</td><td> 0.000000</td><td>NA   </td></tr>\n",
       "\t<tr><th scope=row>18231</th><td>yetfasco__YPL230W_509 </td><td>yetfasco__YPL230W_509 </td><td>0.0000000</td><td>24.514157</td><td> 0.0000000</td><td>24.514157</td><td>NA   </td></tr>\n",
       "</tbody>\n",
       "</table>\n"
      ],
      "text/latex": [
       "A data.frame: 6 × 7\n",
       "\\begin{tabular}{r|lllllll}\n",
       "  & motif\\_group & motif\\_name & pESC-C1 & pESC-C2 & EPI & max & TF\\\\\n",
       "  & <chr> & <chr> & <dbl> & <dbl> & <dbl> & <dbl> & <chr>\\\\\n",
       "\\hline\n",
       "\t18239 & yetfasco\\_\\_YPR086W\\_1327 & yetfasco\\_\\_YPR086W\\_1327 & 0.0000000 &  0.000000 &  0.2827575 &  0.000000 & GTF2B\\\\\n",
       "\t18238 & yetfasco\\_\\_YPR065W\\_1396 & yetfasco\\_\\_YPR065W\\_1396 & 0.0000000 & 19.542857 &  0.0000000 & 19.542857 & NA   \\\\\n",
       "\t18237 & yetfasco\\_\\_YPR054W\\_1875 & yetfasco\\_\\_YPR054W\\_1875 & 0.6731575 &  1.332257 &  0.0000000 &  1.332257 & NA   \\\\\n",
       "\t18234 & yetfasco\\_\\_YPR009W\\_2236 & yetfasco\\_\\_YPR009W\\_2236 & 0.0000000 &  0.000000 &  0.6237575 &  0.000000 & NA   \\\\\n",
       "\t18233 & yetfasco\\_\\_YPR008W\\_1425 & yetfasco\\_\\_YPR008W\\_1425 & 0.0000000 &  0.000000 & 12.8882575 &  0.000000 & NA   \\\\\n",
       "\t18231 & yetfasco\\_\\_YPL230W\\_509  & yetfasco\\_\\_YPL230W\\_509  & 0.0000000 & 24.514157 &  0.0000000 & 24.514157 & NA   \\\\\n",
       "\\end{tabular}\n"
      ],
      "text/markdown": [
       "\n",
       "A data.frame: 6 × 7\n",
       "\n",
       "| <!--/--> | motif_group &lt;chr&gt; | motif_name &lt;chr&gt; | pESC-C1 &lt;dbl&gt; | pESC-C2 &lt;dbl&gt; | EPI &lt;dbl&gt; | max &lt;dbl&gt; | TF &lt;chr&gt; |\n",
       "|---|---|---|---|---|---|---|---|\n",
       "| 18239 | yetfasco__YPR086W_1327 | yetfasco__YPR086W_1327 | 0.0000000 |  0.000000 |  0.2827575 |  0.000000 | GTF2B |\n",
       "| 18238 | yetfasco__YPR065W_1396 | yetfasco__YPR065W_1396 | 0.0000000 | 19.542857 |  0.0000000 | 19.542857 | NA    |\n",
       "| 18237 | yetfasco__YPR054W_1875 | yetfasco__YPR054W_1875 | 0.6731575 |  1.332257 |  0.0000000 |  1.332257 | NA    |\n",
       "| 18234 | yetfasco__YPR009W_2236 | yetfasco__YPR009W_2236 | 0.0000000 |  0.000000 |  0.6237575 |  0.000000 | NA    |\n",
       "| 18233 | yetfasco__YPR008W_1425 | yetfasco__YPR008W_1425 | 0.0000000 |  0.000000 | 12.8882575 |  0.000000 | NA    |\n",
       "| 18231 | yetfasco__YPL230W_509  | yetfasco__YPL230W_509  | 0.0000000 | 24.514157 |  0.0000000 | 24.514157 | NA    |\n",
       "\n"
      ],
      "text/plain": [
       "      motif_group            motif_name             pESC-C1   pESC-C2  \n",
       "18239 yetfasco__YPR086W_1327 yetfasco__YPR086W_1327 0.0000000  0.000000\n",
       "18238 yetfasco__YPR065W_1396 yetfasco__YPR065W_1396 0.0000000 19.542857\n",
       "18237 yetfasco__YPR054W_1875 yetfasco__YPR054W_1875 0.6731575  1.332257\n",
       "18234 yetfasco__YPR009W_2236 yetfasco__YPR009W_2236 0.0000000  0.000000\n",
       "18233 yetfasco__YPR008W_1425 yetfasco__YPR008W_1425 0.0000000  0.000000\n",
       "18231 yetfasco__YPL230W_509  yetfasco__YPL230W_509  0.0000000 24.514157\n",
       "      EPI        max       TF   \n",
       "18239  0.2827575  0.000000 GTF2B\n",
       "18238  0.0000000 19.542857 NA   \n",
       "18237  0.0000000  1.332257 NA   \n",
       "18234  0.6237575  0.000000 NA   \n",
       "18233 12.8882575  0.000000 NA   \n",
       "18231  0.0000000 24.514157 NA   "
      ]
     },
     "metadata": {},
     "output_type": "display_data"
    }
   ],
   "source": [
    "head(merged_motif)"
   ]
  },
  {
   "cell_type": "code",
   "execution_count": 80,
   "metadata": {
    "vscode": {
     "languageId": "r"
    }
   },
   "outputs": [],
   "source": [
    "write.xlsx(merged_motif, file=\"/home/adufour/work/table/motif_stemcells2.xlsx\", rowNames=FALSE)"
   ]
  }
 ],
 "metadata": {
  "kernelspec": {
   "display_name": "R [conda env:archer]",
   "language": "R",
   "name": "conda-env-archer-r"
  },
  "language_info": {
   "codemirror_mode": "r",
   "file_extension": ".r",
   "mimetype": "text/x-r-source",
   "name": "R",
   "pygments_lexer": "r",
   "version": "4.4.2"
  }
 },
 "nbformat": 4,
 "nbformat_minor": 4
}

{
 "cells": [
  {
   "cell_type": "code",
   "execution_count": 1,
   "id": "e8dee600-f3f9-4d5c-be22-6c3c6a58923b",
   "metadata": {
    "scrolled": true,
    "vscode": {
     "languageId": "r"
    }
   },
   "outputs": [
    {
     "name": "stderr",
     "output_type": "stream",
     "text": [
      "\n",
      "Attachement du package : ‘dplyr’\n",
      "\n",
      "\n",
      "Les objets suivants sont masqués depuis ‘package:stats’:\n",
      "\n",
      "    filter, lag\n",
      "\n",
      "\n",
      "Les objets suivants sont masqués depuis ‘package:base’:\n",
      "\n",
      "    intersect, setdiff, setequal, union\n",
      "\n",
      "\n",
      "\n",
      "Attachement du package : ‘igraph’\n",
      "\n",
      "\n",
      "Les objets suivants sont masqués depuis ‘package:dplyr’:\n",
      "\n",
      "    as_data_frame, groups, union\n",
      "\n",
      "\n",
      "Les objets suivants sont masqués depuis ‘package:stats’:\n",
      "\n",
      "    decompose, spectrum\n",
      "\n",
      "\n",
      "L'objet suivant est masqué depuis ‘package:base’:\n",
      "\n",
      "    union\n",
      "\n",
      "\n",
      "========================================\n",
      "circlize version 0.4.15\n",
      "CRAN page: https://cran.r-project.org/package=circlize\n",
      "Github page: https://github.com/jokergoo/circlize\n",
      "Documentation: https://jokergoo.github.io/circlize_book/book/\n",
      "\n",
      "If you use it in published research, please cite:\n",
      "Gu, Z. circlize implements and enhances circular visualization\n",
      "  in R. Bioinformatics 2014.\n",
      "\n",
      "This message can be suppressed by:\n",
      "  suppressPackageStartupMessages(library(circlize))\n",
      "========================================\n",
      "\n",
      "\n",
      "\n",
      "Attachement du package : ‘circlize’\n",
      "\n",
      "\n",
      "L'objet suivant est masqué depuis ‘package:igraph’:\n",
      "\n",
      "    degree\n",
      "\n",
      "\n",
      "── \u001b[1mAttaching core tidyverse packages\u001b[22m ─────────────────────────────────────────────────────────────────────────────────────────────────────────────────────────────────────────────────────────── tidyverse 2.0.0 ──\n",
      "\u001b[32m✔\u001b[39m \u001b[34mforcats  \u001b[39m 1.0.0     \u001b[32m✔\u001b[39m \u001b[34mstringr  \u001b[39m 1.5.0\n",
      "\u001b[32m✔\u001b[39m \u001b[34mlubridate\u001b[39m 1.9.2     \u001b[32m✔\u001b[39m \u001b[34mtibble   \u001b[39m 3.2.1\n",
      "\u001b[32m✔\u001b[39m \u001b[34mpurrr    \u001b[39m 1.0.1     \u001b[32m✔\u001b[39m \u001b[34mtidyr    \u001b[39m 1.3.0\n",
      "\u001b[32m✔\u001b[39m \u001b[34mreadr    \u001b[39m 2.1.4     \n",
      "── \u001b[1mConflicts\u001b[22m ───────────────────────────────────────────────────────────────────────────────────────────────────────────────────────────────────────────────────────────────────────────── tidyverse_conflicts() ──\n",
      "\u001b[31m✖\u001b[39m \u001b[34mlubridate\u001b[39m::\u001b[32m%--%()\u001b[39m       masks \u001b[34migraph\u001b[39m::%--%()\n",
      "\u001b[31m✖\u001b[39m \u001b[34mtibble\u001b[39m::\u001b[32mas_data_frame()\u001b[39m masks \u001b[34migraph\u001b[39m::as_data_frame(), \u001b[34mdplyr\u001b[39m::as_data_frame()\n",
      "\u001b[31m✖\u001b[39m \u001b[34mreadr\u001b[39m::\u001b[32mcol_factor()\u001b[39m     masks \u001b[34mscales\u001b[39m::col_factor()\n",
      "\u001b[31m✖\u001b[39m \u001b[34mpurrr\u001b[39m::\u001b[32mcompose()\u001b[39m        masks \u001b[34migraph\u001b[39m::compose()\n",
      "\u001b[31m✖\u001b[39m \u001b[34mtidyr\u001b[39m::\u001b[32mcrossing()\u001b[39m       masks \u001b[34migraph\u001b[39m::crossing()\n",
      "\u001b[31m✖\u001b[39m \u001b[34mpurrr\u001b[39m::\u001b[32mdiscard()\u001b[39m        masks \u001b[34mscales\u001b[39m::discard()\n",
      "\u001b[31m✖\u001b[39m \u001b[34mdplyr\u001b[39m::\u001b[32mfilter()\u001b[39m         masks \u001b[34mstats\u001b[39m::filter()\n",
      "\u001b[31m✖\u001b[39m \u001b[34mdplyr\u001b[39m::\u001b[32mlag()\u001b[39m            masks \u001b[34mstats\u001b[39m::lag()\n",
      "\u001b[31m✖\u001b[39m \u001b[34mpurrr\u001b[39m::\u001b[32msimplify()\u001b[39m       masks \u001b[34migraph\u001b[39m::simplify()\n",
      "\u001b[36mℹ\u001b[39m Use the conflicted package (\u001b[3m\u001b[34m<http://conflicted.r-lib.org/>\u001b[39m\u001b[23m) to force all conflicts to become errors\n",
      "Le chargement a nécessité le package : viridisLite\n",
      "\n",
      "\n",
      "Attachement du package : ‘viridis’\n",
      "\n",
      "\n",
      "L'objet suivant est masqué depuis ‘package:scales’:\n",
      "\n",
      "    viridis_pal\n",
      "\n",
      "\n",
      "Le chargement a nécessité le package : MatrixGenerics\n",
      "\n",
      "Le chargement a nécessité le package : matrixStats\n",
      "\n",
      "\n",
      "Attachement du package : ‘matrixStats’\n",
      "\n",
      "\n",
      "L'objet suivant est masqué depuis ‘package:dplyr’:\n",
      "\n",
      "    count\n",
      "\n",
      "\n",
      "\n",
      "Attachement du package : ‘MatrixGenerics’\n",
      "\n",
      "\n",
      "Les objets suivants sont masqués depuis ‘package:matrixStats’:\n",
      "\n",
      "    colAlls, colAnyNAs, colAnys, colAvgsPerRowSet, colCollapse,\n",
      "    colCounts, colCummaxs, colCummins, colCumprods, colCumsums,\n",
      "    colDiffs, colIQRDiffs, colIQRs, colLogSumExps, colMadDiffs,\n",
      "    colMads, colMaxs, colMeans2, colMedians, colMins, colOrderStats,\n",
      "    colProds, colQuantiles, colRanges, colRanks, colSdDiffs, colSds,\n",
      "    colSums2, colTabulates, colVarDiffs, colVars, colWeightedMads,\n",
      "    colWeightedMeans, colWeightedMedians, colWeightedSds,\n",
      "    colWeightedVars, rowAlls, rowAnyNAs, rowAnys, rowAvgsPerColSet,\n",
      "    rowCollapse, rowCounts, rowCummaxs, rowCummins, rowCumprods,\n",
      "    rowCumsums, rowDiffs, rowIQRDiffs, rowIQRs, rowLogSumExps,\n",
      "    rowMadDiffs, rowMads, rowMaxs, rowMeans2, rowMedians, rowMins,\n",
      "    rowOrderStats, rowProds, rowQuantiles, rowRanges, rowRanks,\n",
      "    rowSdDiffs, rowSds, rowSums2, rowTabulates, rowVarDiffs, rowVars,\n",
      "    rowWeightedMads, rowWeightedMeans, rowWeightedMedians,\n",
      "    rowWeightedSds, rowWeightedVars\n",
      "\n",
      "\n",
      "Le chargement a nécessité le package : GenomicRanges\n",
      "\n",
      "Le chargement a nécessité le package : stats4\n",
      "\n",
      "Le chargement a nécessité le package : BiocGenerics\n",
      "\n",
      "\n",
      "Attachement du package : ‘BiocGenerics’\n",
      "\n",
      "\n",
      "Les objets suivants sont masqués depuis ‘package:lubridate’:\n",
      "\n",
      "    intersect, setdiff, union\n",
      "\n",
      "\n",
      "Les objets suivants sont masqués depuis ‘package:igraph’:\n",
      "\n",
      "    normalize, path, union\n",
      "\n",
      "\n",
      "Les objets suivants sont masqués depuis ‘package:dplyr’:\n",
      "\n",
      "    combine, intersect, setdiff, union\n",
      "\n",
      "\n",
      "Les objets suivants sont masqués depuis ‘package:stats’:\n",
      "\n",
      "    IQR, mad, sd, var, xtabs\n",
      "\n",
      "\n",
      "Les objets suivants sont masqués depuis ‘package:base’:\n",
      "\n",
      "    anyDuplicated, aperm, append, as.data.frame, basename, cbind,\n",
      "    colnames, dirname, do.call, duplicated, eval, evalq, Filter, Find,\n",
      "    get, grep, grepl, intersect, is.unsorted, lapply, Map, mapply,\n",
      "    match, mget, order, paste, pmax, pmax.int, pmin, pmin.int,\n",
      "    Position, rank, rbind, Reduce, rownames, sapply, setdiff, sort,\n",
      "    table, tapply, union, unique, unsplit, which.max, which.min\n",
      "\n",
      "\n",
      "Le chargement a nécessité le package : S4Vectors\n",
      "\n",
      "\n",
      "Attachement du package : ‘S4Vectors’\n",
      "\n",
      "\n",
      "Les objets suivants sont masqués depuis ‘package:lubridate’:\n",
      "\n",
      "    second, second<-\n",
      "\n",
      "\n",
      "L'objet suivant est masqué depuis ‘package:tidyr’:\n",
      "\n",
      "    expand\n",
      "\n",
      "\n",
      "Les objets suivants sont masqués depuis ‘package:dplyr’:\n",
      "\n",
      "    first, rename\n",
      "\n",
      "\n",
      "L'objet suivant est masqué depuis ‘package:utils’:\n",
      "\n",
      "    findMatches\n",
      "\n",
      "\n",
      "Les objets suivants sont masqués depuis ‘package:base’:\n",
      "\n",
      "    expand.grid, I, unname\n",
      "\n",
      "\n",
      "Le chargement a nécessité le package : IRanges\n",
      "\n",
      "\n",
      "Attachement du package : ‘IRanges’\n",
      "\n",
      "\n",
      "L'objet suivant est masqué depuis ‘package:lubridate’:\n",
      "\n",
      "    %within%\n",
      "\n",
      "\n",
      "L'objet suivant est masqué depuis ‘package:purrr’:\n",
      "\n",
      "    reduce\n",
      "\n",
      "\n",
      "Les objets suivants sont masqués depuis ‘package:dplyr’:\n",
      "\n",
      "    collapse, desc, slice\n",
      "\n",
      "\n",
      "Le chargement a nécessité le package : GenomeInfoDb\n",
      "\n",
      "Le chargement a nécessité le package : Biobase\n",
      "\n",
      "Welcome to Bioconductor\n",
      "\n",
      "    Vignettes contain introductory material; view with\n",
      "    'browseVignettes()'. To cite Bioconductor, see\n",
      "    'citation(\"Biobase\")', and for packages 'citation(\"pkgname\")'.\n",
      "\n",
      "\n",
      "\n",
      "Attachement du package : ‘Biobase’\n",
      "\n",
      "\n",
      "L'objet suivant est masqué depuis ‘package:MatrixGenerics’:\n",
      "\n",
      "    rowMedians\n",
      "\n",
      "\n",
      "Les objets suivants sont masqués depuis ‘package:matrixStats’:\n",
      "\n",
      "    anyMissing, rowMedians\n",
      "\n",
      "\n"
     ]
    }
   ],
   "source": [
    "library(\"dplyr\")\n",
    "library(\"igraph\")\n",
    "library(\"scales\")\n",
    "library(\"ggplot2\")\n",
    "library(\"circlize\")\n",
    "library(\"RColorBrewer\")\n",
    "library(tidyverse)\n",
    "library(viridis)\n",
    "library(tidyr)\n",
    "library(patchwork)\n",
    "library(circlize)\n",
    "library(SummarizedExperiment)"
   ]
  },
  {
   "cell_type": "code",
   "execution_count": 2,
   "id": "259ab0ec-e496-4ef4-bf8c-2151f70ae03b",
   "metadata": {
    "vscode": {
     "languageId": "r"
    }
   },
   "outputs": [],
   "source": [
    "liana_result <- readRDS(\"/home/adufour/work/rds_storage/LR/liana/liana_multiomics.rds\")"
   ]
  },
  {
   "cell_type": "code",
   "execution_count": 3,
   "id": "152b2771-27b2-4a07-9403-db489ffb7468",
   "metadata": {
    "vscode": {
     "languageId": "r"
    }
   },
   "outputs": [],
   "source": [
    "gene_matrix<-readRDS(\"/home/adufour/work/rds_storage/omics/rna_multiome_stemcells_matrix.rds\")"
   ]
  },
  {
   "cell_type": "code",
   "execution_count": 4,
   "id": "5c6e3ef0-8d00-4b21-b3a7-f82674f54547",
   "metadata": {
    "vscode": {
     "languageId": "r"
    }
   },
   "outputs": [
    {
     "name": "stderr",
     "output_type": "stream",
     "text": [
      "Warning message in asMethod(object):\n",
      "“sparse->dense coercion: allocating vector of size 4.4 GiB”\n"
     ]
    }
   ],
   "source": [
    "matrix<-as.data.frame(as.matrix(assays(gene_matrix)$GeneExpressionMatrix))"
   ]
  },
  {
   "cell_type": "code",
   "execution_count": 5,
   "id": "46001f3c-da31-4318-bc86-73eda2d786e5",
   "metadata": {
    "vscode": {
     "languageId": "r"
    }
   },
   "outputs": [],
   "source": [
    "rownames(matrix) <- rowData(gene_matrix)$name"
   ]
  },
  {
   "cell_type": "code",
   "execution_count": 6,
   "id": "ea84ea40-1e01-4c39-ac4a-fd8b4da73643",
   "metadata": {
    "vscode": {
     "languageId": "r"
    }
   },
   "outputs": [],
   "source": [
    "liana_result <- subset(liana_result, source %in% c(\"C2\", \"C4\") & target %in% c(\"C2\", \"C4\"))"
   ]
  },
  {
   "cell_type": "code",
   "execution_count": 7,
   "id": "6311c0ca-7fa3-40e0-bbeb-a465b1468e81",
   "metadata": {
    "vscode": {
     "languageId": "r"
    }
   },
   "outputs": [],
   "source": [
    "options(repr.plot.width = 18, repr.plot.height = 17, repr.plot.pointsize = 24)"
   ]
  },
  {
   "cell_type": "code",
   "execution_count": 8,
   "id": "2920bfa1-6c37-42c6-9435-1391b3e294f6",
   "metadata": {
    "scrolled": true,
    "vscode": {
     "languageId": "r"
    }
   },
   "outputs": [],
   "source": [
    "matrix_ligand <- matrix[unique(liana_result$ligand),]\n",
    "matrix_receptor <- matrix[unique(liana_result$receptor),]"
   ]
  },
  {
   "cell_type": "code",
   "execution_count": 9,
   "id": "bb4b35e0-04d1-42c2-8e16-522cbbb8ac03",
   "metadata": {
    "vscode": {
     "languageId": "r"
    }
   },
   "outputs": [],
   "source": [
    "C2_cells <- rownames(as.data.frame(colData(gene_matrix))[as.data.frame(colData(gene_matrix))$Clusters == \"C2\",])\n",
    "C4_cells <- rownames(as.data.frame(colData(gene_matrix))[as.data.frame(colData(gene_matrix))$Clusters == \"C4\",])\n",
    "C6_cells <- rownames(as.data.frame(colData(gene_matrix))[as.data.frame(colData(gene_matrix))$Clusters == \"C6\",])"
   ]
  },
  {
   "cell_type": "code",
   "execution_count": 10,
   "id": "21a38fd3-ae14-40aa-96e4-ab47809127d3",
   "metadata": {
    "vscode": {
     "languageId": "r"
    }
   },
   "outputs": [],
   "source": [
    "matrix_ligand$C2_means <- rowMeans(matrix_ligand[,C2_cells])\n",
    "matrix_ligand$C4_means <- rowMeans(matrix_ligand[,C4_cells])\n",
    "matrix_ligand$C6_means <- rowMeans(matrix_ligand[,C6_cells])"
   ]
  },
  {
   "cell_type": "code",
   "execution_count": 11,
   "id": "aab60996-d743-4a44-826a-0c8819ee0059",
   "metadata": {
    "vscode": {
     "languageId": "r"
    }
   },
   "outputs": [],
   "source": [
    "avg_expression_ligands <- matrix_ligand[,c(\"C2_means\", \"C4_means\", \"C6_means\")]"
   ]
  },
  {
   "cell_type": "code",
   "execution_count": 12,
   "id": "c2009747-6b3e-40de-ab8b-13a2f6bd8528",
   "metadata": {
    "vscode": {
     "languageId": "r"
    }
   },
   "outputs": [
    {
     "data": {
      "text/html": [
       "<style>\n",
       ".list-inline {list-style: none; margin:0; padding: 0}\n",
       ".list-inline>li {display: inline-block}\n",
       ".list-inline>li:not(:last-child)::after {content: \"\\00b7\"; padding: 0 .5ex}\n",
       "</style>\n",
       "<ol class=list-inline><li>'C2_means'</li><li>'C4_means'</li><li>'C6_means'</li></ol>\n"
      ],
      "text/latex": [
       "\\begin{enumerate*}\n",
       "\\item 'C2\\_means'\n",
       "\\item 'C4\\_means'\n",
       "\\item 'C6\\_means'\n",
       "\\end{enumerate*}\n"
      ],
      "text/markdown": [
       "1. 'C2_means'\n",
       "2. 'C4_means'\n",
       "3. 'C6_means'\n",
       "\n",
       "\n"
      ],
      "text/plain": [
       "[1] \"C2_means\" \"C4_means\" \"C6_means\""
      ]
     },
     "metadata": {},
     "output_type": "display_data"
    }
   ],
   "source": [
    "sender_ligand_assignment = avg_expression_ligands %>% apply(1, function(ligand_expression){\n",
    "  ligand_expression > (ligand_expression %>% mean() + ligand_expression %>% sd())\n",
    "  }) %>% t()\n",
    "sender_ligand_assignment = sender_ligand_assignment %>% apply(2, function(x){x[x == TRUE]}) %>% purrr::keep(function(x){length(x) > 0})\n",
    "names(sender_ligand_assignment)"
   ]
  },
  {
   "cell_type": "code",
   "execution_count": 13,
   "id": "4f12ded6-591a-4dcc-bdb9-c7820a39cadf",
   "metadata": {
    "vscode": {
     "languageId": "r"
    }
   },
   "outputs": [],
   "source": [
    "all_assigned_ligands = sender_ligand_assignment %>% lapply(function(x){names(x)}) %>% unlist()\n",
    "unique_ligands = all_assigned_ligands %>% table() %>% .[. == 1] %>% names()\n",
    "general_ligands = liana_result$ligand %>% setdiff(unique_ligands)\n",
    "\n",
    "\n",
    "C2_specific_ligands = sender_ligand_assignment$C2_means %>% names() %>% setdiff(general_ligands)\n",
    "C4_specific_ligands = sender_ligand_assignment$C4_means %>% names() %>% setdiff(general_ligands)\n",
    "C6_specific_ligands = sender_ligand_assignment$C6_means %>% names() %>% setdiff(general_ligands)\n",
    "\n",
    "ligand_type_indication_df = tibble(\n",
    "  ligand_type = c(rep(\"C2-specific\", times = C2_specific_ligands %>% length()),\n",
    "                  rep(\"C4-specific\", times = C4_specific_ligands %>% length()),\n",
    "                  rep(\"C6-specific\", times = C6_specific_ligands %>% length()),\n",
    "                  rep(\"General\", times = general_ligands %>% length())),\n",
    "  ligand = c(C2_specific_ligands, C4_specific_ligands, C6_specific_ligands, general_ligands))"
   ]
  },
  {
   "cell_type": "code",
   "execution_count": 14,
   "id": "5f214e27-57b9-4374-93c9-db48c5bb003a",
   "metadata": {
    "vscode": {
     "languageId": "r"
    }
   },
   "outputs": [],
   "source": [
    "matrix_receptor$C2_means <- rowMeans(matrix_receptor[,C2_cells])\n",
    "matrix_receptor$C4_means <- rowMeans(matrix_receptor[,C4_cells])\n",
    "matrix_receptor$C6_means <- rowMeans(matrix_receptor[,C6_cells])"
   ]
  },
  {
   "cell_type": "code",
   "execution_count": 15,
   "id": "b6f5487b-6581-43ae-8454-cfeb99b633bd",
   "metadata": {
    "vscode": {
     "languageId": "r"
    }
   },
   "outputs": [],
   "source": [
    "avg_expression_receptor <- matrix_receptor[,c(\"C2_means\", \"C4_means\", \"C6_means\")]"
   ]
  },
  {
   "cell_type": "code",
   "execution_count": 16,
   "id": "7c63b717-d1c1-4969-8bed-5bae2114d03e",
   "metadata": {
    "vscode": {
     "languageId": "r"
    }
   },
   "outputs": [
    {
     "data": {
      "text/html": [
       "<style>\n",
       ".list-inline {list-style: none; margin:0; padding: 0}\n",
       ".list-inline>li {display: inline-block}\n",
       ".list-inline>li:not(:last-child)::after {content: \"\\00b7\"; padding: 0 .5ex}\n",
       "</style>\n",
       "<ol class=list-inline><li>'C2_means'</li><li>'C4_means'</li><li>'C6_means'</li></ol>\n"
      ],
      "text/latex": [
       "\\begin{enumerate*}\n",
       "\\item 'C2\\_means'\n",
       "\\item 'C4\\_means'\n",
       "\\item 'C6\\_means'\n",
       "\\end{enumerate*}\n"
      ],
      "text/markdown": [
       "1. 'C2_means'\n",
       "2. 'C4_means'\n",
       "3. 'C6_means'\n",
       "\n",
       "\n"
      ],
      "text/plain": [
       "[1] \"C2_means\" \"C4_means\" \"C6_means\""
      ]
     },
     "metadata": {},
     "output_type": "display_data"
    }
   ],
   "source": [
    "sender_receptor_assignment = avg_expression_receptor %>% apply(1, function(receptor_expression){\n",
    "  receptor_expression > (receptor_expression %>% mean() + receptor_expression %>% sd())\n",
    "  }) %>% t()\n",
    "sender_receptor_assignment = sender_receptor_assignment %>% apply(2, function(x){x[x == TRUE]}) %>% purrr::keep(function(x){length(x) > 0})\n",
    "names(sender_receptor_assignment)"
   ]
  },
  {
   "cell_type": "code",
   "execution_count": 17,
   "id": "3068ef76-8ed5-4bfa-b3cd-349b8ba20326",
   "metadata": {
    "vscode": {
     "languageId": "r"
    }
   },
   "outputs": [],
   "source": [
    "all_assigned_receptor = sender_receptor_assignment %>% lapply(function(x){names(x)}) %>% unlist()\n",
    "    unique_receptor = all_assigned_receptor %>% table() %>% .[. == 1] %>% names()\n",
    "    general_receptor = liana_result$receptor %>% setdiff(unique_receptor)\n",
    "    \n",
    "    C2_specific_receptor = sender_receptor_assignment$C2_means %>% names() %>% setdiff(general_receptor)\n",
    "    C4_specific_receptor = sender_receptor_assignment$C4_means %>% names() %>% setdiff(general_receptor)\n",
    "    C6_specific_receptor = sender_receptor_assignment$C6_means %>% names() %>% setdiff(general_receptor)\n",
    "    \n",
    "    receptor_type_indication_df = tibble(\n",
    "      receptor_type = c(rep(\"C2-specific\", times = C2_specific_receptor %>% length()),\n",
    "                      rep(\"C4-specific\", times = C4_specific_receptor %>% length()),\n",
    "                      rep(\"C6-specific\", times = C6_specific_receptor %>% length()),\n",
    "                      rep(\"General\", times = general_receptor %>% length())),\n",
    "      receptor = c(C2_specific_receptor, C4_specific_receptor, C6_specific_receptor, general_receptor))"
   ]
  },
  {
   "cell_type": "code",
   "execution_count": 18,
   "id": "2b3538e6-e03c-4781-9d1c-9aec23180002",
   "metadata": {
    "vscode": {
     "languageId": "r"
    }
   },
   "outputs": [],
   "source": [
    "liana_result <- liana_result[liana_result$source == \"C2\" & liana_result$ligand %in% C2_specific_ligands | liana_result$source == \"C4\" & liana_result$ligand %in% C4_specific_ligands | liana_result$source == \"C6\" & liana_result$ligand %in% C6_specific_ligands | liana_result$ligand %in% general_ligands,]"
   ]
  },
  {
   "cell_type": "code",
   "execution_count": 19,
   "id": "0a9bb50f-8614-40e9-a13d-2912f7db5bdd",
   "metadata": {
    "vscode": {
     "languageId": "r"
    }
   },
   "outputs": [],
   "source": [
    "liana_result <- liana_result[liana_result$target == \"C2\" & liana_result$receptor %in% C2_specific_receptor | liana_result$target == \"C4\" & liana_result$receptor %in% C4_specific_receptor | liana_result$target == \"C6\" & liana_result$receptor %in% C6_specific_receptor | liana_result$receptor %in% general_receptor,]"
   ]
  },
  {
   "cell_type": "code",
   "execution_count": 20,
   "id": "e48fc1b3-492c-4c65-85de-08f135526295",
   "metadata": {
    "vscode": {
     "languageId": "r"
    }
   },
   "outputs": [],
   "source": [
    "liana_result$pair <- paste0(liana_result$ligand, \"_\", liana_result$receptor)"
   ]
  },
  {
   "cell_type": "code",
   "execution_count": 21,
   "id": "8323edac-f8d7-4565-9b8b-cdc4ef9d691d",
   "metadata": {
    "vscode": {
     "languageId": "r"
    }
   },
   "outputs": [
    {
     "name": "stderr",
     "output_type": "stream",
     "text": [
      "Warning message in general_receptor %in% liana_result$receptor | general_ligands %in% :\n",
      "“la taille d'un objet plus long n'est pas multiple de la taille d'un objet plus court”\n"
     ]
    }
   ],
   "source": [
    "pairs_list <- as.list(liana_result[general_receptor %in% liana_result$receptor | general_ligands %in% liana_result$ligand,]$pair)"
   ]
  },
  {
   "cell_type": "code",
   "execution_count": 22,
   "id": "3602f49e-a3ad-44a9-97ad-acf00464623a",
   "metadata": {
    "vscode": {
     "languageId": "r"
    }
   },
   "outputs": [],
   "source": [
    "colnames(avg_expression_ligands) <- c(\"C2\", \"C4\", \"C6\")\n",
    "colnames(avg_expression_receptor) <- c(\"C2\", \"C4\", \"C6\")"
   ]
  },
  {
   "cell_type": "code",
   "execution_count": 23,
   "id": "7eed76f2-edaf-4d4b-9e69-128a11f89eeb",
   "metadata": {
    "vscode": {
     "languageId": "r"
    }
   },
   "outputs": [],
   "source": [
    "mylist <- list()\n",
    "for (pairs in pairs_list){\n",
    "    ligand <- unique(liana_result[liana_result$pair == pairs,]$ligand)\n",
    "    receptor <- unique(liana_result[liana_result$pair == pairs,]$receptor)\n",
    "    \n",
    "    if (unique(liana_result[liana_result$pair == pairs,]$ligand) %in% general_ligands) {\n",
    "        source <- \"General\"\n",
    "        mean_ligand <- rowMeans(avg_expression_ligands[ligand,c(\"C2\", \"C4\")])\n",
    "    }\n",
    "    else {\n",
    "        source <- unique(liana_result[liana_result$pair == pairs,]$source)\n",
    "        mean_ligand <- avg_expression_ligands[ligand,source]\n",
    "    }\n",
    "    if (unique(liana_result[liana_result$pair == pairs,]$receptor) %in% general_receptor) {\n",
    "        receptor_type <- \"General\"\n",
    "        mean_receptor <- rowMeans(avg_expression_receptor[receptor,c(\"C2\", \"C4\")])\n",
    "    }\n",
    "    else {\n",
    "        receptor_type <- unique(liana_result[liana_result$pair == pairs,]$target)\n",
    "        mean_receptor <- avg_expression_receptor[receptor,receptor_type]\n",
    "    }\n",
    "    line <- c(source, receptor_type, pairs, ligand, receptor, mean_ligand, mean_receptor,\n",
    "                                               mean(mean_ligand, mean_receptor))\n",
    "    mylist[[pairs]] <- line\n",
    "}"
   ]
  },
  {
   "cell_type": "code",
   "execution_count": 24,
   "id": "3562ff4e-aa73-401a-a3e5-4beec0abae90",
   "metadata": {
    "vscode": {
     "languageId": "r"
    }
   },
   "outputs": [],
   "source": [
    "liana_result[liana_result$receptor == \"ENSSSCG00000038594\",]$receptor <- \"SDC4\"\n",
    "liana_result[liana_result$receptor == \"ENSSSCG00000009347\",]$receptor <- \"KL\""
   ]
  },
  {
   "cell_type": "code",
   "execution_count": 25,
   "id": "c1e8f241-af74-4974-9790-329cf8ffe6dc",
   "metadata": {
    "vscode": {
     "languageId": "r"
    }
   },
   "outputs": [],
   "source": [
    "df <- as.data.frame(do.call(\"rbind\",mylist))"
   ]
  },
  {
   "cell_type": "code",
   "execution_count": 26,
   "id": "1e0218fe-ae1b-4f02-86c3-aacfb5da247c",
   "metadata": {
    "vscode": {
     "languageId": "r"
    }
   },
   "outputs": [],
   "source": [
    "colnames(df) <- c(\"source\", \"receptor_type\", \"pair\", \"ligand\", \"receptor\", \"mean.ligand\", \"mean.receptor\", \"mean\")"
   ]
  },
  {
   "cell_type": "code",
   "execution_count": 27,
   "id": "ea82fba0-ffb1-4e19-b4f6-97aa90312070",
   "metadata": {
    "vscode": {
     "languageId": "r"
    }
   },
   "outputs": [],
   "source": [
    "df[df$receptor == \"ENSSSCG00000038594\",]$receptor <- \"SDC4\"\n",
    "df[df$receptor == \"ENSSSCG00000009347\",]$receptor <- \"KL\""
   ]
  },
  {
   "cell_type": "code",
   "execution_count": 28,
   "id": "03c65831-e193-43b2-99ff-0826a344a174",
   "metadata": {
    "vscode": {
     "languageId": "r"
    }
   },
   "outputs": [],
   "source": [
    "df$mean <- as.double(df$mean)"
   ]
  },
  {
   "cell_type": "code",
   "execution_count": 29,
   "id": "de017c6a-2295-4e49-9b36-4011f823a9cf",
   "metadata": {
    "vscode": {
     "languageId": "r"
    }
   },
   "outputs": [
    {
     "name": "stderr",
     "output_type": "stream",
     "text": [
      "\u001b[1m\u001b[22mJoining with `by = join_by(source)`\n",
      "\u001b[1m\u001b[22mJoining with `by = join_by(receptor_type)`\n"
     ]
    }
   ],
   "source": [
    "grid_col_ligand =c(\"General\" = \"#FDA7DF\",\n",
    "            \"C2\" = \"#00b894\",\n",
    "            \"C4\" = \"#fdcb6e\",\n",
    "            \"C6\" = \"#ce8787\")\n",
    "grid_col_target =c(\"General\" = \"#FDA7DF\",\n",
    "            \"C2\" = \"#00b894\",\n",
    "            \"C4\" = \"#fdcb6e\",\n",
    "            \"C6\" = \"#ce8787\")\n",
    "\n",
    "grid_col_tbl_ligand = tibble(source = grid_col_ligand %>% names(), color_ligand_type = grid_col_ligand)\n",
    "grid_col_tbl_target = tibble(receptor_type = grid_col_target %>% names(), color_target_type = grid_col_target)\n",
    "\n",
    "#interactions = interactions %>% mutate(ligand = paste(ligand,\" \")) # extra space: make a difference between a gene as ligand and a gene as target!\n",
    "df = df %>% inner_join(grid_col_tbl_ligand) %>% inner_join(grid_col_tbl_target)\n",
    "links_circle = df %>% select(ligand,receptor, mean)\n",
    "links_circle = links_circle[order(links_circle$mean, decreasing = TRUE),]\n",
    "links_circle = links_circle[1:30,]\n",
    "\n",
    "ligand_color = df %>% distinct(ligand,color_ligand_type)\n",
    "grid_ligand_color = ligand_color$color_ligand_type %>% set_names(ligand_color$ligand)\n",
    "target_color = df %>% distinct(receptor,color_target_type)\n",
    "grid_target_color = target_color$color_target_type %>% set_names(target_color$receptor)\n",
    "\n",
    "grid_col =c(grid_ligand_color,grid_target_color)\n",
    "\n",
    "# give the option that links in the circos plot will be transparant ~ ligand-target potential score\n",
    "transparency = df %>% mutate(weight =(mean-min(mean))/(max(mean)-min(mean))) %>% mutate(transparency = 1-mean) %>% .$transparency "
   ]
  },
  {
   "cell_type": "code",
   "execution_count": 30,
   "id": "13ce0e55-3815-4dfb-954d-7b8b43fd7c28",
   "metadata": {
    "vscode": {
     "languageId": "r"
    }
   },
   "outputs": [],
   "source": [
    "target_order = c(C2_specific_receptor, C4_specific_receptor,C6_specific_receptor,general_receptor)\n",
    "ligand_order = c(C2_specific_ligands, C4_specific_ligands,C6_specific_ligands,general_ligands)\n",
    "order = c(ligand_order,target_order)"
   ]
  },
  {
   "cell_type": "code",
   "execution_count": 31,
   "id": "7470817e-2149-4661-86b3-227ce3c6279f",
   "metadata": {
    "vscode": {
     "languageId": "r"
    }
   },
   "outputs": [],
   "source": [
    "order <- gsub(\"ENSSSCG00000038594\",\"SDC4\", order)\n",
    "order <- gsub(\"ENSSSCG00000009347\",\"KL\", order)"
   ]
  },
  {
   "cell_type": "code",
   "execution_count": 32,
   "id": "6158e4d4-1287-4028-88f2-7d951c95fc0b",
   "metadata": {
    "vscode": {
     "languageId": "r"
    }
   },
   "outputs": [
    {
     "data": {
      "text/html": [
       "<strong>png:</strong> 2"
      ],
      "text/latex": [
       "\\textbf{png:} 2"
      ],
      "text/markdown": [
       "**png:** 2"
      ],
      "text/plain": [
       "png \n",
       "  2 "
      ]
     },
     "metadata": {},
     "output_type": "display_data"
    }
   ],
   "source": [
    "library(svglite)\n",
    "svglite(\"~/work/notebook/plots/interactions/omics/stem_cells.svg\", width = 30, height = 30)\n",
    "circos.par(gap.degree = 1)\n",
    "chordDiagram(links_circle, directional = 1,order=order,link.sort = TRUE, link.decreasing = FALSE, grid.col = grid_col,transparency = 0.25, diffHeight = 0.005, direction.type = c(\"diffHeight\", \"arrows\"),link.arr.type = \"big.arrow\",annotationTrack = \"grid\", \n",
    "    preAllocateTracks = list(track.height = 0.075))\n",
    "# we go back to the first track and customize sector labels\n",
    "circos.track(track.index = 1, panel.fun = function(x, y) {\n",
    "    circos.text(CELL_META$xcenter, CELL_META$ylim[1], CELL_META$sector.index,\n",
    "        facing = \"clockwise\", niceFacing = TRUE, adj = c(0, 0.55), cex = 3)\n",
    "}, bg.border = NA)\n",
    "circos.clear()\n",
    "dev.off()"
   ]
  }
 ],
 "metadata": {
  "kernelspec": {
   "display_name": "R [conda env:liana]",
   "language": "R",
   "name": "conda-env-liana-r"
  },
  "language_info": {
   "codemirror_mode": "r",
   "file_extension": ".r",
   "mimetype": "text/x-r-source",
   "name": "R",
   "pygments_lexer": "r",
   "version": "4.3.1"
  }
 },
 "nbformat": 4,
 "nbformat_minor": 5
}

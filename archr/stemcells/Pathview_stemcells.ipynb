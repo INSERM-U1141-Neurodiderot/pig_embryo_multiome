{
 "cells": [
  {
   "cell_type": "code",
   "execution_count": 1,
   "id": "5d20c411-6d92-471f-a80f-acb7538b5125",
   "metadata": {
    "vscode": {
     "languageId": "r"
    }
   },
   "outputs": [],
   "source": [
    "load(file = \"/home/adufour/work/rds_storage/omics/stem_cells_seurat.Rdata\")"
   ]
  },
  {
   "cell_type": "code",
   "execution_count": 2,
   "id": "86b0e0a7-a94c-4d4e-ba8b-7e4b64f61e6f",
   "metadata": {
    "scrolled": true,
    "vscode": {
     "languageId": "r"
    }
   },
   "outputs": [
    {
     "name": "stderr",
     "output_type": "stream",
     "text": [
      "\n",
      "\n",
      "##############################################################################\n",
      "Pathview is an open source software package distributed under GNU General\n",
      "Public License version 3 (GPLv3). Details of GPLv3 is available at\n",
      "http://www.gnu.org/licenses/gpl-3.0.html. Particullary, users are required to\n",
      "formally cite the original Pathview paper (not just mention it) in publications\n",
      "or products. For details, do citation(\"pathview\") within R.\n",
      "\n",
      "The pathview downloads and uses KEGG data. Non-academic uses may require a KEGG\n",
      "license agreement (details at http://www.kegg.jp/kegg/legal.html).\n",
      "##############################################################################\n",
      "\n",
      "Attaching SeuratObject\n",
      "\n",
      "‘SeuratObject’ was built with package ‘Matrix’ 1.6.3 but the current\n",
      "version is 1.6.4; it is recomended that you reinstall ‘SeuratObject’ as\n",
      "the ABI for ‘Matrix’ may have changed\n",
      "\n",
      "Seurat v4 was just loaded with SeuratObject v5; disabling v5 assays and\n",
      "validation routines, and ensuring assays work in strict v3/v4\n",
      "compatibility mode\n",
      "\n",
      "Le chargement a nécessité le package : pathfindR.data\n",
      "\n",
      "##############################################################################\n",
      "                        Welcome to pathfindR!\n",
      "\n",
      "Please cite the article below if you use pathfindR in published reseach:\n",
      "\n",
      "Ulgen E, Ozisik O, Sezerman OU. 2019. pathfindR: An R Package for Comprehensive\n",
      "Identification of Enriched Pathways in Omics Data Through Active Subnetworks.\n",
      "Front. Genet. doi:10.3389/fgene.2019.00858\n",
      "\n",
      "##############################################################################\n",
      "\n"
     ]
    }
   ],
   "source": [
    "library(pathview)\n",
    "library(Seurat)\n",
    "library(pathfindR)"
   ]
  },
  {
   "cell_type": "code",
   "execution_count": 6,
   "id": "3cda512d-42b8-4e47-bbc6-ee2e0814bb7d",
   "metadata": {
    "vscode": {
     "languageId": "r"
    }
   },
   "outputs": [],
   "source": [
    "epi_vs_esc.markers <- FindMarkers(seurat.integrated, ident.1 = \"C6\", ident.2 = c(\"C2\", \"C4\"), test.use = \"wilcox\", logfc.threshold = 0, min.pct = 0)"
   ]
  },
  {
   "cell_type": "code",
   "execution_count": 7,
   "id": "5a5ac276-7358-4253-8b30-b459820ad342",
   "metadata": {
    "scrolled": true,
    "vscode": {
     "languageId": "r"
    }
   },
   "outputs": [],
   "source": [
    "epi_vs_esc.markers$Gene.symbol <- rownames(epi_vs_esc.markers)"
   ]
  },
  {
   "cell_type": "code",
   "execution_count": 8,
   "id": "5fd5af20-db94-4e53-b884-457b0f607b8a",
   "metadata": {
    "vscode": {
     "languageId": "r"
    }
   },
   "outputs": [],
   "source": [
    "epi_vs_esc.markers <- epi_vs_esc.markers[,c(\"Gene.symbol\", \"avg_log2FC\", \"p_val_adj\")]"
   ]
  },
  {
   "cell_type": "code",
   "execution_count": 9,
   "id": "170896bf-370f-4577-a0f5-29b726f3d0e8",
   "metadata": {
    "vscode": {
     "languageId": "r"
    }
   },
   "outputs": [],
   "source": [
    "colnames(epi_vs_esc.markers) <- c(\"Gene.symbol\", \"logFC\", \"adj.P.Val\")"
   ]
  },
  {
   "cell_type": "code",
   "execution_count": 10,
   "id": "3347d7b1-bb3a-4d1b-93f7-10871565a7ac",
   "metadata": {
    "vscode": {
     "languageId": "r"
    }
   },
   "outputs": [],
   "source": [
    "epi_vs_esc.markers <- na.omit(epi_vs_esc.markers)"
   ]
  },
  {
   "cell_type": "code",
   "execution_count": 11,
   "id": "97021375-d35d-4468-a729-b61948031751",
   "metadata": {
    "vscode": {
     "languageId": "r"
    }
   },
   "outputs": [],
   "source": [
    "foldchange <- epi_vs_esc.markers[,2]\n",
    "names(foldchange) <- epi_vs_esc.markers$Gene.symbol"
   ]
  },
  {
   "cell_type": "code",
   "execution_count": 12,
   "id": "82c24f7a-6819-4688-984a-0a10fa4356cb",
   "metadata": {
    "vscode": {
     "languageId": "r"
    }
   },
   "outputs": [],
   "source": [
    "names(foldchange) <- gsub(\"ENSSSCG00000001393\", \"POU5F1\", gsub(\"ENSSSCG00000023357\", \"REST\", gsub(\"ENSSSCG00000007023\", \"KAT6A\", gsub(\"ENSSSCG00000032299\", \"LEFTY2\", names(foldchange)))))"
   ]
  },
  {
   "cell_type": "code",
   "execution_count": 15,
   "id": "df5c2966-4ec1-4506-b245-08be35668b1a",
   "metadata": {
    "vscode": {
     "languageId": "r"
    }
   },
   "outputs": [
    {
     "name": "stderr",
     "output_type": "stream",
     "text": [
      "'select()' returned 1:many mapping between keys and columns\n",
      "\n"
     ]
    },
    {
     "name": "stdout",
     "output_type": "stream",
     "text": [
      "[1] \"Note: 20662 of 35670 unique input IDs unmapped.\"\n"
     ]
    },
    {
     "name": "stderr",
     "output_type": "stream",
     "text": [
      "'select()' returned 1:1 mapping between keys and columns\n",
      "\n",
      "Info: Working in directory /work/user/adufour/notebook/omics/embryos/time_series\n",
      "\n",
      "Info: Writing image file ssc04350.multiome_stemcells_vs_epiblast.png\n",
      "\n"
     ]
    }
   ],
   "source": [
    "pv.out <- pathview(gene.data = foldchange, gene.idtype = \"SYMBOL\", pathway.id = \"04350\", limit=list(gene=5, cpd=5), species = \"ssc\", out.suffix = \"multiome_stemcells_vs_epiblast\")"
   ]
  }
 ],
 "metadata": {
  "kernelspec": {
   "display_name": "R [conda env:pathfind]",
   "language": "R",
   "name": "conda-env-pathfind-r"
  },
  "language_info": {
   "codemirror_mode": "r",
   "file_extension": ".r",
   "mimetype": "text/x-r-source",
   "name": "R",
   "pygments_lexer": "r",
   "version": "4.3.2"
  }
 },
 "nbformat": 4,
 "nbformat_minor": 5
}

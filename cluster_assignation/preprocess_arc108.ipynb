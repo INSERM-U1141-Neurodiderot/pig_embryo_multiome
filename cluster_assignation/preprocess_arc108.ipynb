{
 "cells": [
  {
   "cell_type": "markdown",
   "metadata": {},
   "source": [
    "# From Quality control to Clustering for day 5 samples"
   ]
  },
  {
   "cell_type": "markdown",
   "metadata": {},
   "source": [
    "package loading"
   ]
  },
  {
   "cell_type": "code",
   "execution_count": 1,
   "metadata": {
    "scrolled": true,
    "vscode": {
     "languageId": "r"
    }
   },
   "outputs": [
    {
     "name": "stderr",
     "output_type": "stream",
     "text": [
      "\n",
      "Attachement du package : ‘dplyr’\n",
      "\n",
      "\n",
      "Les objets suivants sont masqués depuis ‘package:stats’:\n",
      "\n",
      "    filter, lag\n",
      "\n",
      "\n",
      "Les objets suivants sont masqués depuis ‘package:base’:\n",
      "\n",
      "    intersect, setdiff, setequal, union\n",
      "\n",
      "\n",
      "Le chargement a nécessité le package : BiocGenerics\n",
      "\n",
      "\n",
      "Attachement du package : ‘BiocGenerics’\n",
      "\n",
      "\n",
      "Les objets suivants sont masqués depuis ‘package:dplyr’:\n",
      "\n",
      "    combine, intersect, setdiff, union\n",
      "\n",
      "\n",
      "Les objets suivants sont masqués depuis ‘package:stats’:\n",
      "\n",
      "    IQR, mad, sd, var, xtabs\n",
      "\n",
      "\n",
      "Les objets suivants sont masqués depuis ‘package:base’:\n",
      "\n",
      "    anyDuplicated, aperm, append, as.data.frame, basename, cbind,\n",
      "    colnames, dirname, do.call, duplicated, eval, evalq, Filter, Find,\n",
      "    get, grep, grepl, intersect, is.unsorted, lapply, Map, mapply,\n",
      "    match, mget, order, paste, pmax, pmax.int, pmin, pmin.int,\n",
      "    Position, rank, rbind, Reduce, rownames, sapply, setdiff, sort,\n",
      "    table, tapply, union, unique, unsplit, which.max, which.min\n",
      "\n",
      "\n",
      "Le chargement a nécessité le package : BiocFileCache\n",
      "\n",
      "Le chargement a nécessité le package : dbplyr\n",
      "\n",
      "\n",
      "Attachement du package : ‘dbplyr’\n",
      "\n",
      "\n",
      "Les objets suivants sont masqués depuis ‘package:dplyr’:\n",
      "\n",
      "    ident, sql\n",
      "\n",
      "\n",
      "\n",
      "Attachement du package : ‘patchwork’\n",
      "\n",
      "\n",
      "L'objet suivant est masqué depuis ‘package:cowplot’:\n",
      "\n",
      "    align_plots\n",
      "\n",
      "\n",
      "The legacy packages maptools, rgdal, and rgeos, underpinning the sp package,\n",
      "which was just loaded, will retire in October 2023.\n",
      "Please refer to R-spatial evolution reports for details, especially\n",
      "https://r-spatial.org/r/2023/05/15/evolution4.html.\n",
      "It may be desirable to make the sf package available;\n",
      "package maintainers should consider adding sf to Suggests:.\n",
      "The sp package is now running under evolution status 2\n",
      "     (status 2 uses the sf package in place of rgdal)\n",
      "\n",
      "Attaching SeuratObject\n",
      "\n",
      "Le chargement a nécessité le package : Rcpp\n",
      "\n"
     ]
    }
   ],
   "source": [
    "library(ggplot2)\n",
    "library(cowplot)\n",
    "library(dplyr)\n",
    "library(tibble)\n",
    "library(AnnotationHub)\n",
    "library(patchwork)\n",
    "library(Seurat)\n",
    "library(harmony)\n",
    "library(magrittr)\n",
    "library(SeuratWrappers)\n",
    "library(gprofiler2)"
   ]
  },
  {
   "cell_type": "markdown",
   "metadata": {},
   "source": [
    "Definitions of colors pallet"
   ]
  },
  {
   "cell_type": "code",
   "execution_count": 2,
   "metadata": {
    "vscode": {
     "languageId": "r"
    }
   },
   "outputs": [],
   "source": [
    "custom_colors <- list()\n",
    "\n",
    "colors_dutch <- c(\n",
    "  '#FFC312','#C4E538','#12CBC4','#FDA7DF','#ED4C67',\n",
    "  '#F79F1F','#A3CB38','#1289A7','#D980FA','#B53471',\n",
    "  '#EE5A24','#009432','#0652DD','#9980FA','#833471',\n",
    "  '#EA2027','#006266','#1B1464','#5758BB','#6F1E51'\n",
    ")\n",
    "\n",
    "colors_spanish <- c(\n",
    "  '#40407a','#706fd3','#f7f1e3','#34ace0','#33d9b2',\n",
    "  '#2c2c54','#474787','#aaa69d','#227093','#218c74',\n",
    "  '#ff5252','#ff793f','#d1ccc0','#ffb142','#ffda79',\n",
    "  '#b33939','#cd6133','#84817a','#cc8e35','#ccae62',\n",
    "  '#45aaf2', '#7f8c8d'\n",
    ")\n",
    "\n",
    "colors_turkish <- c(\n",
    "  '#cd84f1','#ffcccc','#ff4d4d','#ffaf40','#fffa65',\n",
    "  '#32ff7e','#7efff5','#18dcff','#7d5fff','#4b4b4b'\n",
    ")\n",
    "\n",
    "custom_colors$discrete <- c(colors_dutch, colors_spanish, colors_turkish)\n",
    "\n",
    "custom_colors$cell_cycle <- setNames(\n",
    "  c('#45aaf2', '#f1c40f', '#e74c3c', '#7f8c8d'),\n",
    "  c('G1',      'S',       'G2M',     '-')\n",
    ")"
   ]
  },
  {
   "cell_type": "markdown",
   "metadata": {},
   "source": [
    "plot resolution"
   ]
  },
  {
   "cell_type": "code",
   "execution_count": 3,
   "metadata": {
    "vscode": {
     "languageId": "r"
    }
   },
   "outputs": [],
   "source": [
    "options(repr.plot.width = 18, repr.plot.height = 17, repr.plot.pointsize = 24)"
   ]
  },
  {
   "cell_type": "code",
   "execution_count": 4,
   "metadata": {
    "vscode": {
     "languageId": "r"
    }
   },
   "outputs": [],
   "source": [
    "library(future)"
   ]
  },
  {
   "cell_type": "code",
   "execution_count": 5,
   "metadata": {
    "vscode": {
     "languageId": "r"
    }
   },
   "outputs": [
    {
     "data": {
      "text/html": [
       "<pre class=language-r><code>structure(function (..., workers = 4, envir = parent.frame()) \n",
       "strategy(..., workers = workers, envir = envir), class = c(\"FutureStrategy\", \n",
       "\"tweaked\", \"multicore\", \"multiprocess\", \"future\", \"function\"), call = plan(\"multicore\", \n",
       "<span style=white-space:pre-wrap>    workers = 4))</span></code></pre>"
      ],
      "text/latex": [
       "\\begin{minted}{r}\n",
       "structure(function (..., workers = 4, envir = parent.frame()) \n",
       "strategy(..., workers = workers, envir = envir), class = c(\"FutureStrategy\", \n",
       "\"tweaked\", \"multicore\", \"multiprocess\", \"future\", \"function\"), call = plan(\"multicore\", \n",
       "    workers = 4))\n",
       "\\end{minted}"
      ],
      "text/markdown": [
       "```r\n",
       "structure(function (..., workers = 4, envir = parent.frame()) \n",
       "strategy(..., workers = workers, envir = envir), class = c(\"FutureStrategy\", \n",
       "\"tweaked\", \"multicore\", \"multiprocess\", \"future\", \"function\"), call = plan(\"multicore\", \n",
       "    workers = 4))\n",
       "```"
      ],
      "text/plain": [
       "multicore:\n",
       "- args: function (..., workers = 4, envir = parent.frame())\n",
       "- tweaked: TRUE\n",
       "- call: plan(\"multicore\", workers = 4)"
      ]
     },
     "metadata": {},
     "output_type": "display_data"
    }
   ],
   "source": [
    "plan(\"multicore\", workers = 4)\n",
    "plan()"
   ]
  },
  {
   "cell_type": "markdown",
   "metadata": {},
   "source": [
    "Loading of the cell ranger matrix"
   ]
  },
  {
   "cell_type": "code",
   "execution_count": 58,
   "metadata": {
    "vscode": {
     "languageId": "r"
    }
   },
   "outputs": [],
   "source": [
    "j5_05122021.data<-Read10X(\"/work/project/fragencode/workspace/ramiro_gastrulation/cellranger_count/J5-1_arcref/outs/filtered_feature_bc_matrix\")\n",
    "j5_03062021.data<-Read10X(\"/work/project/fragencode/workspace/ramiro_gastrulation/cellranger_count/J5-2_arcref/outs/filtered_feature_bc_matrix\")\n",
    "j7_3.data<-Read10X(\"/work/project/fragencode/workspace/ramiro_gastrulation/cellranger_count/J7-3_arcref/outs/filtered_feature_bc_matrix\")\n",
    "j7_31082017.data<-Read10X(\"/work/project/fragencode/workspace/ramiro_gastrulation/cellranger_count/J7-1_arcref/outs/filtered_feature_bc_matrix\")\n",
    "j7_15112017.data<-Read10X(\"/work/project/fragencode/workspace/ramiro_gastrulation/cellranger_count/J7-2_arcref/outs/filtered_feature_bc_matrix\")\n",
    "j7_4.data<-Read10X(\"/work/project/fragencode/workspace/ramiro_gastrulation/cellranger_count/J7-4_arcref/outs/filtered_feature_bc_matrix\")\n",
    "j9_1.data<-Read10X(\"/work/project/fragencode/workspace/ramiro_gastrulation/cellranger_count/J9-3_arcref/outs/filtered_feature_bc_matrix\")\n",
    "j9_4.data<-Read10X(\"/work/project/fragencode/workspace/ramiro_gastrulation/cellranger_count/J9-2_arcref/outs/filtered_feature_bc_matrix\")\n",
    "j9_3.data<-Read10X(\"/work/project/fragencode/workspace/ramiro_gastrulation/cellranger_count/J9-1_arcref/outs/filtered_feature_bc_matrix\")\n",
    "j9_3e.data<-Read10X(\"/work/project/fragencode/workspace/ramiro_gastrulation/cellranger_count/J9-4_arcref/outs/filtered_feature_bc_matrix\")\n",
    "j11.1.data<-Read10X(\"/work/project/fragencode/workspace/ramiro_gastrulation/cellranger_count/J11-1_arcref/outs/filtered_feature_bc_matrix\")\n",
    "j11_2.data<-Read10X(\"/work/project/fragencode/workspace/ramiro_gastrulation/cellranger_count/J11-2_arcref/outs/filtered_feature_bc_matrix\")\n",
    "SS_E11_5_A.data<-Read10X(\"/work/project/fragencode/workspace/ramiro_gastrulation/cellranger_count/SS_E11_5_A_arcref/outs/filtered_feature_bc_matrix\")\n",
    "SS_E11_5_B.data<-Read10X(\"/work/project/fragencode/workspace/ramiro_gastrulation/cellranger_count/SS_E11_5_B_arcref/outs/filtered_feature_bc_matrix\")\n",
    "SS_E12_A.data<-Read10X(\"/work/project/fragencode/workspace/ramiro_gastrulation/cellranger_count/SS_E12_A_arcref/outs/filtered_feature_bc_matrix\")\n",
    "SS_E12_B.data<-Read10X(\"/work/project/fragencode/workspace/ramiro_gastrulation/cellranger_count/SS_E12_B_arcref/outs/filtered_feature_bc_matrix\")\n",
    "SS_E12_5_A.data<-Read10X(\"/work/project/fragencode/workspace/ramiro_gastrulation/cellranger_count/SS_E12_5_A_arcref/outs/filtered_feature_bc_matrix\")\n",
    "SS_E12_5_B.data<-Read10X(\"/work/project/fragencode/workspace/ramiro_gastrulation/cellranger_count/SS_E12_5_B_arcref/outs/filtered_feature_bc_matrix\")\n",
    "SS_E13_A.data<-Read10X(\"/work/project/fragencode/workspace/ramiro_gastrulation/cellranger_count/SS_E13_A_arcref/outs/filtered_feature_bc_matrix\")\n",
    "SS_E13_B.data<-Read10X(\"/work/project/fragencode/workspace/ramiro_gastrulation/cellranger_count/SS_E13_B_arcref/outs/filtered_feature_bc_matrix\")\n",
    "SS_E13_C.data<-Read10X(\"/work/project/fragencode/workspace/ramiro_gastrulation/cellranger_count/SS_E13_C_arcref/outs/filtered_feature_bc_matrix\")\n",
    "SS_E13_D.data<-Read10X(\"/work/project/fragencode/workspace/ramiro_gastrulation/cellranger_count/SS_E13_D_arcref_2/outs/filtered_feature_bc_matrix\")\n",
    "SS_E13_E.data<-Read10X(\"/work/project/fragencode/workspace/ramiro_gastrulation/cellranger_count/SS_E13_E_arcref_2/outs/filtered_feature_bc_matrix\")\n",
    "SS_E13_5_A.data<-Read10X(\"/work/project/fragencode/workspace/ramiro_gastrulation/cellranger_count/SS_E13_5_A_arcref/outs/filtered_feature_bc_matrix\")\n",
    "SS_E13_5_B.data<-Read10X(\"/work/project/fragencode/workspace/ramiro_gastrulation/cellranger_count/SS_E13_5_B_arcref/outs/filtered_feature_bc_matrix\")\n",
    "SS_E13_5_C.data<-Read10X(\"/work/project/fragencode/workspace/ramiro_gastrulation/cellranger_count/SS_E13_5_C_arcref/outs/filtered_feature_bc_matrix\")\n",
    "SS_E13_5_D.data<-Read10X(\"/work/project/fragencode/workspace/ramiro_gastrulation/cellranger_count/SS_E13_5_D_arcref/outs/filtered_feature_bc_matrix\")\n",
    "SS_E14_A.data<-Read10X(\"/work/project/fragencode/workspace/ramiro_gastrulation/cellranger_count/SS_E14_A_arcref/outs/filtered_feature_bc_matrix\")\n",
    "SS_E14_B.data<-Read10X(\"/work/project/fragencode/workspace/ramiro_gastrulation/cellranger_count/SS_E14_B_arcref/outs/filtered_feature_bc_matrix\")\n",
    "SS_E14_5_B.data<-Read10X(\"/work/project/fragencode/workspace/ramiro_gastrulation/cellranger_count/SS_E14_5_B_arcref/outs/filtered_feature_bc_matrix\")\n",
    "SS_E14_5_C.data<-Read10X(\"/work/project/fragencode/workspace/ramiro_gastrulation/cellranger_count/SS_E14_5_C_arcref/outs/filtered_feature_bc_matrix\")\n",
    "SS_E14_5_D.data<-Read10X(\"/work/project/fragencode/workspace/ramiro_gastrulation/cellranger_count/SS_E14_5_D_arcref/outs/filtered_feature_bc_matrix\")\n",
    "SS_E15_A.data<-Read10X(\"/work/project/fragencode/workspace/ramiro_gastrulation/cellranger_count/SS_E15_A_arcref/outs/filtered_feature_bc_matrix\")\n",
    "SS_E15_B.data<-Read10X(\"/work/project/fragencode/workspace/ramiro_gastrulation/cellranger_count/SS_E15_B_arcref/outs/filtered_feature_bc_matrix\")\n",
    "SS_E15_C.data<-Read10X(\"/work/project/fragencode/workspace/ramiro_gastrulation/cellranger_count/SS_E15_C_arcref/outs/filtered_feature_bc_matrix\")"
   ]
  },
  {
   "cell_type": "code",
   "execution_count": 59,
   "metadata": {
    "scrolled": true,
    "vscode": {
     "languageId": "r"
    }
   },
   "outputs": [
    {
     "name": "stderr",
     "output_type": "stream",
     "text": [
      "Warning message:\n",
      "\"Feature names cannot have underscores ('_'), replacing with dashes ('-')\"\n",
      "Warning message:\n",
      "\"Feature names cannot have underscores ('_'), replacing with dashes ('-')\"\n",
      "Warning message:\n",
      "\"Feature names cannot have underscores ('_'), replacing with dashes ('-')\"\n",
      "Warning message:\n",
      "\"Feature names cannot have underscores ('_'), replacing with dashes ('-')\"\n",
      "Warning message:\n",
      "\"Feature names cannot have underscores ('_'), replacing with dashes ('-')\"\n",
      "Warning message:\n",
      "\"Feature names cannot have underscores ('_'), replacing with dashes ('-')\"\n",
      "Warning message:\n",
      "\"Feature names cannot have underscores ('_'), replacing with dashes ('-')\"\n",
      "Warning message:\n",
      "\"Feature names cannot have underscores ('_'), replacing with dashes ('-')\"\n",
      "Warning message:\n",
      "\"Feature names cannot have underscores ('_'), replacing with dashes ('-')\"\n",
      "Warning message:\n",
      "\"Feature names cannot have underscores ('_'), replacing with dashes ('-')\"\n",
      "Warning message:\n",
      "\"Feature names cannot have underscores ('_'), replacing with dashes ('-')\"\n",
      "Warning message:\n",
      "\"Feature names cannot have underscores ('_'), replacing with dashes ('-')\"\n",
      "Warning message:\n",
      "\"Feature names cannot have underscores ('_'), replacing with dashes ('-')\"\n",
      "Warning message:\n",
      "\"Feature names cannot have underscores ('_'), replacing with dashes ('-')\"\n",
      "Warning message:\n",
      "\"Feature names cannot have underscores ('_'), replacing with dashes ('-')\"\n",
      "Warning message:\n",
      "\"Feature names cannot have underscores ('_'), replacing with dashes ('-')\"\n",
      "Warning message:\n",
      "\"Feature names cannot have underscores ('_'), replacing with dashes ('-')\"\n",
      "Warning message:\n",
      "\"Feature names cannot have underscores ('_'), replacing with dashes ('-')\"\n",
      "Warning message:\n",
      "\"Feature names cannot have underscores ('_'), replacing with dashes ('-')\"\n",
      "Warning message:\n",
      "\"Feature names cannot have underscores ('_'), replacing with dashes ('-')\"\n",
      "Warning message:\n",
      "\"Feature names cannot have underscores ('_'), replacing with dashes ('-')\"\n",
      "Warning message:\n",
      "\"Feature names cannot have underscores ('_'), replacing with dashes ('-')\"\n",
      "Warning message:\n",
      "\"Feature names cannot have underscores ('_'), replacing with dashes ('-')\"\n",
      "Warning message:\n",
      "\"Feature names cannot have underscores ('_'), replacing with dashes ('-')\"\n",
      "Warning message:\n",
      "\"Feature names cannot have underscores ('_'), replacing with dashes ('-')\"\n",
      "Warning message:\n",
      "\"Feature names cannot have underscores ('_'), replacing with dashes ('-')\"\n",
      "Warning message:\n",
      "\"Feature names cannot have underscores ('_'), replacing with dashes ('-')\"\n",
      "Warning message:\n",
      "\"Feature names cannot have underscores ('_'), replacing with dashes ('-')\"\n",
      "Warning message:\n",
      "\"Feature names cannot have underscores ('_'), replacing with dashes ('-')\"\n",
      "Warning message:\n",
      "\"Feature names cannot have underscores ('_'), replacing with dashes ('-')\"\n",
      "Warning message:\n",
      "\"Feature names cannot have underscores ('_'), replacing with dashes ('-')\"\n",
      "Warning message:\n",
      "\"Feature names cannot have underscores ('_'), replacing with dashes ('-')\"\n",
      "Warning message:\n",
      "\"Feature names cannot have underscores ('_'), replacing with dashes ('-')\"\n",
      "Warning message:\n",
      "\"Feature names cannot have underscores ('_'), replacing with dashes ('-')\"\n",
      "Warning message:\n",
      "\"Feature names cannot have underscores ('_'), replacing with dashes ('-')\"\n"
     ]
    }
   ],
   "source": [
    "j11.1 <- CreateSeuratObject(counts = j11.1.data)\n",
    "j5_05122021 <- CreateSeuratObject(counts = j5_05122021.data)\n",
    "j7_31082017 <- CreateSeuratObject(counts = j7_31082017.data)\n",
    "j9_3 <- CreateSeuratObject(counts = j9_3.data)\n",
    "SS_E11_5_A <- CreateSeuratObject(counts = SS_E11_5_A.data)\n",
    "SS_E11_5_B <- CreateSeuratObject(counts = SS_E11_5_B.data)\n",
    "SS_E12_A <- CreateSeuratObject(counts = SS_E12_A.data)\n",
    "SS_E13_5_B <- CreateSeuratObject(counts = SS_E13_5_B.data)\n",
    "SS_E13_A <- CreateSeuratObject(counts = SS_E13_A.data)\n",
    "SS_E13_D <- CreateSeuratObject(counts = SS_E13_D.data)\n",
    "SS_E14_5_B <- CreateSeuratObject(counts = SS_E14_5_B.data)\n",
    "SS_E14_A <- CreateSeuratObject(counts = SS_E14_A.data)\n",
    "SS_E15_B <- CreateSeuratObject(counts = SS_E15_B.data)\n",
    "j11_2 <- CreateSeuratObject(counts = j11_2.data)\n",
    "j7_15112017 <- CreateSeuratObject(counts = j7_15112017.data)\n",
    "j7_4 <- CreateSeuratObject(counts = j7_4.data)\n",
    "j9_3e <- CreateSeuratObject(counts = j9_3e.data)\n",
    "SS_E12_5_A <- CreateSeuratObject(counts = SS_E12_5_A.data)\n",
    "SS_E12_B <- CreateSeuratObject(counts = SS_E12_B.data)\n",
    "SS_E13_5_C <- CreateSeuratObject(counts = SS_E13_5_C.data)\n",
    "SS_E13_B <- CreateSeuratObject(counts = SS_E13_B.data)\n",
    "SS_E13_E <- CreateSeuratObject(counts = SS_E13_E.data)\n",
    "SS_E14_5_C <- CreateSeuratObject(counts = SS_E14_5_C.data)\n",
    "SS_E14_B <- CreateSeuratObject(counts = SS_E14_B.data)\n",
    "SS_E15_C <- CreateSeuratObject(counts = SS_E15_C.data)\n",
    "j5_03062021 <- CreateSeuratObject(counts = j5_03062021.data)\n",
    "j7_3 <- CreateSeuratObject(counts = j7_3.data)\n",
    "j9_1 <- CreateSeuratObject(counts = j9_1.data)\n",
    "j9_4 <- CreateSeuratObject(counts = j9_4.data)\n",
    "SS_E12_5_B <- CreateSeuratObject(counts = SS_E12_5_B.data)\n",
    "SS_E13_5_A <- CreateSeuratObject(counts = SS_E13_5_A.data)\n",
    "SS_E13_5_D <- CreateSeuratObject(counts = SS_E13_5_D.data)\n",
    "SS_E13_C <- CreateSeuratObject(counts = SS_E13_C.data)\n",
    "\n",
    "SS_E14_5_D <- CreateSeuratObject(counts = SS_E14_5_D.data)\n",
    "SS_E15_A <- CreateSeuratObject(counts = SS_E15_A.data)"
   ]
  },
  {
   "cell_type": "markdown",
   "metadata": {},
   "source": [
    "Annotation of samples"
   ]
  },
  {
   "cell_type": "code",
   "execution_count": 60,
   "metadata": {
    "vscode": {
     "languageId": "r"
    }
   },
   "outputs": [],
   "source": [
    "j11.1$SAMP <- \"E11.1\"\n",
    "j5_05122021$SAMP <- \"E5.1\"\n",
    "j7_31082017$SAMP <- \"E7.1\"\n",
    "j9_3$SAMP <- \"E9.3\"\n",
    "SS_E11_5_A$SAMP <- \"J11.5A\"\n",
    "SS_E11_5_B$SAMP <- \"J11.5B\"\n",
    "SS_E12_A$SAMP <- \"E12.A\"\n",
    "SS_E13_5_B$SAMP <- \"E13.5B\"\n",
    "SS_E13_A$SAMP <- \"E13.A\"\n",
    "SS_E13_D$SAMP <- \"E13.D\"\n",
    "SS_E14_5_B$SAMP <- \"E14.5B\"\n",
    "SS_E14_A$SAMP <- \"E14.A\"\n",
    "SS_E15_B$SAMP <- \"E15.B\"\n",
    "j11_2$SAMP <- \"E11.2\"\n",
    "j7_15112017$SAMP <- \"E7.2\"\n",
    "j7_4$SAMP <- \"E7.4\"\n",
    "j9_3e$SAMP <- \"E9.3\"\n",
    "SS_E12_5_A$SAMP <- \"E12.5.A\"\n",
    "SS_E12_B$SAMP <- \"E12.B\"\n",
    "SS_E13_5_C$SAMP <- \"E13.5.C\"\n",
    "SS_E13_B$SAMP <- \"E13.B\"\n",
    "SS_E13_E$SAMP <- \"E13.E\"\n",
    "SS_E14_5_C$SAMP <- \"E14.5.C\"\n",
    "SS_E14_B$SAMP <- \"E14.B\"\n",
    "SS_E15_C$SAMP <- \"E14.C\"\n",
    "j5_03062021$SAMP <- \"E5.2\"\n",
    "j7_3$SAMP <- \"E7.3\"\n",
    "j9_1$SAMP <- \"E9.1\"\n",
    "j9_4$SAMP <- \"E9.4\"\n",
    "SS_E12_5_B$SAMP <- \"E12.5.B\"\n",
    "SS_E13_5_A$SAMP <- \"E13.5.A\"\n",
    "SS_E13_5_D$SAMP <- \"E13.5.D\"\n",
    "SS_E13_C$SAMP <- \"E13.C\"\n",
    "\n",
    "SS_E14_5_D$SAMP <- \"E14.5.D\"\n",
    "SS_E15_A$SAMP <- \"E15.A\""
   ]
  },
  {
   "cell_type": "code",
   "execution_count": 61,
   "metadata": {
    "vscode": {
     "languageId": "r"
    }
   },
   "outputs": [],
   "source": [
    "j11.1$new_TIME<-\"E11\"\n",
    "j5_05122021$new_TIME<-\"E5\"\n",
    "j7_31082017$new_TIME<-\"E7\"\n",
    "j9_3$new_TIME<-\"E9\"\n",
    "SS_E11_5_A$new_TIME<-\"E11.5\"\n",
    "SS_E11_5_B$new_TIME<-\"E11.5\"\n",
    "SS_E12_A$new_TIME<-\"E12\"\n",
    "SS_E13_5_B$new_TIME<-\"E13.5\"\n",
    "SS_E13_A$new_TIME<-\"E13\"\n",
    "SS_E13_D$new_TIME<-\"E13\"\n",
    "SS_E14_5_B$new_TIME<-\"E14.5\"\n",
    "SS_E14_A$new_TIME<-\"E14\"\n",
    "SS_E15_B$new_TIME<-\"E15\"\n",
    "j11_2$new_TIME<-\"E11\"\n",
    "j7_15112017$new_TIME<-\"E7\"\n",
    "j7_4$new_TIME<-\"E7\"\n",
    "j9_3e$new_TIME<-\"E9\"\n",
    "SS_E12_5_A$new_TIME<-\"E12.5\"\n",
    "SS_E12_B$new_TIME<-\"E12\"\n",
    "SS_E13_5_C$new_TIME<-\"E13.5\"\n",
    "SS_E13_B$new_TIME<-\"E13\"\n",
    "SS_E13_E$new_TIME<-\"E13\"\n",
    "SS_E14_5_C$new_TIME<-\"E14.5\"\n",
    "SS_E14_B$new_TIME<-\"E14\"\n",
    "SS_E15_C$new_TIME<-\"E15\"\n",
    "j5_03062021$new_TIME<-\"E5\"\n",
    "j7_3$new_TIME<-\"E7\"\n",
    "j9_1$new_TIME<-\"E9\"\n",
    "j9_4$new_TIME<-\"E9\"\n",
    "SS_E12_5_B$new_TIME<-\"E12.5\"\n",
    "SS_E13_5_A$new_TIME<-\"E13.5\"\n",
    "SS_E13_5_D$new_TIME<-\"E13.5\"\n",
    "SS_E13_C$new_TIME<-\"E13\"\n",
    "\n",
    "SS_E14_5_D$new_TIME<-\"E14.5\"\n",
    "SS_E15_A$new_TIME<-\"E15\""
   ]
  },
  {
   "cell_type": "markdown",
   "metadata": {},
   "source": [
    "# QC : mitochondrial genes"
   ]
  },
  {
   "cell_type": "code",
   "execution_count": 62,
   "metadata": {
    "vscode": {
     "languageId": "r"
    }
   },
   "outputs": [],
   "source": [
    "# Connect to AnnotationHub\n",
    "ah <- AnnotationHub()\n",
    "\n",
    "# Access the Ensembl database for organism\n",
    "ahDb <- query(ah, \n",
    "              pattern = c(\"Sus scrofa\", \"EnsDb\"), \n",
    "              ignore.case = TRUE)"
   ]
  },
  {
   "cell_type": "code",
   "execution_count": 63,
   "metadata": {
    "vscode": {
     "languageId": "r"
    }
   },
   "outputs": [],
   "source": [
    "id <- ahDb %>%\n",
    "  mcols() %>%\n",
    "  rownames() %>%\n",
    "  tail(n = 1)"
   ]
  },
  {
   "cell_type": "code",
   "execution_count": 64,
   "metadata": {
    "vscode": {
     "languageId": "r"
    }
   },
   "outputs": [
    {
     "name": "stderr",
     "output_type": "stream",
     "text": [
      "loading from cache\n",
      "\n"
     ]
    }
   ],
   "source": [
    "edb <- ah[[id]]"
   ]
  },
  {
   "cell_type": "markdown",
   "metadata": {},
   "source": [
    "Extract gene-level information from database"
   ]
  },
  {
   "cell_type": "code",
   "execution_count": 65,
   "metadata": {
    "vscode": {
     "languageId": "r"
    }
   },
   "outputs": [],
   "source": [
    "annotations <- genes(edb, \n",
    "                     return.type = \"data.frame\") "
   ]
  },
  {
   "cell_type": "markdown",
   "metadata": {},
   "source": [
    "Select annotations of interest"
   ]
  },
  {
   "cell_type": "code",
   "execution_count": 66,
   "metadata": {
    "vscode": {
     "languageId": "r"
    }
   },
   "outputs": [],
   "source": [
    "annotations <- annotations %>%\n",
    "  dplyr::select(gene_id, gene_name, gene_biotype, seq_name, description, entrezid)"
   ]
  },
  {
   "cell_type": "markdown",
   "metadata": {},
   "source": [
    "Extract IDs for mitochondrial genes"
   ]
  },
  {
   "cell_type": "code",
   "execution_count": 67,
   "metadata": {
    "vscode": {
     "languageId": "r"
    }
   },
   "outputs": [],
   "source": [
    "mt <- annotations %>%\n",
    "        dplyr::filter(seq_name == \"MT\")\n",
    "mt$gene_name <- ifelse(mt$gene_name == '', mt$gene_id, mt$gene_name)\n",
    "mt <- mt$gene_name"
   ]
  },
  {
   "cell_type": "markdown",
   "metadata": {},
   "source": [
    "Count Mt RNA percentage"
   ]
  },
  {
   "cell_type": "code",
   "execution_count": 68,
   "metadata": {
    "vscode": {
     "languageId": "r"
    }
   },
   "outputs": [],
   "source": [
    "counts <- GetAssayData(object = j11.1, slot = \"counts\")\n",
    "j11.1[[\"percent.mt\"]] <- Matrix::colSums(counts[which(rownames(counts) %in% mt),], na.rm = T)/Matrix::colSums(counts, na.rm = T)\n",
    "counts <- GetAssayData(object = j5_05122021, slot = \"counts\")\n",
    "j5_05122021[[\"percent.mt\"]] <- Matrix::colSums(counts[which(rownames(counts) %in% mt),], na.rm = T)/Matrix::colSums(counts, na.rm = T)\n",
    "counts <- GetAssayData(object = j7_31082017, slot = \"counts\")\n",
    "j7_31082017[[\"percent.mt\"]] <- Matrix::colSums(counts[which(rownames(counts) %in% mt),], na.rm = T)/Matrix::colSums(counts, na.rm = T)\n",
    "counts <- GetAssayData(object = j9_3, slot = \"counts\")\n",
    "j9_3[[\"percent.mt\"]] <- Matrix::colSums(counts[which(rownames(counts) %in% mt),], na.rm = T)/Matrix::colSums(counts, na.rm = T)\n",
    "counts <- GetAssayData(object = SS_E11_5_A, slot = \"counts\")\n",
    "SS_E11_5_A[[\"percent.mt\"]] <- Matrix::colSums(counts[which(rownames(counts) %in% mt),], na.rm = T)/Matrix::colSums(counts, na.rm = T)\n",
    "counts <- GetAssayData(object = SS_E11_5_B, slot = \"counts\")\n",
    "SS_E11_5_B[[\"percent.mt\"]] <- Matrix::colSums(counts[which(rownames(counts) %in% mt),], na.rm = T)/Matrix::colSums(counts, na.rm = T)\n",
    "counts <- GetAssayData(object = SS_E12_A, slot = \"counts\")\n",
    "SS_E12_A[[\"percent.mt\"]] <- Matrix::colSums(counts[which(rownames(counts) %in% mt),], na.rm = T)/Matrix::colSums(counts, na.rm = T)\n",
    "counts <- GetAssayData(object = SS_E13_5_B, slot = \"counts\")\n",
    "SS_E13_5_B[[\"percent.mt\"]] <- Matrix::colSums(counts[which(rownames(counts) %in% mt),], na.rm = T)/Matrix::colSums(counts, na.rm = T)\n",
    "counts <- GetAssayData(object = SS_E13_A, slot = \"counts\")\n",
    "SS_E13_A[[\"percent.mt\"]] <- Matrix::colSums(counts[which(rownames(counts) %in% mt),], na.rm = T)/Matrix::colSums(counts, na.rm = T)\n",
    "counts <- GetAssayData(object = SS_E13_D, slot = \"counts\")\n",
    "SS_E13_D[[\"percent.mt\"]] <- Matrix::colSums(counts[which(rownames(counts) %in% mt),], na.rm = T)/Matrix::colSums(counts, na.rm = T)\n",
    "counts <- GetAssayData(object = SS_E14_5_B, slot = \"counts\")\n",
    "SS_E14_5_B[[\"percent.mt\"]] <- Matrix::colSums(counts[which(rownames(counts) %in% mt),], na.rm = T)/Matrix::colSums(counts, na.rm = T)\n",
    "counts <- GetAssayData(object = SS_E14_A, slot = \"counts\")\n",
    "SS_E14_A[[\"percent.mt\"]] <- Matrix::colSums(counts[which(rownames(counts) %in% mt),], na.rm = T)/Matrix::colSums(counts, na.rm = T)\n",
    "counts <- GetAssayData(object = SS_E15_B, slot = \"counts\")\n",
    "SS_E15_B[[\"percent.mt\"]] <- Matrix::colSums(counts[which(rownames(counts) %in% mt),], na.rm = T)/Matrix::colSums(counts, na.rm = T)\n",
    "counts <- GetAssayData(object = j11_2, slot = \"counts\")\n",
    "j11_2[[\"percent.mt\"]] <- Matrix::colSums(counts[which(rownames(counts) %in% mt),], na.rm = T)/Matrix::colSums(counts, na.rm = T)\n",
    "counts <- GetAssayData(object = j7_15112017, slot = \"counts\")\n",
    "j7_15112017[[\"percent.mt\"]] <- Matrix::colSums(counts[which(rownames(counts) %in% mt),], na.rm = T)/Matrix::colSums(counts, na.rm = T)\n",
    "counts <- GetAssayData(object = j7_4, slot = \"counts\")\n",
    "j7_4[[\"percent.mt\"]] <- Matrix::colSums(counts[which(rownames(counts) %in% mt),], na.rm = T)/Matrix::colSums(counts, na.rm = T)\n",
    "counts <- GetAssayData(object = j9_3e, slot = \"counts\")\n",
    "j9_3e[[\"percent.mt\"]] <- Matrix::colSums(counts[which(rownames(counts) %in% mt),], na.rm = T)/Matrix::colSums(counts, na.rm = T)\n",
    "counts <- GetAssayData(object = SS_E12_5_A, slot = \"counts\")\n",
    "SS_E12_5_A[[\"percent.mt\"]] <- Matrix::colSums(counts[which(rownames(counts) %in% mt),], na.rm = T)/Matrix::colSums(counts, na.rm = T)\n",
    "counts <- GetAssayData(object = SS_E12_B, slot = \"counts\")\n",
    "SS_E12_B[[\"percent.mt\"]] <- Matrix::colSums(counts[which(rownames(counts) %in% mt),], na.rm = T)/Matrix::colSums(counts, na.rm = T)\n",
    "counts <- GetAssayData(object = SS_E13_5_C, slot = \"counts\")\n",
    "SS_E13_5_C[[\"percent.mt\"]] <- Matrix::colSums(counts[which(rownames(counts) %in% mt),], na.rm = T)/Matrix::colSums(counts, na.rm = T)\n",
    "counts <- GetAssayData(object = SS_E13_B, slot = \"counts\")\n",
    "SS_E13_B[[\"percent.mt\"]] <- Matrix::colSums(counts[which(rownames(counts) %in% mt),], na.rm = T)/Matrix::colSums(counts, na.rm = T)\n",
    "counts <- GetAssayData(object = SS_E13_E, slot = \"counts\")\n",
    "SS_E13_E[[\"percent.mt\"]] <- Matrix::colSums(counts[which(rownames(counts) %in% mt),], na.rm = T)/Matrix::colSums(counts, na.rm = T)\n",
    "counts <- GetAssayData(object = SS_E14_5_C, slot = \"counts\")\n",
    "SS_E14_5_C[[\"percent.mt\"]] <- Matrix::colSums(counts[which(rownames(counts) %in% mt),], na.rm = T)/Matrix::colSums(counts, na.rm = T)\n",
    "counts <- GetAssayData(object = SS_E14_B, slot = \"counts\")\n",
    "SS_E14_B[[\"percent.mt\"]] <- Matrix::colSums(counts[which(rownames(counts) %in% mt),], na.rm = T)/Matrix::colSums(counts, na.rm = T)\n",
    "counts <- GetAssayData(object = SS_E15_C, slot = \"counts\")\n",
    "SS_E15_C[[\"percent.mt\"]] <- Matrix::colSums(counts[which(rownames(counts) %in% mt),], na.rm = T)/Matrix::colSums(counts, na.rm = T)\n",
    "counts <- GetAssayData(object = j5_03062021, slot = \"counts\")\n",
    "j5_03062021[[\"percent.mt\"]] <- Matrix::colSums(counts[which(rownames(counts) %in% mt),], na.rm = T)/Matrix::colSums(counts, na.rm = T)\n",
    "counts <- GetAssayData(object = j7_3, slot = \"counts\")\n",
    "j7_3[[\"percent.mt\"]] <- Matrix::colSums(counts[which(rownames(counts) %in% mt),], na.rm = T)/Matrix::colSums(counts, na.rm = T)\n",
    "counts <- GetAssayData(object = j9_1, slot = \"counts\")\n",
    "j9_1[[\"percent.mt\"]] <- Matrix::colSums(counts[which(rownames(counts) %in% mt),], na.rm = T)/Matrix::colSums(counts, na.rm = T)\n",
    "counts <- GetAssayData(object = j9_4, slot = \"counts\")\n",
    "j9_4[[\"percent.mt\"]] <- Matrix::colSums(counts[which(rownames(counts) %in% mt),], na.rm = T)/Matrix::colSums(counts, na.rm = T)\n",
    "counts <- GetAssayData(object = SS_E12_5_B, slot = \"counts\")\n",
    "SS_E12_5_B[[\"percent.mt\"]] <- Matrix::colSums(counts[which(rownames(counts) %in% mt),], na.rm = T)/Matrix::colSums(counts, na.rm = T)\n",
    "counts <- GetAssayData(object = SS_E13_5_A, slot = \"counts\")\n",
    "SS_E13_5_A[[\"percent.mt\"]] <- Matrix::colSums(counts[which(rownames(counts) %in% mt),], na.rm = T)/Matrix::colSums(counts, na.rm = T)\n",
    "counts <- GetAssayData(object = SS_E13_5_D, slot = \"counts\")\n",
    "SS_E13_5_D[[\"percent.mt\"]] <- Matrix::colSums(counts[which(rownames(counts) %in% mt),], na.rm = T)/Matrix::colSums(counts, na.rm = T)\n",
    "counts <- GetAssayData(object = SS_E13_C, slot = \"counts\")\n",
    "SS_E13_C[[\"percent.mt\"]] <- Matrix::colSums(counts[which(rownames(counts) %in% mt),], na.rm = T)/Matrix::colSums(counts, na.rm = T)\n",
    "\n",
    "counts <- GetAssayData(object = SS_E14_5_D, slot = \"counts\")\n",
    "SS_E14_5_D[[\"percent.mt\"]] <- Matrix::colSums(counts[which(rownames(counts) %in% mt),], na.rm = T)/Matrix::colSums(counts, na.rm = T)\n",
    "counts <- GetAssayData(object = SS_E15_A, slot = \"counts\")\n",
    "SS_E15_A[[\"percent.mt\"]] <- Matrix::colSums(counts[which(rownames(counts) %in% mt),], na.rm = T)/Matrix::colSums(counts, na.rm = T)"
   ]
  },
  {
   "cell_type": "markdown",
   "metadata": {},
   "source": [
    "# merging of the different samples"
   ]
  },
  {
   "cell_type": "code",
   "execution_count": 69,
   "metadata": {
    "vscode": {
     "languageId": "r"
    }
   },
   "outputs": [
    {
     "name": "stderr",
     "output_type": "stream",
     "text": [
      "Warning message in CheckDuplicateCellNames(object.list = objects):\n",
      "\"Some cell names are duplicated across objects provided. Renaming to enforce unique cell names.\"\n"
     ]
    }
   ],
   "source": [
    "embryo_pregastrulation <- merge(x = j5_05122021, y = c(j5_03062021, j7_15112017, j7_31082017, j7_3, j7_4, j9_1, j9_3e, j9_3, j9_4, j11.1, j11_2))"
   ]
  },
  {
   "cell_type": "code",
   "execution_count": 70,
   "metadata": {
    "vscode": {
     "languageId": "r"
    }
   },
   "outputs": [
    {
     "name": "stderr",
     "output_type": "stream",
     "text": [
      "Warning message in CheckDuplicateCellNames(object.list = objects):\n",
      "\"Some cell names are duplicated across objects provided. Renaming to enforce unique cell names.\"\n"
     ]
    }
   ],
   "source": [
    "embryo_gastrulation <- merge(x = SS_E11_5_A, y = c(SS_E11_5_B, SS_E12_A, SS_E12_B, SS_E12_5_A, SS_E12_5_B, SS_E13_A, SS_E13_B, SS_E13_C, SS_E13_D, SS_E13_E, SS_E13_5_A, SS_E13_5_B, SS_E13_5_C, SS_E13_5_D, SS_E14_A, SS_E14_B, SS_E14_5_B, SS_E14_5_C, SS_E14_5_D, SS_E15_A, SS_E15_B, SS_E15_C))\n",
    "#SS_E14_5_A"
   ]
  },
  {
   "cell_type": "code",
   "execution_count": 71,
   "metadata": {
    "vscode": {
     "languageId": "r"
    }
   },
   "outputs": [],
   "source": [
    "gastrulation_metadata = read.csv('/home/adufour/work/gastrulation_data/pig_meta_data_new.csv',sep=',')"
   ]
  },
  {
   "cell_type": "code",
   "execution_count": 72,
   "metadata": {
    "vscode": {
     "languageId": "r"
    }
   },
   "outputs": [],
   "source": [
    "embryo_metadata = read.csv(\"/home/adufour/work/table/all_embryos_subclusters.csv\",sep=',')"
   ]
  },
  {
   "cell_type": "code",
   "execution_count": 73,
   "metadata": {
    "vscode": {
     "languageId": "r"
    }
   },
   "outputs": [],
   "source": [
    "embryo_gastrulation <- subset(embryo_gastrulation, cells = gastrulation_metadata$cell_barcode)"
   ]
  },
  {
   "cell_type": "code",
   "execution_count": 74,
   "metadata": {
    "vscode": {
     "languageId": "r"
    }
   },
   "outputs": [],
   "source": [
    "embryo_pregastrulation <- subset(embryo_pregastrulation, cells = embryo_metadata$cell)"
   ]
  },
  {
   "cell_type": "code",
   "execution_count": 75,
   "metadata": {
    "vscode": {
     "languageId": "r"
    }
   },
   "outputs": [],
   "source": [
    "rownames(embryo_metadata) <- embryo_metadata$cell"
   ]
  },
  {
   "cell_type": "code",
   "execution_count": 76,
   "metadata": {
    "vscode": {
     "languageId": "r"
    }
   },
   "outputs": [],
   "source": [
    "rownames(gastrulation_metadata) <- gastrulation_metadata$cell_barcode"
   ]
  },
  {
   "cell_type": "code",
   "execution_count": 77,
   "metadata": {
    "vscode": {
     "languageId": "r"
    }
   },
   "outputs": [],
   "source": [
    "embryo_pregastrulation@meta.data <- embryo_metadata[rownames(embryo_pregastrulation@meta.data),]\n",
    "embryo_gastrulation@meta.data <- gastrulation_metadata[rownames(embryo_gastrulation@meta.data),]"
   ]
  },
  {
   "cell_type": "code",
   "execution_count": 78,
   "metadata": {
    "vscode": {
     "languageId": "r"
    }
   },
   "outputs": [],
   "source": [
    "embryo <- merge(embryo_pregastrulation, y = c(embryo_gastrulation), add.cell.ids = c(\"x\", \"y\"))"
   ]
  },
  {
   "cell_type": "code",
   "execution_count": 31,
   "metadata": {
    "vscode": {
     "languageId": "r"
    }
   },
   "outputs": [],
   "source": [
    "prev <- readRDS(\"/home/adufour/work/rds_storage/gastrulation/embryo_E5_E15.rds\")"
   ]
  },
  {
   "cell_type": "code",
   "execution_count": 79,
   "metadata": {
    "vscode": {
     "languageId": "r"
    }
   },
   "outputs": [
    {
     "data": {
      "text/plain": [
       "An object of class Seurat \n",
       "35670 features across 119157 samples within 1 assay \n",
       "Active assay: RNA (35670 features, 0 variable features)"
      ]
     },
     "metadata": {},
     "output_type": "display_data"
    },
    {
     "data": {
      "text/plain": [
       "An object of class Seurat \n",
       "21304 features across 126070 samples within 1 assay \n",
       "Active assay: RNA (21304 features, 0 variable features)"
      ]
     },
     "metadata": {},
     "output_type": "display_data"
    }
   ],
   "source": [
    "embryo\n",
    "prev"
   ]
  },
  {
   "cell_type": "code",
   "execution_count": 80,
   "metadata": {
    "vscode": {
     "languageId": "r"
    }
   },
   "outputs": [
    {
     "data": {
      "text/plain": [
       "\n",
       "      E11-1       E11-2  E11.5A.EPS  E11.5B.EPS  E12.5A.PS2  E12.5B.PS2 \n",
       "       8938        6607        4801        4469         957         816 \n",
       "    E12A.PS     E12B.PS   E13.5A.NG   E13.5B.NG   E13.5C.NG   E13.5D.NG \n",
       "        732        2399        1711        1815        6651        5070 \n",
       "    E13A.NP     E13B.NP     E13C.NP     E13D.NP     E13E.NP E14.5B.8SOM \n",
       "        588        5050        4389       17296       16176        1236 \n",
       "E14.5C.8SOM E14.5D.8SOM   E14A.6SOM   E14B.6SOM  E15A.10SOM  E15B.10SOM \n",
       "        898         762        1375        1112        1730        4502 \n",
       " E15C.10SOM        E5-1        E5-2        E7-1        E7-2        E7-3 \n",
       "       3082         808         286         825         962         550 \n",
       "       E7-4        E9-1        E9-2        E9-3        E9-4 \n",
       "       1056         477        1762        2456        6813 "
      ]
     },
     "metadata": {},
     "output_type": "display_data"
    },
    {
     "data": {
      "text/plain": [
       "\n",
       "      E11-1       E11-2  E11.5A.EPS  E11.5B.EPS  E12.5A.PS2  E12.5B.PS2 \n",
       "       9474        7233        4807        4487         957         816 \n",
       "    E12A.PS     E12B.PS   E13.5A.NG   E13.5B.NG   E13.5C.NG   E13.5D.NG \n",
       "        776        2407        1711        1814        6687        8568 \n",
       "    E13A.NP     E13B.NP     E13C.NP     E13D.NP     E13E.NP E14.5B.8SOM \n",
       "        588        5049        4389       17296       16176        1236 \n",
       "E14.5C.8SOM E14.5D.8SOM   E14A.6SOM   E14B.6SOM  E15A.10SOM  E15B.10SOM \n",
       "        897         762        1375        1077        1730        4498 \n",
       " E15C.10SOM        E5-1        E5-2        E7-1        E7-2        E7-3 \n",
       "       3079         919         307        1171         962         767 \n",
       "       E7-4        E9-1        E9-2        E9-3        E9-4 \n",
       "       1328         581        1969        2827        7350 "
      ]
     },
     "metadata": {},
     "output_type": "display_data"
    }
   ],
   "source": [
    "table(embryo@meta.data$Sample)\n",
    "table(prev@meta.data$Sample)"
   ]
  },
  {
   "cell_type": "code",
   "execution_count": 81,
   "metadata": {
    "vscode": {
     "languageId": "r"
    }
   },
   "outputs": [],
   "source": [
    "saveRDS(embryo, file = \"/home/adufour/work/rds_storage/gastrulation/embryo_E5_E15_arc108.rds\")"
   ]
  }
 ],
 "metadata": {
  "kernelspec": {
   "display_name": "R [conda env:scrna]",
   "language": "R",
   "name": "conda-env-scrna-r"
  },
  "language_info": {
   "codemirror_mode": "r",
   "file_extension": ".r",
   "mimetype": "text/x-r-source",
   "name": "R",
   "pygments_lexer": "r",
   "version": "4.3.1"
  }
 },
 "nbformat": 4,
 "nbformat_minor": 4
}

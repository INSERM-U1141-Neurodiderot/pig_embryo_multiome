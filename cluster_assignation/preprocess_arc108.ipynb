{
 "cells": [
  {
   "cell_type": "code",
   "execution_count": null,
   "metadata": {
    "scrolled": true,
    "vscode": {
     "languageId": "r"
    }
   },
   "outputs": [],
   "source": [
    "library(ggplot2)\n",
    "library(cowplot)\n",
    "library(dplyr)\n",
    "library(tibble)\n",
    "library(AnnotationHub)\n",
    "library(patchwork)\n",
    "library(Seurat)\n",
    "library(harmony)\n",
    "library(magrittr)\n",
    "library(SeuratWrappers)\n",
    "library(gprofiler2)"
   ]
  },
  {
   "cell_type": "markdown",
   "metadata": {},
   "source": [
    "Definitions of colors pallet"
   ]
  },
  {
   "cell_type": "code",
   "execution_count": 2,
   "metadata": {
    "vscode": {
     "languageId": "r"
    }
   },
   "outputs": [],
   "source": [
    "custom_colors <- list()\n",
    "\n",
    "colors_dutch <- c(\n",
    "  '#FFC312','#C4E538','#12CBC4','#FDA7DF','#ED4C67',\n",
    "  '#F79F1F','#A3CB38','#1289A7','#D980FA','#B53471',\n",
    "  '#EE5A24','#009432','#0652DD','#9980FA','#833471',\n",
    "  '#EA2027','#006266','#1B1464','#5758BB','#6F1E51'\n",
    ")\n",
    "\n",
    "colors_spanish <- c(\n",
    "  '#40407a','#706fd3','#f7f1e3','#34ace0','#33d9b2',\n",
    "  '#2c2c54','#474787','#aaa69d','#227093','#218c74',\n",
    "  '#ff5252','#ff793f','#d1ccc0','#ffb142','#ffda79',\n",
    "  '#b33939','#cd6133','#84817a','#cc8e35','#ccae62',\n",
    "  '#45aaf2', '#7f8c8d'\n",
    ")\n",
    "\n",
    "colors_turkish <- c(\n",
    "  '#cd84f1','#ffcccc','#ff4d4d','#ffaf40','#fffa65',\n",
    "  '#32ff7e','#7efff5','#18dcff','#7d5fff','#4b4b4b'\n",
    ")\n",
    "\n",
    "custom_colors$discrete <- c(colors_dutch, colors_spanish, colors_turkish)\n",
    "\n",
    "custom_colors$cell_cycle <- setNames(\n",
    "  c('#45aaf2', '#f1c40f', '#e74c3c', '#7f8c8d'),\n",
    "  c('G1',      'S',       'G2M',     '-')\n",
    ")"
   ]
  },
  {
   "cell_type": "markdown",
   "metadata": {},
   "source": [
    "plot resolution"
   ]
  },
  {
   "cell_type": "code",
   "execution_count": 3,
   "metadata": {
    "vscode": {
     "languageId": "r"
    }
   },
   "outputs": [],
   "source": [
    "options(repr.plot.width = 18, repr.plot.height = 17, repr.plot.pointsize = 24)"
   ]
  },
  {
   "cell_type": "code",
   "execution_count": 4,
   "metadata": {
    "vscode": {
     "languageId": "r"
    }
   },
   "outputs": [],
   "source": [
    "library(future)"
   ]
  },
  {
   "cell_type": "code",
   "execution_count": 5,
   "metadata": {
    "vscode": {
     "languageId": "r"
    }
   },
   "outputs": [
    {
     "data": {
      "text/html": [
       "<pre class=language-r><code>structure(function (..., workers = 4, envir = parent.frame()) \n",
       "strategy(..., workers = workers, envir = envir), class = c(\"FutureStrategy\", \n",
       "\"tweaked\", \"multicore\", \"multiprocess\", \"future\", \"function\"), call = plan(\"multicore\", \n",
       "<span style=white-space:pre-wrap>    workers = 4))</span></code></pre>"
      ],
      "text/latex": [
       "\\begin{minted}{r}\n",
       "structure(function (..., workers = 4, envir = parent.frame()) \n",
       "strategy(..., workers = workers, envir = envir), class = c(\"FutureStrategy\", \n",
       "\"tweaked\", \"multicore\", \"multiprocess\", \"future\", \"function\"), call = plan(\"multicore\", \n",
       "    workers = 4))\n",
       "\\end{minted}"
      ],
      "text/markdown": [
       "```r\n",
       "structure(function (..., workers = 4, envir = parent.frame()) \n",
       "strategy(..., workers = workers, envir = envir), class = c(\"FutureStrategy\", \n",
       "\"tweaked\", \"multicore\", \"multiprocess\", \"future\", \"function\"), call = plan(\"multicore\", \n",
       "    workers = 4))\n",
       "```"
      ],
      "text/plain": [
       "multicore:\n",
       "- args: function (..., workers = 4, envir = parent.frame())\n",
       "- tweaked: TRUE\n",
       "- call: plan(\"multicore\", workers = 4)"
      ]
     },
     "metadata": {},
     "output_type": "display_data"
    }
   ],
   "source": [
    "plan(\"multicore\", workers = 4)\n",
    "plan()"
   ]
  },
  {
   "cell_type": "markdown",
   "metadata": {},
   "source": [
    "Loading of the cell ranger matrix"
   ]
  },
  {
   "cell_type": "code",
   "execution_count": 58,
   "metadata": {
    "vscode": {
     "languageId": "r"
    }
   },
   "outputs": [],
   "source": [
    "SS_E11_5_A.data<-Read10X(\"/work/project/fragencode/workspace/ramiro_gastrulation/cellranger_count/SS_E11_5_A_arcref/outs/filtered_feature_bc_matrix\")\n",
    "SS_E11_5_B.data<-Read10X(\"/work/project/fragencode/workspace/ramiro_gastrulation/cellranger_count/SS_E11_5_B_arcref/outs/filtered_feature_bc_matrix\")\n",
    "SS_E12_A.data<-Read10X(\"/work/project/fragencode/workspace/ramiro_gastrulation/cellranger_count/SS_E12_A_arcref/outs/filtered_feature_bc_matrix\")\n",
    "SS_E12_B.data<-Read10X(\"/work/project/fragencode/workspace/ramiro_gastrulation/cellranger_count/SS_E12_B_arcref/outs/filtered_feature_bc_matrix\")\n",
    "SS_E12_5_A.data<-Read10X(\"/work/project/fragencode/workspace/ramiro_gastrulation/cellranger_count/SS_E12_5_A_arcref/outs/filtered_feature_bc_matrix\")\n",
    "SS_E12_5_B.data<-Read10X(\"/work/project/fragencode/workspace/ramiro_gastrulation/cellranger_count/SS_E12_5_B_arcref/outs/filtered_feature_bc_matrix\")\n",
    "SS_E13_A.data<-Read10X(\"/work/project/fragencode/workspace/ramiro_gastrulation/cellranger_count/SS_E13_A_arcref/outs/filtered_feature_bc_matrix\")\n",
    "SS_E13_B.data<-Read10X(\"/work/project/fragencode/workspace/ramiro_gastrulation/cellranger_count/SS_E13_B_arcref/outs/filtered_feature_bc_matrix\")\n",
    "SS_E13_C.data<-Read10X(\"/work/project/fragencode/workspace/ramiro_gastrulation/cellranger_count/SS_E13_C_arcref/outs/filtered_feature_bc_matrix\")\n",
    "SS_E13_D.data<-Read10X(\"/work/project/fragencode/workspace/ramiro_gastrulation/cellranger_count/SS_E13_D_arcref_2/outs/filtered_feature_bc_matrix\")\n",
    "SS_E13_E.data<-Read10X(\"/work/project/fragencode/workspace/ramiro_gastrulation/cellranger_count/SS_E13_E_arcref_2/outs/filtered_feature_bc_matrix\")\n",
    "SS_E13_5_A.data<-Read10X(\"/work/project/fragencode/workspace/ramiro_gastrulation/cellranger_count/SS_E13_5_A_arcref/outs/filtered_feature_bc_matrix\")\n",
    "SS_E13_5_B.data<-Read10X(\"/work/project/fragencode/workspace/ramiro_gastrulation/cellranger_count/SS_E13_5_B_arcref/outs/filtered_feature_bc_matrix\")\n",
    "SS_E13_5_C.data<-Read10X(\"/work/project/fragencode/workspace/ramiro_gastrulation/cellranger_count/SS_E13_5_C_arcref/outs/filtered_feature_bc_matrix\")\n",
    "SS_E13_5_D.data<-Read10X(\"/work/project/fragencode/workspace/ramiro_gastrulation/cellranger_count/SS_E13_5_D_arcref/outs/filtered_feature_bc_matrix\")\n",
    "SS_E14_A.data<-Read10X(\"/work/project/fragencode/workspace/ramiro_gastrulation/cellranger_count/SS_E14_A_arcref/outs/filtered_feature_bc_matrix\")\n",
    "SS_E14_B.data<-Read10X(\"/work/project/fragencode/workspace/ramiro_gastrulation/cellranger_count/SS_E14_B_arcref/outs/filtered_feature_bc_matrix\")\n",
    "SS_E14_5_B.data<-Read10X(\"/work/project/fragencode/workspace/ramiro_gastrulation/cellranger_count/SS_E14_5_B_arcref/outs/filtered_feature_bc_matrix\")\n",
    "SS_E14_5_C.data<-Read10X(\"/work/project/fragencode/workspace/ramiro_gastrulation/cellranger_count/SS_E14_5_C_arcref/outs/filtered_feature_bc_matrix\")\n",
    "SS_E14_5_D.data<-Read10X(\"/work/project/fragencode/workspace/ramiro_gastrulation/cellranger_count/SS_E14_5_D_arcref/outs/filtered_feature_bc_matrix\")\n",
    "SS_E15_A.data<-Read10X(\"/work/project/fragencode/workspace/ramiro_gastrulation/cellranger_count/SS_E15_A_arcref/outs/filtered_feature_bc_matrix\")\n",
    "SS_E15_B.data<-Read10X(\"/work/project/fragencode/workspace/ramiro_gastrulation/cellranger_count/SS_E15_B_arcref/outs/filtered_feature_bc_matrix\")\n",
    "SS_E15_C.data<-Read10X(\"/work/project/fragencode/workspace/ramiro_gastrulation/cellranger_count/SS_E15_C_arcref/outs/filtered_feature_bc_matrix\")"
   ]
  },
  {
   "cell_type": "code",
   "execution_count": null,
   "metadata": {
    "scrolled": true,
    "vscode": {
     "languageId": "r"
    }
   },
   "outputs": [],
   "source": [
    "SS_E11_5_A <- CreateSeuratObject(counts = SS_E11_5_A.data)\n",
    "SS_E11_5_B <- CreateSeuratObject(counts = SS_E11_5_B.data)\n",
    "SS_E12_A <- CreateSeuratObject(counts = SS_E12_A.data)\n",
    "SS_E13_5_B <- CreateSeuratObject(counts = SS_E13_5_B.data)\n",
    "SS_E13_A <- CreateSeuratObject(counts = SS_E13_A.data)\n",
    "SS_E13_D <- CreateSeuratObject(counts = SS_E13_D.data)\n",
    "SS_E14_5_B <- CreateSeuratObject(counts = SS_E14_5_B.data)\n",
    "SS_E14_A <- CreateSeuratObject(counts = SS_E14_A.data)\n",
    "SS_E15_B <- CreateSeuratObject(counts = SS_E15_B.data)\n",
    "SS_E12_5_A <- CreateSeuratObject(counts = SS_E12_5_A.data)\n",
    "SS_E12_B <- CreateSeuratObject(counts = SS_E12_B.data)\n",
    "SS_E13_5_C <- CreateSeuratObject(counts = SS_E13_5_C.data)\n",
    "SS_E13_B <- CreateSeuratObject(counts = SS_E13_B.data)\n",
    "SS_E13_E <- CreateSeuratObject(counts = SS_E13_E.data)\n",
    "SS_E14_5_C <- CreateSeuratObject(counts = SS_E14_5_C.data)\n",
    "SS_E14_B <- CreateSeuratObject(counts = SS_E14_B.data)\n",
    "SS_E15_C <- CreateSeuratObject(counts = SS_E15_C.data)\n",
    "SS_E12_5_B <- CreateSeuratObject(counts = SS_E12_5_B.data)\n",
    "SS_E13_5_A <- CreateSeuratObject(counts = SS_E13_5_A.data)\n",
    "SS_E13_5_D <- CreateSeuratObject(counts = SS_E13_5_D.data)\n",
    "SS_E13_C <- CreateSeuratObject(counts = SS_E13_C.data)\n",
    "SS_E14_5_D <- CreateSeuratObject(counts = SS_E14_5_D.data)\n",
    "SS_E15_A <- CreateSeuratObject(counts = SS_E15_A.data)"
   ]
  },
  {
   "cell_type": "markdown",
   "metadata": {},
   "source": [
    "Annotation of samples"
   ]
  },
  {
   "cell_type": "code",
   "execution_count": 60,
   "metadata": {
    "vscode": {
     "languageId": "r"
    }
   },
   "outputs": [],
   "source": [
    "SS_E11_5_A$SAMP <- \"J11.5A\"\n",
    "SS_E11_5_B$SAMP <- \"J11.5B\"\n",
    "SS_E12_A$SAMP <- \"E12.A\"\n",
    "SS_E13_5_B$SAMP <- \"E13.5B\"\n",
    "SS_E13_A$SAMP <- \"E13.A\"\n",
    "SS_E13_D$SAMP <- \"E13.D\"\n",
    "SS_E14_5_B$SAMP <- \"E14.5B\"\n",
    "SS_E14_A$SAMP <- \"E14.A\"\n",
    "SS_E15_B$SAMP <- \"E15.B\"\n",
    "SS_E12_5_A$SAMP <- \"E12.5.A\"\n",
    "SS_E12_B$SAMP <- \"E12.B\"\n",
    "SS_E13_5_C$SAMP <- \"E13.5.C\"\n",
    "SS_E13_B$SAMP <- \"E13.B\"\n",
    "SS_E13_E$SAMP <- \"E13.E\"\n",
    "SS_E14_5_C$SAMP <- \"E14.5.C\"\n",
    "SS_E14_B$SAMP <- \"E14.B\"\n",
    "SS_E15_C$SAMP <- \"E14.C\"\n",
    "SS_E12_5_B$SAMP <- \"E12.5.B\"\n",
    "SS_E13_5_A$SAMP <- \"E13.5.A\"\n",
    "SS_E13_5_D$SAMP <- \"E13.5.D\"\n",
    "SS_E13_C$SAMP <- \"E13.C\"\n",
    "SS_E14_5_D$SAMP <- \"E14.5.D\"\n",
    "SS_E15_A$SAMP <- \"E15.A\""
   ]
  },
  {
   "cell_type": "markdown",
   "metadata": {},
   "source": [
    "# QC : mitochondrial genes"
   ]
  },
  {
   "cell_type": "code",
   "execution_count": 62,
   "metadata": {
    "vscode": {
     "languageId": "r"
    }
   },
   "outputs": [],
   "source": [
    "# Connect to AnnotationHub\n",
    "ah <- AnnotationHub()\n",
    "\n",
    "# Access the Ensembl database for organism\n",
    "ahDb <- query(ah, \n",
    "              pattern = c(\"Sus scrofa\", \"EnsDb\"), \n",
    "              ignore.case = TRUE)"
   ]
  },
  {
   "cell_type": "code",
   "execution_count": 63,
   "metadata": {
    "vscode": {
     "languageId": "r"
    }
   },
   "outputs": [],
   "source": [
    "id <- ahDb %>%\n",
    "  mcols() %>%\n",
    "  rownames() %>%\n",
    "  tail(n = 1)"
   ]
  },
  {
   "cell_type": "code",
   "execution_count": 64,
   "metadata": {
    "vscode": {
     "languageId": "r"
    }
   },
   "outputs": [
    {
     "name": "stderr",
     "output_type": "stream",
     "text": [
      "loading from cache\n",
      "\n"
     ]
    }
   ],
   "source": [
    "edb <- ah[[id]]"
   ]
  },
  {
   "cell_type": "markdown",
   "metadata": {},
   "source": [
    "Extract gene-level information from database"
   ]
  },
  {
   "cell_type": "code",
   "execution_count": 65,
   "metadata": {
    "vscode": {
     "languageId": "r"
    }
   },
   "outputs": [],
   "source": [
    "annotations <- genes(edb, \n",
    "                     return.type = \"data.frame\") "
   ]
  },
  {
   "cell_type": "markdown",
   "metadata": {},
   "source": [
    "Select annotations of interest"
   ]
  },
  {
   "cell_type": "code",
   "execution_count": 66,
   "metadata": {
    "vscode": {
     "languageId": "r"
    }
   },
   "outputs": [],
   "source": [
    "annotations <- annotations %>%\n",
    "  dplyr::select(gene_id, gene_name, gene_biotype, seq_name, description, entrezid)"
   ]
  },
  {
   "cell_type": "markdown",
   "metadata": {},
   "source": [
    "Extract IDs for mitochondrial genes"
   ]
  },
  {
   "cell_type": "code",
   "execution_count": 67,
   "metadata": {
    "vscode": {
     "languageId": "r"
    }
   },
   "outputs": [],
   "source": [
    "mt <- annotations %>%\n",
    "        dplyr::filter(seq_name == \"MT\")\n",
    "mt$gene_name <- ifelse(mt$gene_name == '', mt$gene_id, mt$gene_name)\n",
    "mt <- mt$gene_name"
   ]
  },
  {
   "cell_type": "markdown",
   "metadata": {},
   "source": [
    "Count Mt RNA percentage"
   ]
  },
  {
   "cell_type": "code",
   "execution_count": 68,
   "metadata": {
    "vscode": {
     "languageId": "r"
    }
   },
   "outputs": [],
   "source": [
    "SS_E11_5_A[[\"percent.mt\"]] <- Matrix::colSums(counts[which(rownames(counts) %in% mt),], na.rm = T)/Matrix::colSums(counts, na.rm = T)\n",
    "counts <- GetAssayData(object = SS_E11_5_B, slot = \"counts\")\n",
    "SS_E11_5_B[[\"percent.mt\"]] <- Matrix::colSums(counts[which(rownames(counts) %in% mt),], na.rm = T)/Matrix::colSums(counts, na.rm = T)\n",
    "counts <- GetAssayData(object = SS_E12_A, slot = \"counts\")\n",
    "SS_E12_A[[\"percent.mt\"]] <- Matrix::colSums(counts[which(rownames(counts) %in% mt),], na.rm = T)/Matrix::colSums(counts, na.rm = T)\n",
    "counts <- GetAssayData(object = SS_E13_5_B, slot = \"counts\")\n",
    "SS_E13_5_B[[\"percent.mt\"]] <- Matrix::colSums(counts[which(rownames(counts) %in% mt),], na.rm = T)/Matrix::colSums(counts, na.rm = T)\n",
    "counts <- GetAssayData(object = SS_E13_A, slot = \"counts\")\n",
    "SS_E13_A[[\"percent.mt\"]] <- Matrix::colSums(counts[which(rownames(counts) %in% mt),], na.rm = T)/Matrix::colSums(counts, na.rm = T)\n",
    "counts <- GetAssayData(object = SS_E13_D, slot = \"counts\")\n",
    "SS_E13_D[[\"percent.mt\"]] <- Matrix::colSums(counts[which(rownames(counts) %in% mt),], na.rm = T)/Matrix::colSums(counts, na.rm = T)\n",
    "counts <- GetAssayData(object = SS_E14_5_B, slot = \"counts\")\n",
    "SS_E14_5_B[[\"percent.mt\"]] <- Matrix::colSums(counts[which(rownames(counts) %in% mt),], na.rm = T)/Matrix::colSums(counts, na.rm = T)\n",
    "counts <- GetAssayData(object = SS_E14_A, slot = \"counts\")\n",
    "SS_E14_A[[\"percent.mt\"]] <- Matrix::colSums(counts[which(rownames(counts) %in% mt),], na.rm = T)/Matrix::colSums(counts, na.rm = T)\n",
    "counts <- GetAssayData(object = SS_E15_B, slot = \"counts\")\n",
    "SS_E15_B[[\"percent.mt\"]] <- Matrix::colSums(counts[which(rownames(counts) %in% mt),], na.rm = T)/Matrix::colSums(counts, na.rm = T)\n",
    "counts <- GetAssayData(object = SS_E12_5_A, slot = \"counts\")\n",
    "SS_E12_5_A[[\"percent.mt\"]] <- Matrix::colSums(counts[which(rownames(counts) %in% mt),], na.rm = T)/Matrix::colSums(counts, na.rm = T)\n",
    "counts <- GetAssayData(object = SS_E12_B, slot = \"counts\")\n",
    "SS_E12_B[[\"percent.mt\"]] <- Matrix::colSums(counts[which(rownames(counts) %in% mt),], na.rm = T)/Matrix::colSums(counts, na.rm = T)\n",
    "counts <- GetAssayData(object = SS_E13_5_C, slot = \"counts\")\n",
    "SS_E13_5_C[[\"percent.mt\"]] <- Matrix::colSums(counts[which(rownames(counts) %in% mt),], na.rm = T)/Matrix::colSums(counts, na.rm = T)\n",
    "counts <- GetAssayData(object = SS_E13_B, slot = \"counts\")\n",
    "SS_E13_B[[\"percent.mt\"]] <- Matrix::colSums(counts[which(rownames(counts) %in% mt),], na.rm = T)/Matrix::colSums(counts, na.rm = T)\n",
    "counts <- GetAssayData(object = SS_E13_E, slot = \"counts\")\n",
    "SS_E13_E[[\"percent.mt\"]] <- Matrix::colSums(counts[which(rownames(counts) %in% mt),], na.rm = T)/Matrix::colSums(counts, na.rm = T)\n",
    "counts <- GetAssayData(object = SS_E14_5_C, slot = \"counts\")\n",
    "SS_E14_5_C[[\"percent.mt\"]] <- Matrix::colSums(counts[which(rownames(counts) %in% mt),], na.rm = T)/Matrix::colSums(counts, na.rm = T)\n",
    "counts <- GetAssayData(object = SS_E14_B, slot = \"counts\")\n",
    "SS_E14_B[[\"percent.mt\"]] <- Matrix::colSums(counts[which(rownames(counts) %in% mt),], na.rm = T)/Matrix::colSums(counts, na.rm = T)\n",
    "counts <- GetAssayData(object = SS_E15_C, slot = \"counts\")\n",
    "SS_E15_C[[\"percent.mt\"]] <- Matrix::colSums(counts[which(rownames(counts) %in% mt),], na.rm = T)/Matrix::colSums(counts, na.rm = T)\n",
    "counts <- GetAssayData(object = SS_E12_5_B, slot = \"counts\")\n",
    "SS_E12_5_B[[\"percent.mt\"]] <- Matrix::colSums(counts[which(rownames(counts) %in% mt),], na.rm = T)/Matrix::colSums(counts, na.rm = T)\n",
    "counts <- GetAssayData(object = SS_E13_5_A, slot = \"counts\")\n",
    "SS_E13_5_A[[\"percent.mt\"]] <- Matrix::colSums(counts[which(rownames(counts) %in% mt),], na.rm = T)/Matrix::colSums(counts, na.rm = T)\n",
    "counts <- GetAssayData(object = SS_E13_5_D, slot = \"counts\")\n",
    "SS_E13_5_D[[\"percent.mt\"]] <- Matrix::colSums(counts[which(rownames(counts) %in% mt),], na.rm = T)/Matrix::colSums(counts, na.rm = T)\n",
    "counts <- GetAssayData(object = SS_E13_C, slot = \"counts\")\n",
    "SS_E13_C[[\"percent.mt\"]] <- Matrix::colSums(counts[which(rownames(counts) %in% mt),], na.rm = T)/Matrix::colSums(counts, na.rm = T)\n",
    "counts <- GetAssayData(object = SS_E14_5_D, slot = \"counts\")\n",
    "SS_E14_5_D[[\"percent.mt\"]] <- Matrix::colSums(counts[which(rownames(counts) %in% mt),], na.rm = T)/Matrix::colSums(counts, na.rm = T)\n",
    "counts <- GetAssayData(object = SS_E15_A, slot = \"counts\")\n",
    "SS_E15_A[[\"percent.mt\"]] <- Matrix::colSums(counts[which(rownames(counts) %in% mt),], na.rm = T)/Matrix::colSums(counts, na.rm = T)"
   ]
  },
  {
   "cell_type": "markdown",
   "metadata": {},
   "source": [
    "# merging of the different samples"
   ]
  },
  {
   "cell_type": "code",
   "execution_count": 70,
   "metadata": {
    "vscode": {
     "languageId": "r"
    }
   },
   "outputs": [
    {
     "name": "stderr",
     "output_type": "stream",
     "text": [
      "Warning message in CheckDuplicateCellNames(object.list = objects):\n",
      "\"Some cell names are duplicated across objects provided. Renaming to enforce unique cell names.\"\n"
     ]
    }
   ],
   "source": [
    "embryo_gastrulation <- merge(x = SS_E11_5_A, y = c(SS_E11_5_B, SS_E12_A, SS_E12_B, SS_E12_5_A, SS_E12_5_B, SS_E13_A, SS_E13_B, SS_E13_C, SS_E13_D, SS_E13_E, SS_E13_5_A, SS_E13_5_B, SS_E13_5_C, SS_E13_5_D, SS_E14_A, SS_E14_B, SS_E14_5_B, SS_E14_5_C, SS_E14_5_D, SS_E15_A, SS_E15_B, SS_E15_C))"
   ]
  },
  {
   "cell_type": "code",
   "execution_count": 71,
   "metadata": {
    "vscode": {
     "languageId": "r"
    }
   },
   "outputs": [],
   "source": [
    "gastrulation_metadata = read.csv('/home/adufour/work/gastrulation_data/pig_meta_data_new.csv',sep=',')"
   ]
  },
  {
   "cell_type": "code",
   "execution_count": 73,
   "metadata": {
    "vscode": {
     "languageId": "r"
    }
   },
   "outputs": [],
   "source": [
    "embryo_gastrulation <- subset(embryo_gastrulation, cells = gastrulation_metadata$cell_barcode)"
   ]
  },
  {
   "cell_type": "code",
   "execution_count": 76,
   "metadata": {
    "vscode": {
     "languageId": "r"
    }
   },
   "outputs": [],
   "source": [
    "rownames(gastrulation_metadata) <- gastrulation_metadata$cell_barcode"
   ]
  },
  {
   "cell_type": "code",
   "execution_count": 77,
   "metadata": {
    "vscode": {
     "languageId": "r"
    }
   },
   "outputs": [],
   "source": [
    "embryo_gastrulation@meta.data <- gastrulation_metadata[rownames(embryo_gastrulation@meta.data),]"
   ]
  },
  {
   "cell_type": "code",
   "execution_count": 81,
   "metadata": {
    "vscode": {
     "languageId": "r"
    }
   },
   "outputs": [],
   "source": [
    "saveRDS(embryo_gastrulation, file = \"/home/adufour/work/rds_storage/gastrulation/embryo_E11_E15.rds\")"
   ]
  }
 ],
 "metadata": {
  "kernelspec": {
   "display_name": "R [conda env:scrna]",
   "language": "R",
   "name": "conda-env-scrna-r"
  },
  "language_info": {
   "codemirror_mode": "r",
   "file_extension": ".r",
   "mimetype": "text/x-r-source",
   "name": "R",
   "pygments_lexer": "r",
   "version": "4.3.1"
  }
 },
 "nbformat": 4,
 "nbformat_minor": 4
}
